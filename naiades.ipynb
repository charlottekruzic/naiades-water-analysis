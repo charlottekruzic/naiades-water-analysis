{
 "cells": [
  {
   "cell_type": "markdown",
   "metadata": {},
   "source": [
    "# Projet naiades\n",
    "\n",
    "par Charlotte Kruzic & Zoé Marquis\n",
    "\n",
    "UE Entreposage et protection des données\n",
    "\n",
    "Quel lien peut-on établir entre la physico-\n",
    "chimie de l’eau et son état biologique ?"
   ]
  },
  {
   "cell_type": "markdown",
   "metadata": {},
   "source": [
    "## TODO ZOE CHARLOTTE : \n",
    "Le problème posé. Le sujet est volontairement ouvert, il est nécessaire de bien cadrer la question\n",
    "que l’on se pose, d’identifier les limites imposées et celles que vous décidez d’ajouter.\n",
    "\n",
    "- reprendre dans le sujet les différentes contraintes\n",
    "- puis formuler notre problématique \n",
    "\n",
    "une liste en dessous : \n",
    "\n",
    "- Comment l'évolution temporelle d'un paramètre physico-chimique spécifique (par exemple, les nitrates) affecte-t-elle l'état biologique de l'eau, et peut-on caractériser cette relation à l'aide de techniques de clustering?\n",
    "- Un modèle de régression peut-il prédire avec précision l'indice biologique (I2M2) à partir des paramètres physico-chimiques, et si oui, quelles sont les implications pour la gestion et la surveillance de l'eau?\n",
    "- Comment les variations spatiales des paramètres physico-chimiques et des indices biologiques diffèrent-elles entre les hydroécorégions de France, et quelles informations peut-on tirer de la comparaison de ces modèles avec les données géographiques?\n",
    "- Comment les événements exceptionnels et les cycles saisonniers influencent-ils la relation entre les paramètres physico-chimiques et les indices biologiques, et quelles stratégies peuvent être employées pour prendre en compte ces facteurs dans les efforts de gestion et de surveillance de l'eau?\n",
    "\n",
    "- pn pourra revoir toute la démarche pour chercher une problématique assez ciblé sur ce qu'on a fait"
   ]
  },
  {
   "cell_type": "code",
   "execution_count": 1,
   "metadata": {},
   "outputs": [],
   "source": [
    "import geopandas as gpd\n",
    "\n",
    "from matplotlib.patches import Patch\n",
    "import matplotlib.pyplot as plt\n",
    "\n",
    "import numpy as np\n",
    "\n",
    "import pandas as pd\n",
    "import plotly.express as px\n",
    "import plotly.graph_objects as go\n",
    "\n",
    "from scipy.stats import zscore\n",
    "\n",
    "import shapely.geometry as geom\n",
    "\n",
    "import warnings\n",
    "warnings.filterwarnings(\"ignore\", category=FutureWarning)\n",
    "\n",
    "import zstandard as zstd\n"
   ]
  },
  {
   "cell_type": "markdown",
   "metadata": {
    "vscode": {
     "languageId": "plaintext"
    }
   },
   "source": [
    "## Chargement des données"
   ]
  },
  {
   "cell_type": "code",
   "execution_count": 2,
   "metadata": {},
   "outputs": [],
   "source": [
    "# stations\n",
    "df_load_stations = pd.read_csv('data/stations_hb.csv.zst',sep=';',escapechar = '\\\\')\n",
    "df_stations = df_load_stations.copy() # copy pour nettoyer etc mais garder l'original pour recouperer les infos"
   ]
  },
  {
   "cell_type": "code",
   "execution_count": 3,
   "metadata": {},
   "outputs": [],
   "source": [
    "# pc : physicochimie\n",
    "f=\"data/donnees_physicochimie.csv.zst\"\n",
    "pc_sample = pd.read_csv(f,nrows=1)\n",
    "pc_list_cols = pc_sample.columns\n",
    "pc_list_cat = pc_list_cols[pc_list_cols.str.startswith((\n",
    "    'Lb','Nom','Mnemo',\n",
    "    'Cd','Sym','Com'))]\n",
    "\n",
    "pc_dict_cat = {col: 'category' for col in pc_list_cat}\n",
    "\n",
    "df_load_pc = pd.read_csv(\n",
    "        f,\n",
    "        sep=',',\n",
    "        engine='c',\n",
    "        escapechar='\\\\',\n",
    "        dtype=pc_dict_cat,\n",
    "        parse_dates=[7],\n",
    "        iterator=False)\n",
    "df_pc = df_load_pc.copy()"
   ]
  },
  {
   "cell_type": "code",
   "execution_count": 4,
   "metadata": {},
   "outputs": [],
   "source": [
    "# hydrobio\n",
    "df_load_hydrobio = pd.read_csv('data/donnees_hydrobio.csv.zst',sep=',',escapechar = '\\\\')\n",
    "df_hydrobio = df_load_hydrobio.copy()"
   ]
  },
  {
   "cell_type": "code",
   "execution_count": 5,
   "metadata": {},
   "outputs": [],
   "source": [
    "# hydroecoregion\n",
    "df_load_hydroregions = gpd.read_file(\"data/Hydroecoregion1-shp.zip\")\n",
    "df_hydroregions = df_load_hydroregions.copy()"
   ]
  },
  {
   "cell_type": "markdown",
   "metadata": {},
   "source": [
    "## Analyse exploratoire\n",
    "\n",
    "TODO ZOE rédiger : \n",
    "Objectif : que contient chaque dataset, identifier les colonnes à supprimer, comment remodeler les données..."
   ]
  },
  {
   "cell_type": "markdown",
   "metadata": {},
   "source": [
    "### Données géographiques"
   ]
  },
  {
   "cell_type": "code",
   "execution_count": 6,
   "metadata": {},
   "outputs": [
    {
     "data": {
      "text/html": [
       "<div>\n",
       "<style scoped>\n",
       "    .dataframe tbody tr th:only-of-type {\n",
       "        vertical-align: middle;\n",
       "    }\n",
       "\n",
       "    .dataframe tbody tr th {\n",
       "        vertical-align: top;\n",
       "    }\n",
       "\n",
       "    .dataframe thead th {\n",
       "        text-align: right;\n",
       "    }\n",
       "</style>\n",
       "<table border=\"1\" class=\"dataframe\">\n",
       "  <thead>\n",
       "    <tr style=\"text-align: right;\">\n",
       "      <th></th>\n",
       "      <th>CdStationMesureEauxSurface</th>\n",
       "      <th>LbStationMesureEauxSurface</th>\n",
       "      <th>DurStationMesureEauxSurface</th>\n",
       "      <th>CoordXStationMesureEauxSurface</th>\n",
       "      <th>CoordYStationMesureEauxSurface</th>\n",
       "      <th>CdProjStationMesureEauxSurface</th>\n",
       "      <th>LibelleProjection</th>\n",
       "      <th>CodeCommune</th>\n",
       "      <th>LbCommune</th>\n",
       "      <th>CodeDepartement</th>\n",
       "      <th>...</th>\n",
       "      <th>DateMAJInfosStationMesureEauxSurface</th>\n",
       "      <th>FinaliteStationMesureEauxSurface</th>\n",
       "      <th>LocPreciseStationMesureEauxSurface</th>\n",
       "      <th>CodeNatureStationMesureEauxSurface</th>\n",
       "      <th>LibelleNatureStationMesureEauxSurface</th>\n",
       "      <th>AltitudePointCaracteritisque</th>\n",
       "      <th>PkPointTronconEntiteHydroPrincipale</th>\n",
       "      <th>PremierMoisAnneeEtiage</th>\n",
       "      <th>SuperficieBassinVersantReel</th>\n",
       "      <th>SuperficieBassinVersantTopo</th>\n",
       "    </tr>\n",
       "  </thead>\n",
       "  <tbody>\n",
       "    <tr>\n",
       "      <th>0</th>\n",
       "      <td>01000477</td>\n",
       "      <td>LA SLACK À RINXENT (62)</td>\n",
       "      <td>NaN</td>\n",
       "      <td>610228.78</td>\n",
       "      <td>7078879.90</td>\n",
       "      <td>26</td>\n",
       "      <td>RGF93 / Lambert 93</td>\n",
       "      <td>62711</td>\n",
       "      <td>RINXENT</td>\n",
       "      <td>62</td>\n",
       "      <td>...</td>\n",
       "      <td>2015-12-14 00:00:00</td>\n",
       "      <td>NaN</td>\n",
       "      <td>Lieu-dit Ferme du Château. La Planche du Devin</td>\n",
       "      <td>M</td>\n",
       "      <td>Station de mesure Manuelle</td>\n",
       "      <td>0.0</td>\n",
       "      <td>980.48</td>\n",
       "      <td>6.0</td>\n",
       "      <td>NaN</td>\n",
       "      <td>0.0</td>\n",
       "    </tr>\n",
       "    <tr>\n",
       "      <th>1</th>\n",
       "      <td>01000602</td>\n",
       "      <td>COLOGNE à BUIRE COURCELLES (80)</td>\n",
       "      <td>NaN</td>\n",
       "      <td>700318.40</td>\n",
       "      <td>6980033.60</td>\n",
       "      <td>26</td>\n",
       "      <td>RGF93 / Lambert 93</td>\n",
       "      <td>80150</td>\n",
       "      <td>BUIRE-COURCELLES</td>\n",
       "      <td>80</td>\n",
       "      <td>...</td>\n",
       "      <td>2015-12-14 00:00:00</td>\n",
       "      <td>NaN</td>\n",
       "      <td>MOULIN DE BINARD PONT D 194 E</td>\n",
       "      <td>M</td>\n",
       "      <td>Station de mesure Manuelle</td>\n",
       "      <td>0.0</td>\n",
       "      <td>992.58</td>\n",
       "      <td>6.0</td>\n",
       "      <td>NaN</td>\n",
       "      <td>0.0</td>\n",
       "    </tr>\n",
       "    <tr>\n",
       "      <th>2</th>\n",
       "      <td>01000605</td>\n",
       "      <td>L'OMIGNON À DEVISE (80)</td>\n",
       "      <td>NaN</td>\n",
       "      <td>700279.85</td>\n",
       "      <td>6973284.26</td>\n",
       "      <td>26</td>\n",
       "      <td>RGF93 / Lambert 93</td>\n",
       "      <td>80239</td>\n",
       "      <td>DEVISE</td>\n",
       "      <td>80</td>\n",
       "      <td>...</td>\n",
       "      <td>2015-12-14 00:00:00</td>\n",
       "      <td>NaN</td>\n",
       "      <td>ROUTE DE L'EGLISE</td>\n",
       "      <td>M</td>\n",
       "      <td>Station de mesure Manuelle</td>\n",
       "      <td>0.0</td>\n",
       "      <td>993.69</td>\n",
       "      <td>6.0</td>\n",
       "      <td>NaN</td>\n",
       "      <td>0.0</td>\n",
       "    </tr>\n",
       "  </tbody>\n",
       "</table>\n",
       "<p>3 rows × 39 columns</p>\n",
       "</div>"
      ],
      "text/plain": [
       "  CdStationMesureEauxSurface       LbStationMesureEauxSurface  \\\n",
       "0                   01000477          LA SLACK À RINXENT (62)   \n",
       "1                   01000602  COLOGNE à BUIRE COURCELLES (80)   \n",
       "2                   01000605          L'OMIGNON À DEVISE (80)   \n",
       "\n",
       "   DurStationMesureEauxSurface  CoordXStationMesureEauxSurface  \\\n",
       "0                          NaN                       610228.78   \n",
       "1                          NaN                       700318.40   \n",
       "2                          NaN                       700279.85   \n",
       "\n",
       "   CoordYStationMesureEauxSurface  CdProjStationMesureEauxSurface  \\\n",
       "0                      7078879.90                              26   \n",
       "1                      6980033.60                              26   \n",
       "2                      6973284.26                              26   \n",
       "\n",
       "    LibelleProjection CodeCommune         LbCommune CodeDepartement  ...  \\\n",
       "0  RGF93 / Lambert 93       62711           RINXENT              62  ...   \n",
       "1  RGF93 / Lambert 93       80150  BUIRE-COURCELLES              80  ...   \n",
       "2  RGF93 / Lambert 93       80239            DEVISE              80  ...   \n",
       "\n",
       "  DateMAJInfosStationMesureEauxSurface  FinaliteStationMesureEauxSurface  \\\n",
       "0                  2015-12-14 00:00:00                               NaN   \n",
       "1                  2015-12-14 00:00:00                               NaN   \n",
       "2                  2015-12-14 00:00:00                               NaN   \n",
       "\n",
       "               LocPreciseStationMesureEauxSurface  \\\n",
       "0  Lieu-dit Ferme du Château. La Planche du Devin   \n",
       "1                   MOULIN DE BINARD PONT D 194 E   \n",
       "2                               ROUTE DE L'EGLISE   \n",
       "\n",
       "  CodeNatureStationMesureEauxSurface LibelleNatureStationMesureEauxSurface  \\\n",
       "0                                  M            Station de mesure Manuelle   \n",
       "1                                  M            Station de mesure Manuelle   \n",
       "2                                  M            Station de mesure Manuelle   \n",
       "\n",
       "  AltitudePointCaracteritisque PkPointTronconEntiteHydroPrincipale  \\\n",
       "0                          0.0                              980.48   \n",
       "1                          0.0                              992.58   \n",
       "2                          0.0                              993.69   \n",
       "\n",
       "  PremierMoisAnneeEtiage SuperficieBassinVersantReel  \\\n",
       "0                    6.0                         NaN   \n",
       "1                    6.0                         NaN   \n",
       "2                    6.0                         NaN   \n",
       "\n",
       "  SuperficieBassinVersantTopo  \n",
       "0                         0.0  \n",
       "1                         0.0  \n",
       "2                         0.0  \n",
       "\n",
       "[3 rows x 39 columns]"
      ]
     },
     "execution_count": 6,
     "metadata": {},
     "output_type": "execute_result"
    }
   ],
   "source": [
    "df_stations.head(3)"
   ]
  },
  {
   "cell_type": "markdown",
   "metadata": {},
   "source": [
    "La table station est utile pour situer les stations ainsi que pour extraire l'identifiant pour joindre les tables sur les stations."
   ]
  },
  {
   "cell_type": "code",
   "execution_count": 7,
   "metadata": {},
   "outputs": [
    {
     "data": {
      "text/html": [
       "<div>\n",
       "<style scoped>\n",
       "    .dataframe tbody tr th:only-of-type {\n",
       "        vertical-align: middle;\n",
       "    }\n",
       "\n",
       "    .dataframe tbody tr th {\n",
       "        vertical-align: top;\n",
       "    }\n",
       "\n",
       "    .dataframe thead th {\n",
       "        text-align: right;\n",
       "    }\n",
       "</style>\n",
       "<table border=\"1\" class=\"dataframe\">\n",
       "  <thead>\n",
       "    <tr style=\"text-align: right;\">\n",
       "      <th></th>\n",
       "      <th>gid</th>\n",
       "      <th>CdHER1</th>\n",
       "      <th>NomHER1</th>\n",
       "      <th>geometry</th>\n",
       "    </tr>\n",
       "  </thead>\n",
       "  <tbody>\n",
       "    <tr>\n",
       "      <th>0</th>\n",
       "      <td>1</td>\n",
       "      <td>16</td>\n",
       "      <td>CORSE</td>\n",
       "      <td>POLYGON ((9.43319 43.00468, 9.4357 42.99999, 9...</td>\n",
       "    </tr>\n",
       "    <tr>\n",
       "      <th>1</th>\n",
       "      <td>2</td>\n",
       "      <td>12</td>\n",
       "      <td>ARMORICAIN</td>\n",
       "      <td>POLYGON ((-2.61068 48.55022, -2.61268 48.54898...</td>\n",
       "    </tr>\n",
       "    <tr>\n",
       "      <th>2</th>\n",
       "      <td>3</td>\n",
       "      <td>13</td>\n",
       "      <td>LANDES</td>\n",
       "      <td>MULTIPOLYGON (((-1.04228 45.54443, -1.03836 45...</td>\n",
       "    </tr>\n",
       "  </tbody>\n",
       "</table>\n",
       "</div>"
      ],
      "text/plain": [
       "   gid  CdHER1     NomHER1                                           geometry\n",
       "0    1      16       CORSE  POLYGON ((9.43319 43.00468, 9.4357 42.99999, 9...\n",
       "1    2      12  ARMORICAIN  POLYGON ((-2.61068 48.55022, -2.61268 48.54898...\n",
       "2    3      13      LANDES  MULTIPOLYGON (((-1.04228 45.54443, -1.03836 45..."
      ]
     },
     "execution_count": 7,
     "metadata": {},
     "output_type": "execute_result"
    }
   ],
   "source": [
    "df_hydroregions.head(3)"
   ]
  },
  {
   "cell_type": "code",
   "execution_count": 8,
   "metadata": {},
   "outputs": [
    {
     "name": "stdout",
     "output_type": "stream",
     "text": [
      "CdHER1\n",
      "16    1\n",
      "12    1\n",
      "10    1\n",
      "9     1\n",
      "3     1\n",
      "17    1\n",
      "6     1\n",
      "5     1\n",
      "19    1\n",
      "8     1\n",
      "15    1\n",
      "4     1\n",
      "18    1\n",
      "20    1\n",
      "7     1\n",
      "2     1\n",
      "21    1\n",
      "11    1\n",
      "1     1\n",
      "14    1\n",
      "13    1\n",
      "22    1\n",
      "Name: count, dtype: int64\n"
     ]
    }
   ],
   "source": [
    "# On vérifie qu'on a bien un CdHER1 pour un NomHER1\n",
    "print(df_hydroregions['CdHER1'].value_counts())"
   ]
  },
  {
   "cell_type": "markdown",
   "metadata": {},
   "source": [
    "On a bien 1 CdHER1 pour 1 NomHER1, donc on va afficher la carte avec NomHER1 car cela est plus parlant pour l'utilisateur."
   ]
  },
  {
   "cell_type": "code",
   "execution_count": 9,
   "metadata": {},
   "outputs": [
    {
     "data": {
      "image/png": "[encoded data removed]",
      "text/plain": [
       "<Figure size 2000x1000 with 1 Axes>"
      ]
     },
     "metadata": {},
     "output_type": "display_data"
    }
   ],
   "source": [
    "# Afficher les hydroeco regions\n",
    "\n",
    "fig, ax = plt.subplots(figsize=(20, 10))\n",
    "\n",
    "colors = plt.colormaps['tab20']\n",
    "hatches = ['/', '\\\\', 'o', '.']\n",
    "legend_elements = []\n",
    "\n",
    "for i, (name, region) in enumerate(df_hydroregions.groupby('NomHER1')):\n",
    "    patch = region.plot(ax=ax, color=colors(i), hatch=hatches[i % len(hatches)], edgecolor='black', label=name)\n",
    "    legend_elements.append(Patch(facecolor=colors(i), hatch=hatches[i % len(hatches)], label=name))\n",
    "\n",
    "ax.set_title('Hydroecoregions')\n",
    "\n",
    "ax.legend(handles=legend_elements, title='NomHER1', bbox_to_anchor=(1.05, 1), loc='upper left',  fontsize='large', title_fontsize='large', handletextpad=1)\n",
    "\n",
    "plt.show()\n"
   ]
  },
  {
   "cell_type": "code",
   "execution_count": null,
   "metadata": {},
   "outputs": [
    {
     "data": {
      "image/png": "[encoded data removed]",
      "text/plain": [
       "<Figure size 1000x3000 with 1 Axes>"
      ]
     },
     "metadata": {},
     "output_type": "display_data"
    }
   ],
   "source": [
    "# Situons les différentes stations de la table station dans la carte des hydroecoregions\n",
    "\n",
    "# TODO CHARLOTTE : mettre la bonne forme de projection avec la bonne couleur pour les stations comme la cellule juste au dessus \n",
    "\n",
    "crs_lambert = 'PROJCS[\"RGF_1993_Lambert_93\",GEOGCS[\"GCS_RGF_1993\",DATUM[\"D_RGF_1993\",SPHEROID[\"GRS_1980\",6378137.0,298.257222101]],PRIMEM[\"Greenwich\",0.0],UNIT[\"Degree\",0.0174532925199433]],PROJECTION[\"Lambert_Conformal_Conic\"],PARAMETER[\"False_Easting\",700000.0],PARAMETER[\"False_Northing\",6600000.0],PARAMETER[\"Central_Meridian\",3.0],PARAMETER[\"Standard_Parallel_1\",49.0],PARAMETER[\"Standard_Parallel_2\",44.0],PARAMETER[\"Latitude_Of_Origin\",46.5],UNIT[\"Meter\",1.0]]'\n",
    "x_col = 'CoordXStationMesureEauxSurface'\n",
    "y_col = 'CoordYStationMesureEauxSurface'\n",
    "carto_i2m2 = gpd.GeoDataFrame(df_stations,crs=crs_lambert ,\n",
    "                        geometry = gpd.GeoSeries(df_stations.agg(lambda x:geom.Point(x.loc[x_col],x.loc[y_col])  ,axis=1)))\n",
    "\n",
    "HER_stations=carto_i2m2.sjoin(df_hydroregions.to_crs(crs_lambert),predicate='within').to_crs(crs_lambert)\n",
    "\n",
    "fig, ax = plt.subplots(1, 1, figsize=(10, 30))\n",
    "df_hydroregions.plot(column='NomHER1', legend=True, ax=ax)   \n",
    "HER_lambert = df_hydroregions.to_crs(crs_lambert)\n",
    "HER_stations.plot(column='NomHER1', legend=True, ax=ax, markersize=1)\n",
    "HER_lambert.boundary.plot(ax=ax, color='black')\n",
    "\n",
    "ax.legend(handles=legend_elements, title='NomHER1', bbox_to_anchor=(1.05, 1), loc='upper left',  fontsize='large', title_fontsize='large', handletextpad=1)\n",
    "\n",
    "plt.show()\n"
   ]
  },
  {
   "cell_type": "markdown",
   "metadata": {},
   "source": [
    "### Données physico-chimiques et hydrobiologiques"
   ]
  },
  {
   "cell_type": "code",
   "execution_count": 11,
   "metadata": {},
   "outputs": [
    {
     "name": "stdout",
     "output_type": "stream",
     "text": [
      "<class 'pandas.core.frame.DataFrame'>\n",
      "RangeIndex: 8917443 entries, 0 to 8917442\n",
      "Data columns (total 49 columns):\n",
      " #   Column                      Dtype         \n",
      "---  ------                      -----         \n",
      " 0   CdStationMesureEauxSurface  category      \n",
      " 1   LbStationMesureEauxSurface  category      \n",
      " 2   CdSupport                   category      \n",
      " 3   LbSupport                   category      \n",
      " 4   CdFractionAnalysee          category      \n",
      " 5   LbFractionAnalysee          category      \n",
      " 6   CdPrelevement               category      \n",
      " 7   DatePrel                    datetime64[ns]\n",
      " 8   HeurePrel                   object        \n",
      " 9   CdParametre                 category      \n",
      " 10  LbLongParamètre             category      \n",
      " 11  RsAna                       float64       \n",
      " 12  CdUniteMesure               category      \n",
      " 13  SymUniteMesure              category      \n",
      " 14  CdRqAna                     category      \n",
      " 15  MnemoRqAna                  category      \n",
      " 16  CdInsituAna                 category      \n",
      " 17  LbInsituAna                 category      \n",
      " 18  ProfondeurPrel              float64       \n",
      " 19  CdDifficulteAna             category      \n",
      " 20  MnemoDifficulteAna          category      \n",
      " 21  LdAna                       float64       \n",
      " 22  LqAna                       float64       \n",
      " 23  LsAna                       float64       \n",
      " 24  IncertAna                   float64       \n",
      " 25  CdMetFractionnement         category      \n",
      " 26  NomMetFractionnement        category      \n",
      " 27  CdMethode                   category      \n",
      " 28  NomMethode                  category      \n",
      " 29  RdtExtraction               float64       \n",
      " 30  CdMethodeExtraction         category      \n",
      " 31  NomMethodeExtraction        category      \n",
      " 32  CdAccreAna                  category      \n",
      " 33  MnemoAccredAna              category      \n",
      " 34  AgreAna                     float64       \n",
      " 35  CdStatutAna                 category      \n",
      " 36  MnemoStatutAna              category      \n",
      " 37  CdQualAna                   category      \n",
      " 38  LbQualAna                   category      \n",
      " 39  CommentairesAna             category      \n",
      " 40  ComResultatAna              category      \n",
      " 41  CdRdd                       category      \n",
      " 42  NomRdd                      category      \n",
      " 43  CdProducteur                category      \n",
      " 44  NomProducteur               category      \n",
      " 45  CdPreleveur                 category      \n",
      " 46  NomPreleveur                category      \n",
      " 47  CdLaboratoire               category      \n",
      " 48  NomLaboratoire              category      \n",
      "dtypes: category(39), datetime64[ns](1), float64(8), object(1)\n",
      "memory usage: 1.1+ GB\n"
     ]
    }
   ],
   "source": [
    "df_pc.info()"
   ]
  },
  {
   "cell_type": "code",
   "execution_count": 11,
   "metadata": {},
   "outputs": [
    {
     "data": {
      "text/plain": [
       "(8917443, 49)"
      ]
     },
     "execution_count": 11,
     "metadata": {},
     "output_type": "execute_result"
    }
   ],
   "source": [
    "df_pc.shape"
   ]
  },
  {
   "cell_type": "code",
   "execution_count": 10,
   "metadata": {},
   "outputs": [
    {
     "name": "stdout",
     "output_type": "stream",
     "text": [
      "<class 'pandas.core.frame.DataFrame'>\n",
      "RangeIndex: 43535 entries, 0 to 43534\n",
      "Data columns (total 21 columns):\n",
      " #   Column                              Non-Null Count  Dtype  \n",
      "---  ------                              --------------  -----  \n",
      " 0   Unnamed: 0                          43535 non-null  int64  \n",
      " 1   CdStationMesureEauxSurface          43535 non-null  int64  \n",
      " 2   LbStationMesureEauxSurface          43535 non-null  object \n",
      " 3   CdPointEauxSurf                     43115 non-null  float64\n",
      " 4   DateDebutOperationPrelBio           43535 non-null  object \n",
      " 5   CdSupport                           43535 non-null  int64  \n",
      " 6   LbSupport                           43535 non-null  object \n",
      " 7   DtProdResultatBiologique            14829 non-null  object \n",
      " 8   CdParametreResultatBiologique       43535 non-null  int64  \n",
      " 9   LbLongParametre                     43535 non-null  object \n",
      " 10  ResIndiceResultatBiologique         43522 non-null  float64\n",
      " 11  CdUniteMesure                       43535 non-null  object \n",
      " 12  SymUniteMesure                      43535 non-null  object \n",
      " 13  CdRqIndiceResultatBiologique        43535 non-null  int64  \n",
      " 14  MnemoRqAna                          43535 non-null  object \n",
      " 15  CdMethEval                          28373 non-null  object \n",
      " 16  RefOperationPrelBio                 43535 non-null  object \n",
      " 17  CdProducteur                        43535 non-null  int64  \n",
      " 18  NomProducteur                       43531 non-null  object \n",
      " 19  CdAccredRsIndiceResultatBiologique  43343 non-null  float64\n",
      " 20  MnAccredRsIndiceResultatBiologique  43343 non-null  object \n",
      "dtypes: float64(3), int64(6), object(12)\n",
      "memory usage: 7.0+ MB\n"
     ]
    }
   ],
   "source": [
    "df_hydrobio.info()"
   ]
  },
  {
   "cell_type": "code",
   "execution_count": 12,
   "metadata": {},
   "outputs": [
    {
     "data": {
      "text/plain": [
       "(43535, 21)"
      ]
     },
     "execution_count": 12,
     "metadata": {},
     "output_type": "execute_result"
    }
   ],
   "source": [
    "df_hydrobio.shape"
   ]
  },
  {
   "cell_type": "markdown",
   "metadata": {},
   "source": [
    "# TODO ZOE reformuler \n",
    "on sait dans nos contraintes qu'on doit utiliser les données temporelles et spatiales\n",
    "\n",
    "nous on aimerait utiliser les données temporelles et voir si on arrive à faire un clustering pour retrouver les hydroecoregions\n",
    "\n",
    "pour exploiter la relation entre physico chimie et hydrobiologique on se doute que pc a un impact sur hydrobio\n",
    "\n",
    "on voit bien qu'on a presqeu 9 millions de données pc\n",
    "\n",
    "on va donc devoir nettoyer beaucoup ces données pour réduire pn a pas des machines super puissante\n",
    "supprimer duplicatas, les données aberrantes\n",
    "ce qui va etre challengeant car il y a tellement de données qu'on ne peut pas non plus beaucoup plot, donc on va devoir mettre en place des sytratégies pour supprimer sans perdre d'information\n",
    "\n",
    "on va agréger déjà par saison par année les données par station\n",
    "\n",
    "on va étudier quelles parametres / support / fraction / unité de mesure sont étudiés\n",
    "\n",
    "on va pivoter pour enfaite obtenir une table qui \n",
    "par station, par saison par année, par paramètre intéressant de pc : médiane / moyenne des données (agréger suivant deux paramètres)\n",
    "\n",
    "puis on va ajouter les données hydrobio\n",
    "\n",
    "pour cela il faut donc faire la meme préparation\n",
    "on pourrait utiliser lesvaleurs directement en agrégeant de la meme maniere\n",
    "ou aussi les classes de l'url fourni dans l'énoncé\n",
    "\n",
    "comme dit on pense que pc a un impact sur hydrobio\n",
    "on va essayer différents laps de temps de décalage (1 mois, 3 mois, 6 mois) (à voir quand on aura fini)\n",
    "pour voir si ça changebeaucoup la performance\n",
    "\n",
    "ensuite joindre à notre table de pc plus legere agrégé nettoyé les données hydrobio\n",
    "on ne garde que celle où c'est en commun avec station (on va utilser la table station pour join)\n",
    "\n",
    "on fait un clustering sur le nombre de clusters de hydroecoregions (mais enfaite il faut qu'on véérifie une fois qu'on a join est ce qu'on a des données pour chaque hydroecoregions) si non on calcule quelle nombre on a ( on replot nos stations sur la map )"
   ]
  },
  {
   "cell_type": "markdown",
   "metadata": {},
   "source": [
    "## Préparation des données physicochimiques"
   ]
  },
  {
   "cell_type": "code",
   "execution_count": 13,
   "metadata": {},
   "outputs": [
    {
     "name": "stdout",
     "output_type": "stream",
     "text": [
      "11836\n"
     ]
    }
   ],
   "source": [
    "# combien de données dupliquéss ?\n",
    "print(df_pc.duplicated().sum())"
   ]
  },
  {
   "cell_type": "code",
   "execution_count": 14,
   "metadata": {},
   "outputs": [],
   "source": [
    "# supprimer les doublons\n",
    "df_pc.drop_duplicates(inplace=True)"
   ]
  },
  {
   "cell_type": "markdown",
   "metadata": {},
   "source": [
    "## TODO ZOE : Notes sur les colonne à conserver\n",
    "on émet l'hypothese que le laboratoire, le producteur, le préleveur et le rdd ne sont pas des données de pc, \n",
    "enfaite sur le nombre total de colonnes on va en garder tres peu\n",
    "\n",
    "on pense que beauoup de données sobnt des metadonnées / \n",
    "on pense qu'ils sont censés pour un meme prelevement avoir les memes valeurs  \n",
    "ce sont plutot des metadonnées sur le prelevement, on ne les prends pas en compte dans notre analyse  \n",
    "\n",
    "puisqu'on va agréger par saison, on ne gardera pas non plus la colonne heure"
   ]
  },
  {
   "cell_type": "markdown",
   "metadata": {},
   "source": [
    "## Caractériser une analyse physico chimique"
   ]
  },
  {
   "cell_type": "markdown",
   "metadata": {},
   "source": [
    "Comme vu dans le TD, ce qui caractérise une analyse c'est : \n",
    "- le support\n",
    "- le paramètre\n",
    "- la fraction analysée\n",
    "- dans quelle unité"
   ]
  },
  {
   "cell_type": "code",
   "execution_count": 15,
   "metadata": {},
   "outputs": [
    {
     "name": "stdout",
     "output_type": "stream",
     "text": [
      "Supports : 5 valeurs -> ['Eau', 'Air', 'Sédiments', 'Diatomées benthiques', 'Gammares']\n",
      "Paramètres : 16 valeurs -> ['Matières en suspension', 'Demande Biochimique en oxygène en 5 jours (D.B.O.5)', \"Température de l'Eau\", 'Potentiel en Hydrogène (pH)', 'Conductivité à 25°C', 'Oxygène dissous', 'Taux de saturation en oxygène', 'Phosphore total', 'Turbidité Formazine Néphélométrique', 'Azote Kjeldahl', 'Diuron', 'Carbone Organique', 'Ammonium', 'Nitrites', 'Nitrates', 'Orthophosphates (PO4)']\n",
      "Fractions : 2 valeurs -> ['Eau brute', \"Phase aqueuse de l'eau (filtrée, centrifugée...)\"]\n",
      "Unités : 15 valeurs -> ['mg/L', 'mg(O2)/L', '°C', 'unité pH', 'µS/cm', '%', 'mg(P)/L', 'NFU', 'mg(N)/L', 'µg/L', 'mg(C)/L', 'mg(NH4)/L', 'mg(NO2)/L', 'mg(NO3)/L', 'mg(PO4)/L']\n"
     ]
    }
   ],
   "source": [
    "print(\"Supports :\", df_pc['LbSupport'].nunique(), \"valeurs ->\", df_pc['LbSupport'].unique().tolist())\n",
    "print(\"Paramètres :\", df_pc['LbLongParamètre'].nunique(), \"valeurs ->\", df_pc['LbLongParamètre'].unique().tolist())\n",
    "print(\"Fractions :\", df_pc['LbFractionAnalysee'].nunique(), \"valeurs ->\", df_pc['LbFractionAnalysee'].unique().tolist())\n",
    "print(\"Unités :\", df_pc['SymUniteMesure'].nunique(), \"valeurs ->\", df_pc['SymUniteMesure'].unique().tolist())"
   ]
  },
  {
   "cell_type": "markdown",
   "metadata": {},
   "source": [
    "On va analyser combien de parametres par fraction pr support par unité de mesure on a \n",
    "\n",
    "# TODO ZOE : reformuler"
   ]
  },
  {
   "cell_type": "markdown",
   "metadata": {},
   "source": [
    "#### Fractions et Supports"
   ]
  },
  {
   "cell_type": "code",
   "execution_count": 15,
   "metadata": {},
   "outputs": [],
   "source": [
    "test = df_pc[['LbSupport','LbFractionAnalysee']].drop_duplicates()"
   ]
  },
  {
   "cell_type": "code",
   "execution_count": 16,
   "metadata": {},
   "outputs": [
    {
     "name": "stdout",
     "output_type": "stream",
     "text": [
      "Nombre de fractions par support\n"
     ]
    },
    {
     "data": {
      "text/html": [
       "<div>\n",
       "<style scoped>\n",
       "    .dataframe tbody tr th:only-of-type {\n",
       "        vertical-align: middle;\n",
       "    }\n",
       "\n",
       "    .dataframe tbody tr th {\n",
       "        vertical-align: top;\n",
       "    }\n",
       "\n",
       "    .dataframe thead th {\n",
       "        text-align: right;\n",
       "    }\n",
       "</style>\n",
       "<table border=\"1\" class=\"dataframe\">\n",
       "  <thead>\n",
       "    <tr style=\"text-align: right;\">\n",
       "      <th></th>\n",
       "      <th>LbFractionAnalysee</th>\n",
       "    </tr>\n",
       "    <tr>\n",
       "      <th>LbSupport</th>\n",
       "      <th></th>\n",
       "    </tr>\n",
       "  </thead>\n",
       "  <tbody>\n",
       "    <tr>\n",
       "      <th>Eau</th>\n",
       "      <td>2</td>\n",
       "    </tr>\n",
       "    <tr>\n",
       "      <th>Air</th>\n",
       "      <td>2</td>\n",
       "    </tr>\n",
       "    <tr>\n",
       "      <th>Sédiments</th>\n",
       "      <td>2</td>\n",
       "    </tr>\n",
       "    <tr>\n",
       "      <th>Diatomées benthiques</th>\n",
       "      <td>1</td>\n",
       "    </tr>\n",
       "    <tr>\n",
       "      <th>Gammares</th>\n",
       "      <td>1</td>\n",
       "    </tr>\n",
       "  </tbody>\n",
       "</table>\n",
       "</div>"
      ],
      "text/plain": [
       "                      LbFractionAnalysee\n",
       "LbSupport                               \n",
       "Eau                                    2\n",
       "Air                                    2\n",
       "Sédiments                              2\n",
       "Diatomées benthiques                   1\n",
       "Gammares                               1"
      ]
     },
     "execution_count": 16,
     "metadata": {},
     "output_type": "execute_result"
    }
   ],
   "source": [
    "print('Nombre de fractions par support')\n",
    "test.groupby(['LbSupport']).count()"
   ]
  },
  {
   "cell_type": "markdown",
   "metadata": {},
   "source": [
    "Pour un support donné plusieurs fractions peuvent être analysées."
   ]
  },
  {
   "cell_type": "code",
   "execution_count": 17,
   "metadata": {},
   "outputs": [
    {
     "name": "stdout",
     "output_type": "stream",
     "text": [
      "Nombre de supports par fraction\n"
     ]
    },
    {
     "data": {
      "text/html": [
       "<div>\n",
       "<style scoped>\n",
       "    .dataframe tbody tr th:only-of-type {\n",
       "        vertical-align: middle;\n",
       "    }\n",
       "\n",
       "    .dataframe tbody tr th {\n",
       "        vertical-align: top;\n",
       "    }\n",
       "\n",
       "    .dataframe thead th {\n",
       "        text-align: right;\n",
       "    }\n",
       "</style>\n",
       "<table border=\"1\" class=\"dataframe\">\n",
       "  <thead>\n",
       "    <tr style=\"text-align: right;\">\n",
       "      <th></th>\n",
       "      <th>LbSupport</th>\n",
       "    </tr>\n",
       "    <tr>\n",
       "      <th>LbFractionAnalysee</th>\n",
       "      <th></th>\n",
       "    </tr>\n",
       "  </thead>\n",
       "  <tbody>\n",
       "    <tr>\n",
       "      <th>Eau brute</th>\n",
       "      <td>5</td>\n",
       "    </tr>\n",
       "    <tr>\n",
       "      <th>Phase aqueuse de l'eau (filtrée, centrifugée...)</th>\n",
       "      <td>3</td>\n",
       "    </tr>\n",
       "  </tbody>\n",
       "</table>\n",
       "</div>"
      ],
      "text/plain": [
       "                                                  LbSupport\n",
       "LbFractionAnalysee                                         \n",
       "Eau brute                                                 5\n",
       "Phase aqueuse de l'eau (filtrée, centrifugée...)          3"
      ]
     },
     "execution_count": 17,
     "metadata": {},
     "output_type": "execute_result"
    }
   ],
   "source": [
    "print('Nombre de supports par fraction')\n",
    "test.groupby(['LbFractionAnalysee']).count()"
   ]
  },
  {
   "cell_type": "markdown",
   "metadata": {},
   "source": [
    "Pour une fraction donnée plusieurs supports peuvent être analysés."
   ]
  },
  {
   "cell_type": "markdown",
   "metadata": {},
   "source": [
    "#### Fractions et paramètres"
   ]
  },
  {
   "cell_type": "code",
   "execution_count": 18,
   "metadata": {},
   "outputs": [],
   "source": [
    "test = df_pc[['LbLongParamètre','LbFractionAnalysee']].drop_duplicates()"
   ]
  },
  {
   "cell_type": "code",
   "execution_count": 19,
   "metadata": {},
   "outputs": [
    {
     "name": "stdout",
     "output_type": "stream",
     "text": [
      "Nombre de fractions par paramètre\n"
     ]
    },
    {
     "data": {
      "text/html": [
       "<div>\n",
       "<style scoped>\n",
       "    .dataframe tbody tr th:only-of-type {\n",
       "        vertical-align: middle;\n",
       "    }\n",
       "\n",
       "    .dataframe tbody tr th {\n",
       "        vertical-align: top;\n",
       "    }\n",
       "\n",
       "    .dataframe thead th {\n",
       "        text-align: right;\n",
       "    }\n",
       "</style>\n",
       "<table border=\"1\" class=\"dataframe\">\n",
       "  <thead>\n",
       "    <tr style=\"text-align: right;\">\n",
       "      <th></th>\n",
       "      <th>LbFractionAnalysee</th>\n",
       "    </tr>\n",
       "    <tr>\n",
       "      <th>LbLongParamètre</th>\n",
       "      <th></th>\n",
       "    </tr>\n",
       "  </thead>\n",
       "  <tbody>\n",
       "    <tr>\n",
       "      <th>Azote Kjeldahl</th>\n",
       "      <td>1</td>\n",
       "    </tr>\n",
       "    <tr>\n",
       "      <th>Conductivité à 25°C</th>\n",
       "      <td>1</td>\n",
       "    </tr>\n",
       "    <tr>\n",
       "      <th>Demande Biochimique en oxygène en 5 jours (D.B.O.5)</th>\n",
       "      <td>1</td>\n",
       "    </tr>\n",
       "    <tr>\n",
       "      <th>Diuron</th>\n",
       "      <td>1</td>\n",
       "    </tr>\n",
       "    <tr>\n",
       "      <th>Matières en suspension</th>\n",
       "      <td>1</td>\n",
       "    </tr>\n",
       "    <tr>\n",
       "      <th>Oxygène dissous</th>\n",
       "      <td>1</td>\n",
       "    </tr>\n",
       "    <tr>\n",
       "      <th>Phosphore total</th>\n",
       "      <td>1</td>\n",
       "    </tr>\n",
       "    <tr>\n",
       "      <th>Potentiel en Hydrogène (pH)</th>\n",
       "      <td>1</td>\n",
       "    </tr>\n",
       "    <tr>\n",
       "      <th>Taux de saturation en oxygène</th>\n",
       "      <td>1</td>\n",
       "    </tr>\n",
       "    <tr>\n",
       "      <th>Température de l'Eau</th>\n",
       "      <td>1</td>\n",
       "    </tr>\n",
       "    <tr>\n",
       "      <th>Turbidité Formazine Néphélométrique</th>\n",
       "      <td>1</td>\n",
       "    </tr>\n",
       "    <tr>\n",
       "      <th>Carbone Organique</th>\n",
       "      <td>1</td>\n",
       "    </tr>\n",
       "    <tr>\n",
       "      <th>Ammonium</th>\n",
       "      <td>1</td>\n",
       "    </tr>\n",
       "    <tr>\n",
       "      <th>Nitrates</th>\n",
       "      <td>1</td>\n",
       "    </tr>\n",
       "    <tr>\n",
       "      <th>Nitrites</th>\n",
       "      <td>1</td>\n",
       "    </tr>\n",
       "    <tr>\n",
       "      <th>Orthophosphates (PO4)</th>\n",
       "      <td>1</td>\n",
       "    </tr>\n",
       "  </tbody>\n",
       "</table>\n",
       "</div>"
      ],
      "text/plain": [
       "                                                    LbFractionAnalysee\n",
       "LbLongParamètre                                                       \n",
       "Azote Kjeldahl                                                       1\n",
       "Conductivité à 25°C                                                  1\n",
       "Demande Biochimique en oxygène en 5 jours (D.B....                   1\n",
       "Diuron                                                               1\n",
       "Matières en suspension                                               1\n",
       "Oxygène dissous                                                      1\n",
       "Phosphore total                                                      1\n",
       "Potentiel en Hydrogène (pH)                                          1\n",
       "Taux de saturation en oxygène                                        1\n",
       "Température de l'Eau                                                 1\n",
       "Turbidité Formazine Néphélométrique                                  1\n",
       "Carbone Organique                                                    1\n",
       "Ammonium                                                             1\n",
       "Nitrates                                                             1\n",
       "Nitrites                                                             1\n",
       "Orthophosphates (PO4)                                                1"
      ]
     },
     "execution_count": 19,
     "metadata": {},
     "output_type": "execute_result"
    }
   ],
   "source": [
    "print('Nombre de fractions par paramètre')\n",
    "test.groupby(['LbLongParamètre']).count()"
   ]
  },
  {
   "cell_type": "markdown",
   "metadata": {},
   "source": [
    "Pour un paramètre donné un seul type de fraction est analysé."
   ]
  },
  {
   "cell_type": "code",
   "execution_count": 20,
   "metadata": {},
   "outputs": [
    {
     "name": "stdout",
     "output_type": "stream",
     "text": [
      "Nombre de paramètres par fraction\n"
     ]
    },
    {
     "data": {
      "text/html": [
       "<div>\n",
       "<style scoped>\n",
       "    .dataframe tbody tr th:only-of-type {\n",
       "        vertical-align: middle;\n",
       "    }\n",
       "\n",
       "    .dataframe tbody tr th {\n",
       "        vertical-align: top;\n",
       "    }\n",
       "\n",
       "    .dataframe thead th {\n",
       "        text-align: right;\n",
       "    }\n",
       "</style>\n",
       "<table border=\"1\" class=\"dataframe\">\n",
       "  <thead>\n",
       "    <tr style=\"text-align: right;\">\n",
       "      <th></th>\n",
       "      <th>LbLongParamètre</th>\n",
       "    </tr>\n",
       "    <tr>\n",
       "      <th>LbFractionAnalysee</th>\n",
       "      <th></th>\n",
       "    </tr>\n",
       "  </thead>\n",
       "  <tbody>\n",
       "    <tr>\n",
       "      <th>Eau brute</th>\n",
       "      <td>11</td>\n",
       "    </tr>\n",
       "    <tr>\n",
       "      <th>Phase aqueuse de l'eau (filtrée, centrifugée...)</th>\n",
       "      <td>5</td>\n",
       "    </tr>\n",
       "  </tbody>\n",
       "</table>\n",
       "</div>"
      ],
      "text/plain": [
       "                                                  LbLongParamètre\n",
       "LbFractionAnalysee                                               \n",
       "Eau brute                                                      11\n",
       "Phase aqueuse de l'eau (filtrée, centrifugée...)                5"
      ]
     },
     "execution_count": 20,
     "metadata": {},
     "output_type": "execute_result"
    }
   ],
   "source": [
    "print('Nombre de paramètres par fraction')\n",
    "test.groupby(['LbFractionAnalysee']).count()"
   ]
  },
  {
   "cell_type": "markdown",
   "metadata": {},
   "source": [
    "Pour une fraction donnée plusieurs paramètres peuvent être analysés."
   ]
  },
  {
   "cell_type": "markdown",
   "metadata": {},
   "source": [
    "#### Supports et paramètres"
   ]
  },
  {
   "cell_type": "code",
   "execution_count": 21,
   "metadata": {},
   "outputs": [],
   "source": [
    "test = df_pc[['LbLongParamètre','LbSupport']].drop_duplicates()"
   ]
  },
  {
   "cell_type": "code",
   "execution_count": 22,
   "metadata": {},
   "outputs": [
    {
     "name": "stdout",
     "output_type": "stream",
     "text": [
      "Nombre de supports par paramètre\n"
     ]
    },
    {
     "data": {
      "text/html": [
       "<div>\n",
       "<style scoped>\n",
       "    .dataframe tbody tr th:only-of-type {\n",
       "        vertical-align: middle;\n",
       "    }\n",
       "\n",
       "    .dataframe tbody tr th {\n",
       "        vertical-align: top;\n",
       "    }\n",
       "\n",
       "    .dataframe thead th {\n",
       "        text-align: right;\n",
       "    }\n",
       "</style>\n",
       "<table border=\"1\" class=\"dataframe\">\n",
       "  <thead>\n",
       "    <tr style=\"text-align: right;\">\n",
       "      <th></th>\n",
       "      <th>LbSupport</th>\n",
       "    </tr>\n",
       "    <tr>\n",
       "      <th>LbLongParamètre</th>\n",
       "      <th></th>\n",
       "    </tr>\n",
       "  </thead>\n",
       "  <tbody>\n",
       "    <tr>\n",
       "      <th>Azote Kjeldahl</th>\n",
       "      <td>3</td>\n",
       "    </tr>\n",
       "    <tr>\n",
       "      <th>Conductivité à 25°C</th>\n",
       "      <td>4</td>\n",
       "    </tr>\n",
       "    <tr>\n",
       "      <th>Demande Biochimique en oxygène en 5 jours (D.B.O.5)</th>\n",
       "      <td>3</td>\n",
       "    </tr>\n",
       "    <tr>\n",
       "      <th>Diuron</th>\n",
       "      <td>3</td>\n",
       "    </tr>\n",
       "    <tr>\n",
       "      <th>Matières en suspension</th>\n",
       "      <td>3</td>\n",
       "    </tr>\n",
       "    <tr>\n",
       "      <th>Oxygène dissous</th>\n",
       "      <td>4</td>\n",
       "    </tr>\n",
       "    <tr>\n",
       "      <th>Phosphore total</th>\n",
       "      <td>3</td>\n",
       "    </tr>\n",
       "    <tr>\n",
       "      <th>Potentiel en Hydrogène (pH)</th>\n",
       "      <td>5</td>\n",
       "    </tr>\n",
       "    <tr>\n",
       "      <th>Taux de saturation en oxygène</th>\n",
       "      <td>4</td>\n",
       "    </tr>\n",
       "    <tr>\n",
       "      <th>Température de l'Eau</th>\n",
       "      <td>5</td>\n",
       "    </tr>\n",
       "    <tr>\n",
       "      <th>Turbidité Formazine Néphélométrique</th>\n",
       "      <td>1</td>\n",
       "    </tr>\n",
       "    <tr>\n",
       "      <th>Carbone Organique</th>\n",
       "      <td>1</td>\n",
       "    </tr>\n",
       "    <tr>\n",
       "      <th>Ammonium</th>\n",
       "      <td>3</td>\n",
       "    </tr>\n",
       "    <tr>\n",
       "      <th>Nitrates</th>\n",
       "      <td>3</td>\n",
       "    </tr>\n",
       "    <tr>\n",
       "      <th>Nitrites</th>\n",
       "      <td>3</td>\n",
       "    </tr>\n",
       "    <tr>\n",
       "      <th>Orthophosphates (PO4)</th>\n",
       "      <td>3</td>\n",
       "    </tr>\n",
       "  </tbody>\n",
       "</table>\n",
       "</div>"
      ],
      "text/plain": [
       "                                                    LbSupport\n",
       "LbLongParamètre                                              \n",
       "Azote Kjeldahl                                              3\n",
       "Conductivité à 25°C                                         4\n",
       "Demande Biochimique en oxygène en 5 jours (D.B....          3\n",
       "Diuron                                                      3\n",
       "Matières en suspension                                      3\n",
       "Oxygène dissous                                             4\n",
       "Phosphore total                                             3\n",
       "Potentiel en Hydrogène (pH)                                 5\n",
       "Taux de saturation en oxygène                               4\n",
       "Température de l'Eau                                        5\n",
       "Turbidité Formazine Néphélométrique                         1\n",
       "Carbone Organique                                           1\n",
       "Ammonium                                                    3\n",
       "Nitrates                                                    3\n",
       "Nitrites                                                    3\n",
       "Orthophosphates (PO4)                                       3"
      ]
     },
     "execution_count": 22,
     "metadata": {},
     "output_type": "execute_result"
    }
   ],
   "source": [
    "print('Nombre de supports par paramètre')\n",
    "test.groupby(['LbLongParamètre']).count()"
   ]
  },
  {
   "cell_type": "markdown",
   "metadata": {},
   "source": [
    "Pour un paramètre donné plusieurs supports peuvent être utilisés."
   ]
  },
  {
   "cell_type": "code",
   "execution_count": null,
   "metadata": {},
   "outputs": [
    {
     "name": "stdout",
     "output_type": "stream",
     "text": [
      "Nombre de paramètres par support\n"
     ]
    },
    {
     "data": {
      "text/html": [
       "<div>\n",
       "<style scoped>\n",
       "    .dataframe tbody tr th:only-of-type {\n",
       "        vertical-align: middle;\n",
       "    }\n",
       "\n",
       "    .dataframe tbody tr th {\n",
       "        vertical-align: top;\n",
       "    }\n",
       "\n",
       "    .dataframe thead th {\n",
       "        text-align: right;\n",
       "    }\n",
       "</style>\n",
       "<table border=\"1\" class=\"dataframe\">\n",
       "  <thead>\n",
       "    <tr style=\"text-align: right;\">\n",
       "      <th></th>\n",
       "      <th>LbLongParamètre</th>\n",
       "    </tr>\n",
       "    <tr>\n",
       "      <th>LbSupport</th>\n",
       "      <th></th>\n",
       "    </tr>\n",
       "  </thead>\n",
       "  <tbody>\n",
       "    <tr>\n",
       "      <th>Eau</th>\n",
       "      <td>16</td>\n",
       "    </tr>\n",
       "    <tr>\n",
       "      <th>Air</th>\n",
       "      <td>14</td>\n",
       "    </tr>\n",
       "    <tr>\n",
       "      <th>Sédiments</th>\n",
       "      <td>14</td>\n",
       "    </tr>\n",
       "    <tr>\n",
       "      <th>Diatomées benthiques</th>\n",
       "      <td>2</td>\n",
       "    </tr>\n",
       "    <tr>\n",
       "      <th>Gammares</th>\n",
       "      <td>5</td>\n",
       "    </tr>\n",
       "  </tbody>\n",
       "</table>\n",
       "</div>"
      ],
      "text/plain": [
       "                      LbLongParamètre\n",
       "LbSupport                            \n",
       "Eau                                16\n",
       "Air                                14\n",
       "Sédiments                          14\n",
       "Diatomées benthiques                2\n",
       "Gammares                            5"
      ]
     },
     "execution_count": 24,
     "metadata": {},
     "output_type": "execute_result"
    }
   ],
   "source": [
    "print('Nombre de paramètres par support')\n",
    "test.groupby(['LbSupport']).count()\n",
    "# "
   ]
  },
  {
   "cell_type": "markdown",
   "metadata": {},
   "source": [
    "Pour un support donné plusieurs paramètres peuvent être analysés."
   ]
  },
  {
   "cell_type": "markdown",
   "metadata": {},
   "source": [
    "#### Unités de mesure et paramètres"
   ]
  },
  {
   "cell_type": "code",
   "execution_count": 23,
   "metadata": {},
   "outputs": [],
   "source": [
    "test = df_pc[['LbLongParamètre','SymUniteMesure']].drop_duplicates()"
   ]
  },
  {
   "cell_type": "code",
   "execution_count": 24,
   "metadata": {},
   "outputs": [
    {
     "name": "stdout",
     "output_type": "stream",
     "text": [
      "Nombre d'unités par paramètre\n"
     ]
    },
    {
     "data": {
      "text/html": [
       "<div>\n",
       "<style scoped>\n",
       "    .dataframe tbody tr th:only-of-type {\n",
       "        vertical-align: middle;\n",
       "    }\n",
       "\n",
       "    .dataframe tbody tr th {\n",
       "        vertical-align: top;\n",
       "    }\n",
       "\n",
       "    .dataframe thead th {\n",
       "        text-align: right;\n",
       "    }\n",
       "</style>\n",
       "<table border=\"1\" class=\"dataframe\">\n",
       "  <thead>\n",
       "    <tr style=\"text-align: right;\">\n",
       "      <th></th>\n",
       "      <th>SymUniteMesure</th>\n",
       "    </tr>\n",
       "    <tr>\n",
       "      <th>LbLongParamètre</th>\n",
       "      <th></th>\n",
       "    </tr>\n",
       "  </thead>\n",
       "  <tbody>\n",
       "    <tr>\n",
       "      <th>Azote Kjeldahl</th>\n",
       "      <td>1</td>\n",
       "    </tr>\n",
       "    <tr>\n",
       "      <th>Conductivité à 25°C</th>\n",
       "      <td>1</td>\n",
       "    </tr>\n",
       "    <tr>\n",
       "      <th>Demande Biochimique en oxygène en 5 jours (D.B.O.5)</th>\n",
       "      <td>1</td>\n",
       "    </tr>\n",
       "    <tr>\n",
       "      <th>Diuron</th>\n",
       "      <td>1</td>\n",
       "    </tr>\n",
       "    <tr>\n",
       "      <th>Matières en suspension</th>\n",
       "      <td>1</td>\n",
       "    </tr>\n",
       "    <tr>\n",
       "      <th>Oxygène dissous</th>\n",
       "      <td>1</td>\n",
       "    </tr>\n",
       "    <tr>\n",
       "      <th>Phosphore total</th>\n",
       "      <td>1</td>\n",
       "    </tr>\n",
       "    <tr>\n",
       "      <th>Potentiel en Hydrogène (pH)</th>\n",
       "      <td>1</td>\n",
       "    </tr>\n",
       "    <tr>\n",
       "      <th>Taux de saturation en oxygène</th>\n",
       "      <td>1</td>\n",
       "    </tr>\n",
       "    <tr>\n",
       "      <th>Température de l'Eau</th>\n",
       "      <td>1</td>\n",
       "    </tr>\n",
       "    <tr>\n",
       "      <th>Turbidité Formazine Néphélométrique</th>\n",
       "      <td>1</td>\n",
       "    </tr>\n",
       "    <tr>\n",
       "      <th>Carbone Organique</th>\n",
       "      <td>1</td>\n",
       "    </tr>\n",
       "    <tr>\n",
       "      <th>Ammonium</th>\n",
       "      <td>1</td>\n",
       "    </tr>\n",
       "    <tr>\n",
       "      <th>Nitrates</th>\n",
       "      <td>1</td>\n",
       "    </tr>\n",
       "    <tr>\n",
       "      <th>Nitrites</th>\n",
       "      <td>1</td>\n",
       "    </tr>\n",
       "    <tr>\n",
       "      <th>Orthophosphates (PO4)</th>\n",
       "      <td>1</td>\n",
       "    </tr>\n",
       "  </tbody>\n",
       "</table>\n",
       "</div>"
      ],
      "text/plain": [
       "                                                    SymUniteMesure\n",
       "LbLongParamètre                                                   \n",
       "Azote Kjeldahl                                                   1\n",
       "Conductivité à 25°C                                              1\n",
       "Demande Biochimique en oxygène en 5 jours (D.B....               1\n",
       "Diuron                                                           1\n",
       "Matières en suspension                                           1\n",
       "Oxygène dissous                                                  1\n",
       "Phosphore total                                                  1\n",
       "Potentiel en Hydrogène (pH)                                      1\n",
       "Taux de saturation en oxygène                                    1\n",
       "Température de l'Eau                                             1\n",
       "Turbidité Formazine Néphélométrique                              1\n",
       "Carbone Organique                                                1\n",
       "Ammonium                                                         1\n",
       "Nitrates                                                         1\n",
       "Nitrites                                                         1\n",
       "Orthophosphates (PO4)                                            1"
      ]
     },
     "execution_count": 24,
     "metadata": {},
     "output_type": "execute_result"
    }
   ],
   "source": [
    "print(\"Nombre d'unités par paramètre\")\n",
    "test.groupby(['LbLongParamètre']).count()"
   ]
  },
  {
   "cell_type": "markdown",
   "metadata": {},
   "source": [
    "Pour un paramètre donné plusieurs unités une seule unité de mesure est utilisée."
   ]
  },
  {
   "cell_type": "code",
   "execution_count": 25,
   "metadata": {},
   "outputs": [
    {
     "name": "stdout",
     "output_type": "stream",
     "text": [
      "Nombre de paramètres par unité\n"
     ]
    },
    {
     "data": {
      "text/html": [
       "<div>\n",
       "<style scoped>\n",
       "    .dataframe tbody tr th:only-of-type {\n",
       "        vertical-align: middle;\n",
       "    }\n",
       "\n",
       "    .dataframe tbody tr th {\n",
       "        vertical-align: top;\n",
       "    }\n",
       "\n",
       "    .dataframe thead th {\n",
       "        text-align: right;\n",
       "    }\n",
       "</style>\n",
       "<table border=\"1\" class=\"dataframe\">\n",
       "  <thead>\n",
       "    <tr style=\"text-align: right;\">\n",
       "      <th></th>\n",
       "      <th>LbLongParamètre</th>\n",
       "    </tr>\n",
       "    <tr>\n",
       "      <th>SymUniteMesure</th>\n",
       "      <th></th>\n",
       "    </tr>\n",
       "  </thead>\n",
       "  <tbody>\n",
       "    <tr>\n",
       "      <th>%</th>\n",
       "      <td>1</td>\n",
       "    </tr>\n",
       "    <tr>\n",
       "      <th>NFU</th>\n",
       "      <td>1</td>\n",
       "    </tr>\n",
       "    <tr>\n",
       "      <th>mg(N)/L</th>\n",
       "      <td>1</td>\n",
       "    </tr>\n",
       "    <tr>\n",
       "      <th>mg(O2)/L</th>\n",
       "      <td>2</td>\n",
       "    </tr>\n",
       "    <tr>\n",
       "      <th>mg(P)/L</th>\n",
       "      <td>1</td>\n",
       "    </tr>\n",
       "    <tr>\n",
       "      <th>mg/L</th>\n",
       "      <td>1</td>\n",
       "    </tr>\n",
       "    <tr>\n",
       "      <th>unité pH</th>\n",
       "      <td>1</td>\n",
       "    </tr>\n",
       "    <tr>\n",
       "      <th>°C</th>\n",
       "      <td>1</td>\n",
       "    </tr>\n",
       "    <tr>\n",
       "      <th>µS/cm</th>\n",
       "      <td>1</td>\n",
       "    </tr>\n",
       "    <tr>\n",
       "      <th>µg/L</th>\n",
       "      <td>1</td>\n",
       "    </tr>\n",
       "    <tr>\n",
       "      <th>mg(C)/L</th>\n",
       "      <td>1</td>\n",
       "    </tr>\n",
       "    <tr>\n",
       "      <th>mg(NH4)/L</th>\n",
       "      <td>1</td>\n",
       "    </tr>\n",
       "    <tr>\n",
       "      <th>mg(NO2)/L</th>\n",
       "      <td>1</td>\n",
       "    </tr>\n",
       "    <tr>\n",
       "      <th>mg(NO3)/L</th>\n",
       "      <td>1</td>\n",
       "    </tr>\n",
       "    <tr>\n",
       "      <th>mg(PO4)/L</th>\n",
       "      <td>1</td>\n",
       "    </tr>\n",
       "  </tbody>\n",
       "</table>\n",
       "</div>"
      ],
      "text/plain": [
       "                LbLongParamètre\n",
       "SymUniteMesure                 \n",
       "%                             1\n",
       "NFU                           1\n",
       "mg(N)/L                       1\n",
       "mg(O2)/L                      2\n",
       "mg(P)/L                       1\n",
       "mg/L                          1\n",
       "unité pH                      1\n",
       "°C                            1\n",
       "µS/cm                         1\n",
       "µg/L                          1\n",
       "mg(C)/L                       1\n",
       "mg(NH4)/L                     1\n",
       "mg(NO2)/L                     1\n",
       "mg(NO3)/L                     1\n",
       "mg(PO4)/L                     1"
      ]
     },
     "execution_count": 25,
     "metadata": {},
     "output_type": "execute_result"
    }
   ],
   "source": [
    "print(\"Nombre de paramètres par unité\")\n",
    "test.groupby(['SymUniteMesure']).count()"
   ]
  },
  {
   "cell_type": "markdown",
   "metadata": {},
   "source": [
    "Pour une unité de mesure donnée plusieurs paramètres peuvent être analysés."
   ]
  },
  {
   "cell_type": "markdown",
   "metadata": {},
   "source": [
    "# TODO ZOE reformuler : \n",
    "### Quelles informations en extraire ?\n",
    "on a pour chaque parametre analysé seulement une unité de mesure  \n",
    "-> pas besoin de nettoyer ou de garder la colonne unité une fois qu'on aura basculer dans notre dataframe pour l'analyse\n",
    "\n",
    "D'après les diapos \n",
    "\n",
    "Un résultat d’analyse (RsAna) se caractérise\n",
    "principalement par  \n",
    "- Un paramètre physico-chimique (nitrate, phosphate,\n",
    "température, pH…) (CdParametre)  \n",
    "- Une unité de mesure (CdUniteMesure)  \n",
    "- Une fraction d’analyse (CdFractionAnalysee) à\n",
    "partir d’un support de prélèvement (CdSupport)\n",
    "\n",
    "\n",
    "Or ici on a vu qu'il n'y a qu'un paramètre par unité / une unité par paramètre.\n",
    "On va donc basculer la table pour considérer pour chaque résultat d'analyse à la fois \n",
    "le paramètre, le support et la fraction."
   ]
  },
  {
   "cell_type": "code",
   "execution_count": null,
   "metadata": {},
   "outputs": [
    {
     "name": "stdout",
     "output_type": "stream",
     "text": [
      "SymUniteMesure\n",
      "1    16\n",
      "Name: count, dtype: int64\n",
      "LbSupport\n",
      "3    9\n",
      "4    3\n",
      "5    2\n",
      "1    2\n",
      "Name: count, dtype: int64\n",
      "LbFractionAnalysee\n",
      "1    16\n",
      "Name: count, dtype: int64\n"
     ]
    }
   ],
   "source": [
    "# Pour un paramètre donné, combien y a t il d'unité de mesure, de support et de fraction analysee ?\n",
    "print(df_pc.groupby('LbLongParamètre')['SymUniteMesure'].nunique().value_counts())\n",
    "print(df_pc.groupby('LbLongParamètre')['LbSupport'].nunique().value_counts())\n",
    "print(df_pc.groupby('LbLongParamètre')['LbFractionAnalysee'].nunique().value_counts())"
   ]
  },
  {
   "cell_type": "markdown",
   "metadata": {},
   "source": [
    "On a aussi vu que pour un paramètre donné un seul type de fraction est analysé  \n",
    "regardons la combinaison des triplets : \n",
    "\n",
    "## TODO ZOE reformuler"
   ]
  },
  {
   "cell_type": "code",
   "execution_count": 26,
   "metadata": {},
   "outputs": [
    {
     "name": "stdout",
     "output_type": "stream",
     "text": [
      "Series([], Name: LbFractionAnalysee, dtype: int64)\n"
     ]
    }
   ],
   "source": [
    "# Pour un paramètre et un support donné, combien de fraction différentes sont analysées ?   \n",
    "grouped = df_pc.groupby(['LbLongParamètre','LbSupport'])['LbFractionAnalysee'].nunique()\n",
    "multiple_fractions = grouped[grouped > 1]\n",
    "print(multiple_fractions)"
   ]
  },
  {
   "cell_type": "markdown",
   "metadata": {},
   "source": [
    "On a au maximum 1 fraction pour un paramètre et un support donné.\n",
    "\n",
    "La fraction peut donc être déduit uniquement à partir du couple paramètre, support.\n",
    "\n",
    "On va donc faire un regroupement par tuple **paramètre, support**"
   ]
  },
  {
   "cell_type": "code",
   "execution_count": 27,
   "metadata": {},
   "outputs": [],
   "source": [
    "params = df_pc.groupby([\"LbLongParamètre\",'LbSupport'])"
   ]
  },
  {
   "cell_type": "code",
   "execution_count": 29,
   "metadata": {},
   "outputs": [
    {
     "data": {
      "text/plain": [
       "LbLongParamètre                      LbSupport           \n",
       "Potentiel en Hydrogène (pH)          Eau                     675940\n",
       "Température de l'Eau                 Eau                     675906\n",
       "Conductivité à 25°C                  Eau                     668744\n",
       "Oxygène dissous                      Eau                     632623\n",
       "Taux de saturation en oxygène        Eau                     613947\n",
       "                                                              ...  \n",
       "Turbidité Formazine Néphélométrique  Diatomées benthiques         0\n",
       "                                     Gammares                     0\n",
       "Carbone Organique                    Air                          0\n",
       "                                     Sédiments                    0\n",
       "Orthophosphates (PO4)                Gammares                     0\n",
       "Length: 80, dtype: int64"
      ]
     },
     "execution_count": 29,
     "metadata": {},
     "output_type": "execute_result"
    }
   ],
   "source": [
    "# nombre de valeurs pour chaque tuple\n",
    "params.size().sort_values(ascending=False)"
   ]
  },
  {
   "cell_type": "code",
   "execution_count": 30,
   "metadata": {},
   "outputs": [],
   "source": [
    "# combien de résultats d'analyse pour chaque tuple ?\n",
    "params_size = params.agg({'RsAna' : ['size']}) "
   ]
  },
  {
   "cell_type": "code",
   "execution_count": null,
   "metadata": {},
   "outputs": [
    {
     "data": {
      "text/html": [
       "<div>\n",
       "<style scoped>\n",
       "    .dataframe tbody tr th:only-of-type {\n",
       "        vertical-align: middle;\n",
       "    }\n",
       "\n",
       "    .dataframe tbody tr th {\n",
       "        vertical-align: top;\n",
       "    }\n",
       "\n",
       "    .dataframe thead tr th {\n",
       "        text-align: left;\n",
       "    }\n",
       "\n",
       "    .dataframe thead tr:last-of-type th {\n",
       "        text-align: right;\n",
       "    }\n",
       "</style>\n",
       "<table border=\"1\" class=\"dataframe\">\n",
       "  <thead>\n",
       "    <tr>\n",
       "      <th></th>\n",
       "      <th></th>\n",
       "      <th>RsAna</th>\n",
       "    </tr>\n",
       "    <tr>\n",
       "      <th></th>\n",
       "      <th></th>\n",
       "      <th>size</th>\n",
       "    </tr>\n",
       "    <tr>\n",
       "      <th>LbLongParamètre</th>\n",
       "      <th>LbSupport</th>\n",
       "      <th></th>\n",
       "    </tr>\n",
       "  </thead>\n",
       "  <tbody>\n",
       "    <tr>\n",
       "      <th rowspan=\"2\" valign=\"top\">Azote Kjeldahl</th>\n",
       "      <th>Diatomées benthiques</th>\n",
       "      <td>0</td>\n",
       "    </tr>\n",
       "    <tr>\n",
       "      <th>Gammares</th>\n",
       "      <td>0</td>\n",
       "    </tr>\n",
       "    <tr>\n",
       "      <th>Conductivité à 25°C</th>\n",
       "      <th>Diatomées benthiques</th>\n",
       "      <td>0</td>\n",
       "    </tr>\n",
       "    <tr>\n",
       "      <th rowspan=\"2\" valign=\"top\">Demande Biochimique en oxygène en 5 jours (D.B.O.5)</th>\n",
       "      <th>Diatomées benthiques</th>\n",
       "      <td>0</td>\n",
       "    </tr>\n",
       "    <tr>\n",
       "      <th>Gammares</th>\n",
       "      <td>0</td>\n",
       "    </tr>\n",
       "    <tr>\n",
       "      <th rowspan=\"2\" valign=\"top\">Diuron</th>\n",
       "      <th>Diatomées benthiques</th>\n",
       "      <td>0</td>\n",
       "    </tr>\n",
       "    <tr>\n",
       "      <th>Gammares</th>\n",
       "      <td>0</td>\n",
       "    </tr>\n",
       "    <tr>\n",
       "      <th rowspan=\"2\" valign=\"top\">Matières en suspension</th>\n",
       "      <th>Diatomées benthiques</th>\n",
       "      <td>0</td>\n",
       "    </tr>\n",
       "    <tr>\n",
       "      <th>Gammares</th>\n",
       "      <td>0</td>\n",
       "    </tr>\n",
       "    <tr>\n",
       "      <th>Oxygène dissous</th>\n",
       "      <th>Diatomées benthiques</th>\n",
       "      <td>0</td>\n",
       "    </tr>\n",
       "    <tr>\n",
       "      <th rowspan=\"2\" valign=\"top\">Phosphore total</th>\n",
       "      <th>Diatomées benthiques</th>\n",
       "      <td>0</td>\n",
       "    </tr>\n",
       "    <tr>\n",
       "      <th>Gammares</th>\n",
       "      <td>0</td>\n",
       "    </tr>\n",
       "    <tr>\n",
       "      <th>Taux de saturation en oxygène</th>\n",
       "      <th>Diatomées benthiques</th>\n",
       "      <td>0</td>\n",
       "    </tr>\n",
       "    <tr>\n",
       "      <th rowspan=\"4\" valign=\"top\">Turbidité Formazine Néphélométrique</th>\n",
       "      <th>Air</th>\n",
       "      <td>0</td>\n",
       "    </tr>\n",
       "    <tr>\n",
       "      <th>Sédiments</th>\n",
       "      <td>0</td>\n",
       "    </tr>\n",
       "    <tr>\n",
       "      <th>Diatomées benthiques</th>\n",
       "      <td>0</td>\n",
       "    </tr>\n",
       "    <tr>\n",
       "      <th>Gammares</th>\n",
       "      <td>0</td>\n",
       "    </tr>\n",
       "    <tr>\n",
       "      <th rowspan=\"4\" valign=\"top\">Carbone Organique</th>\n",
       "      <th>Air</th>\n",
       "      <td>0</td>\n",
       "    </tr>\n",
       "    <tr>\n",
       "      <th>Sédiments</th>\n",
       "      <td>0</td>\n",
       "    </tr>\n",
       "    <tr>\n",
       "      <th>Diatomées benthiques</th>\n",
       "      <td>0</td>\n",
       "    </tr>\n",
       "    <tr>\n",
       "      <th>Gammares</th>\n",
       "      <td>0</td>\n",
       "    </tr>\n",
       "    <tr>\n",
       "      <th rowspan=\"2\" valign=\"top\">Ammonium</th>\n",
       "      <th>Diatomées benthiques</th>\n",
       "      <td>0</td>\n",
       "    </tr>\n",
       "    <tr>\n",
       "      <th>Gammares</th>\n",
       "      <td>0</td>\n",
       "    </tr>\n",
       "    <tr>\n",
       "      <th rowspan=\"2\" valign=\"top\">Nitrates</th>\n",
       "      <th>Diatomées benthiques</th>\n",
       "      <td>0</td>\n",
       "    </tr>\n",
       "    <tr>\n",
       "      <th>Gammares</th>\n",
       "      <td>0</td>\n",
       "    </tr>\n",
       "    <tr>\n",
       "      <th rowspan=\"2\" valign=\"top\">Nitrites</th>\n",
       "      <th>Diatomées benthiques</th>\n",
       "      <td>0</td>\n",
       "    </tr>\n",
       "    <tr>\n",
       "      <th>Gammares</th>\n",
       "      <td>0</td>\n",
       "    </tr>\n",
       "    <tr>\n",
       "      <th rowspan=\"2\" valign=\"top\">Orthophosphates (PO4)</th>\n",
       "      <th>Diatomées benthiques</th>\n",
       "      <td>0</td>\n",
       "    </tr>\n",
       "    <tr>\n",
       "      <th>Gammares</th>\n",
       "      <td>0</td>\n",
       "    </tr>\n",
       "  </tbody>\n",
       "</table>\n",
       "</div>"
      ],
      "text/plain": [
       "                                                                        RsAna\n",
       "                                                                         size\n",
       "LbLongParamètre                                    LbSupport                 \n",
       "Azote Kjeldahl                                     Diatomées benthiques     0\n",
       "                                                   Gammares                 0\n",
       "Conductivité à 25°C                                Diatomées benthiques     0\n",
       "Demande Biochimique en oxygène en 5 jours (D.B.... Diatomées benthiques     0\n",
       "                                                   Gammares                 0\n",
       "Diuron                                             Diatomées benthiques     0\n",
       "                                                   Gammares                 0\n",
       "Matières en suspension                             Diatomées benthiques     0\n",
       "                                                   Gammares                 0\n",
       "Oxygène dissous                                    Diatomées benthiques     0\n",
       "Phosphore total                                    Diatomées benthiques     0\n",
       "                                                   Gammares                 0\n",
       "Taux de saturation en oxygène                      Diatomées benthiques     0\n",
       "Turbidité Formazine Néphélométrique                Air                      0\n",
       "                                                   Sédiments                0\n",
       "                                                   Diatomées benthiques     0\n",
       "                                                   Gammares                 0\n",
       "Carbone Organique                                  Air                      0\n",
       "                                                   Sédiments                0\n",
       "                                                   Diatomées benthiques     0\n",
       "                                                   Gammares                 0\n",
       "Ammonium                                           Diatomées benthiques     0\n",
       "                                                   Gammares                 0\n",
       "Nitrates                                           Diatomées benthiques     0\n",
       "                                                   Gammares                 0\n",
       "Nitrites                                           Diatomées benthiques     0\n",
       "                                                   Gammares                 0\n",
       "Orthophosphates (PO4)                              Diatomées benthiques     0\n",
       "                                                   Gammares                 0"
      ]
     },
     "execution_count": 31,
     "metadata": {},
     "output_type": "execute_result"
    }
   ],
   "source": [
    "# regardons combien de lignes sont vides (RsAna = 0)\n",
    "params_size[params_size[('RsAna','size')]==0]"
   ]
  },
  {
   "cell_type": "code",
   "execution_count": 34,
   "metadata": {},
   "outputs": [
    {
     "data": {
      "text/html": [
       "<div>\n",
       "<style scoped>\n",
       "    .dataframe tbody tr th:only-of-type {\n",
       "        vertical-align: middle;\n",
       "    }\n",
       "\n",
       "    .dataframe tbody tr th {\n",
       "        vertical-align: top;\n",
       "    }\n",
       "\n",
       "    .dataframe thead tr th {\n",
       "        text-align: left;\n",
       "    }\n",
       "\n",
       "    .dataframe thead tr:last-of-type th {\n",
       "        text-align: right;\n",
       "    }\n",
       "</style>\n",
       "<table border=\"1\" class=\"dataframe\">\n",
       "  <thead>\n",
       "    <tr>\n",
       "      <th></th>\n",
       "      <th></th>\n",
       "      <th>RsAna</th>\n",
       "    </tr>\n",
       "    <tr>\n",
       "      <th></th>\n",
       "      <th></th>\n",
       "      <th>size</th>\n",
       "    </tr>\n",
       "    <tr>\n",
       "      <th>LbLongParamètre</th>\n",
       "      <th>LbSupport</th>\n",
       "      <th></th>\n",
       "    </tr>\n",
       "  </thead>\n",
       "  <tbody>\n",
       "    <tr>\n",
       "      <th>Température de l'Eau</th>\n",
       "      <th>Gammares</th>\n",
       "      <td>1</td>\n",
       "    </tr>\n",
       "    <tr>\n",
       "      <th>Conductivité à 25°C</th>\n",
       "      <th>Gammares</th>\n",
       "      <td>1</td>\n",
       "    </tr>\n",
       "    <tr>\n",
       "      <th>Oxygène dissous</th>\n",
       "      <th>Gammares</th>\n",
       "      <td>1</td>\n",
       "    </tr>\n",
       "    <tr>\n",
       "      <th>Taux de saturation en oxygène</th>\n",
       "      <th>Gammares</th>\n",
       "      <td>1</td>\n",
       "    </tr>\n",
       "    <tr>\n",
       "      <th rowspan=\"2\" valign=\"top\">Potentiel en Hydrogène (pH)</th>\n",
       "      <th>Gammares</th>\n",
       "      <td>1</td>\n",
       "    </tr>\n",
       "    <tr>\n",
       "      <th>Diatomées benthiques</th>\n",
       "      <td>28</td>\n",
       "    </tr>\n",
       "    <tr>\n",
       "      <th>Température de l'Eau</th>\n",
       "      <th>Diatomées benthiques</th>\n",
       "      <td>28</td>\n",
       "    </tr>\n",
       "    <tr>\n",
       "      <th>Diuron</th>\n",
       "      <th>Sédiments</th>\n",
       "      <td>35</td>\n",
       "    </tr>\n",
       "    <tr>\n",
       "      <th>Azote Kjeldahl</th>\n",
       "      <th>Sédiments</th>\n",
       "      <td>60</td>\n",
       "    </tr>\n",
       "    <tr>\n",
       "      <th>Potentiel en Hydrogène (pH)</th>\n",
       "      <th>Sédiments</th>\n",
       "      <td>78</td>\n",
       "    </tr>\n",
       "    <tr>\n",
       "      <th>Phosphore total</th>\n",
       "      <th>Sédiments</th>\n",
       "      <td>78</td>\n",
       "    </tr>\n",
       "    <tr>\n",
       "      <th>Température de l'Eau</th>\n",
       "      <th>Sédiments</th>\n",
       "      <td>78</td>\n",
       "    </tr>\n",
       "    <tr>\n",
       "      <th>Ammonium</th>\n",
       "      <th>Sédiments</th>\n",
       "      <td>78</td>\n",
       "    </tr>\n",
       "    <tr>\n",
       "      <th>Nitrates</th>\n",
       "      <th>Sédiments</th>\n",
       "      <td>78</td>\n",
       "    </tr>\n",
       "    <tr>\n",
       "      <th>Nitrites</th>\n",
       "      <th>Sédiments</th>\n",
       "      <td>78</td>\n",
       "    </tr>\n",
       "    <tr>\n",
       "      <th>Taux de saturation en oxygène</th>\n",
       "      <th>Sédiments</th>\n",
       "      <td>78</td>\n",
       "    </tr>\n",
       "    <tr>\n",
       "      <th>Oxygène dissous</th>\n",
       "      <th>Sédiments</th>\n",
       "      <td>78</td>\n",
       "    </tr>\n",
       "    <tr>\n",
       "      <th>Orthophosphates (PO4)</th>\n",
       "      <th>Sédiments</th>\n",
       "      <td>78</td>\n",
       "    </tr>\n",
       "    <tr>\n",
       "      <th>Matières en suspension</th>\n",
       "      <th>Sédiments</th>\n",
       "      <td>78</td>\n",
       "    </tr>\n",
       "    <tr>\n",
       "      <th>Demande Biochimique en oxygène en 5 jours (D.B.O.5)</th>\n",
       "      <th>Sédiments</th>\n",
       "      <td>78</td>\n",
       "    </tr>\n",
       "    <tr>\n",
       "      <th>Conductivité à 25°C</th>\n",
       "      <th>Sédiments</th>\n",
       "      <td>78</td>\n",
       "    </tr>\n",
       "    <tr>\n",
       "      <th>Diuron</th>\n",
       "      <th>Air</th>\n",
       "      <td>1046</td>\n",
       "    </tr>\n",
       "    <tr>\n",
       "      <th>Azote Kjeldahl</th>\n",
       "      <th>Air</th>\n",
       "      <td>2136</td>\n",
       "    </tr>\n",
       "    <tr>\n",
       "      <th>Ammonium</th>\n",
       "      <th>Air</th>\n",
       "      <td>3059</td>\n",
       "    </tr>\n",
       "    <tr>\n",
       "      <th>Phosphore total</th>\n",
       "      <th>Air</th>\n",
       "      <td>3061</td>\n",
       "    </tr>\n",
       "    <tr>\n",
       "      <th>Demande Biochimique en oxygène en 5 jours (D.B.O.5)</th>\n",
       "      <th>Air</th>\n",
       "      <td>3145</td>\n",
       "    </tr>\n",
       "    <tr>\n",
       "      <th>Matières en suspension</th>\n",
       "      <th>Air</th>\n",
       "      <td>3148</td>\n",
       "    </tr>\n",
       "    <tr>\n",
       "      <th>Nitrates</th>\n",
       "      <th>Air</th>\n",
       "      <td>3149</td>\n",
       "    </tr>\n",
       "    <tr>\n",
       "      <th>Nitrites</th>\n",
       "      <th>Air</th>\n",
       "      <td>3149</td>\n",
       "    </tr>\n",
       "    <tr>\n",
       "      <th>Orthophosphates (PO4)</th>\n",
       "      <th>Air</th>\n",
       "      <td>3149</td>\n",
       "    </tr>\n",
       "    <tr>\n",
       "      <th>Taux de saturation en oxygène</th>\n",
       "      <th>Air</th>\n",
       "      <td>3169</td>\n",
       "    </tr>\n",
       "    <tr>\n",
       "      <th>Oxygène dissous</th>\n",
       "      <th>Air</th>\n",
       "      <td>3395</td>\n",
       "    </tr>\n",
       "    <tr>\n",
       "      <th>Température de l'Eau</th>\n",
       "      <th>Air</th>\n",
       "      <td>3402</td>\n",
       "    </tr>\n",
       "    <tr>\n",
       "      <th>Potentiel en Hydrogène (pH)</th>\n",
       "      <th>Air</th>\n",
       "      <td>3428</td>\n",
       "    </tr>\n",
       "    <tr>\n",
       "      <th>Conductivité à 25°C</th>\n",
       "      <th>Air</th>\n",
       "      <td>3432</td>\n",
       "    </tr>\n",
       "    <tr>\n",
       "      <th>Diuron</th>\n",
       "      <th>Eau</th>\n",
       "      <td>279124</td>\n",
       "    </tr>\n",
       "    <tr>\n",
       "      <th>Turbidité Formazine Néphélométrique</th>\n",
       "      <th>Eau</th>\n",
       "      <td>420400</td>\n",
       "    </tr>\n",
       "    <tr>\n",
       "      <th>Ammonium</th>\n",
       "      <th>Eau</th>\n",
       "      <td>509158</td>\n",
       "    </tr>\n",
       "    <tr>\n",
       "      <th>Azote Kjeldahl</th>\n",
       "      <th>Eau</th>\n",
       "      <td>525943</td>\n",
       "    </tr>\n",
       "    <tr>\n",
       "      <th>Nitrites</th>\n",
       "      <th>Eau</th>\n",
       "      <td>531995</td>\n",
       "    </tr>\n",
       "    <tr>\n",
       "      <th>Carbone Organique</th>\n",
       "      <th>Eau</th>\n",
       "      <td>535869</td>\n",
       "    </tr>\n",
       "    <tr>\n",
       "      <th>Demande Biochimique en oxygène en 5 jours (D.B.O.5)</th>\n",
       "      <th>Eau</th>\n",
       "      <td>542836</td>\n",
       "    </tr>\n",
       "    <tr>\n",
       "      <th>Orthophosphates (PO4)</th>\n",
       "      <th>Eau</th>\n",
       "      <td>543972</td>\n",
       "    </tr>\n",
       "    <tr>\n",
       "      <th>Nitrates</th>\n",
       "      <th>Eau</th>\n",
       "      <td>550019</td>\n",
       "    </tr>\n",
       "    <tr>\n",
       "      <th>Phosphore total</th>\n",
       "      <th>Eau</th>\n",
       "      <td>569020</td>\n",
       "    </tr>\n",
       "    <tr>\n",
       "      <th>Matières en suspension</th>\n",
       "      <th>Eau</th>\n",
       "      <td>587151</td>\n",
       "    </tr>\n",
       "    <tr>\n",
       "      <th>Taux de saturation en oxygène</th>\n",
       "      <th>Eau</th>\n",
       "      <td>613947</td>\n",
       "    </tr>\n",
       "    <tr>\n",
       "      <th>Oxygène dissous</th>\n",
       "      <th>Eau</th>\n",
       "      <td>632623</td>\n",
       "    </tr>\n",
       "    <tr>\n",
       "      <th>Conductivité à 25°C</th>\n",
       "      <th>Eau</th>\n",
       "      <td>668744</td>\n",
       "    </tr>\n",
       "    <tr>\n",
       "      <th>Température de l'Eau</th>\n",
       "      <th>Eau</th>\n",
       "      <td>675906</td>\n",
       "    </tr>\n",
       "    <tr>\n",
       "      <th>Potentiel en Hydrogène (pH)</th>\n",
       "      <th>Eau</th>\n",
       "      <td>675940</td>\n",
       "    </tr>\n",
       "  </tbody>\n",
       "</table>\n",
       "</div>"
      ],
      "text/plain": [
       "                                                                          RsAna\n",
       "                                                                           size\n",
       "LbLongParamètre                                    LbSupport                   \n",
       "Température de l'Eau                               Gammares                   1\n",
       "Conductivité à 25°C                                Gammares                   1\n",
       "Oxygène dissous                                    Gammares                   1\n",
       "Taux de saturation en oxygène                      Gammares                   1\n",
       "Potentiel en Hydrogène (pH)                        Gammares                   1\n",
       "                                                   Diatomées benthiques      28\n",
       "Température de l'Eau                               Diatomées benthiques      28\n",
       "Diuron                                             Sédiments                 35\n",
       "Azote Kjeldahl                                     Sédiments                 60\n",
       "Potentiel en Hydrogène (pH)                        Sédiments                 78\n",
       "Phosphore total                                    Sédiments                 78\n",
       "Température de l'Eau                               Sédiments                 78\n",
       "Ammonium                                           Sédiments                 78\n",
       "Nitrates                                           Sédiments                 78\n",
       "Nitrites                                           Sédiments                 78\n",
       "Taux de saturation en oxygène                      Sédiments                 78\n",
       "Oxygène dissous                                    Sédiments                 78\n",
       "Orthophosphates (PO4)                              Sédiments                 78\n",
       "Matières en suspension                             Sédiments                 78\n",
       "Demande Biochimique en oxygène en 5 jours (D.B.... Sédiments                 78\n",
       "Conductivité à 25°C                                Sédiments                 78\n",
       "Diuron                                             Air                     1046\n",
       "Azote Kjeldahl                                     Air                     2136\n",
       "Ammonium                                           Air                     3059\n",
       "Phosphore total                                    Air                     3061\n",
       "Demande Biochimique en oxygène en 5 jours (D.B.... Air                     3145\n",
       "Matières en suspension                             Air                     3148\n",
       "Nitrates                                           Air                     3149\n",
       "Nitrites                                           Air                     3149\n",
       "Orthophosphates (PO4)                              Air                     3149\n",
       "Taux de saturation en oxygène                      Air                     3169\n",
       "Oxygène dissous                                    Air                     3395\n",
       "Température de l'Eau                               Air                     3402\n",
       "Potentiel en Hydrogène (pH)                        Air                     3428\n",
       "Conductivité à 25°C                                Air                     3432\n",
       "Diuron                                             Eau                   279124\n",
       "Turbidité Formazine Néphélométrique                Eau                   420400\n",
       "Ammonium                                           Eau                   509158\n",
       "Azote Kjeldahl                                     Eau                   525943\n",
       "Nitrites                                           Eau                   531995\n",
       "Carbone Organique                                  Eau                   535869\n",
       "Demande Biochimique en oxygène en 5 jours (D.B.... Eau                   542836\n",
       "Orthophosphates (PO4)                              Eau                   543972\n",
       "Nitrates                                           Eau                   550019\n",
       "Phosphore total                                    Eau                   569020\n",
       "Matières en suspension                             Eau                   587151\n",
       "Taux de saturation en oxygène                      Eau                   613947\n",
       "Oxygène dissous                                    Eau                   632623\n",
       "Conductivité à 25°C                                Eau                   668744\n",
       "Température de l'Eau                               Eau                   675906\n",
       "Potentiel en Hydrogène (pH)                        Eau                   675940"
      ]
     },
     "execution_count": 34,
     "metadata": {},
     "output_type": "execute_result"
    }
   ],
   "source": [
    "params_size[params_size[('RsAna','size')]!=0].sort_values(('RsAna','size'),ascending=True)"
   ]
  },
  {
   "cell_type": "markdown",
   "metadata": {},
   "source": [
    "sur toutes les mesures, on voit qu'il n'y en a qu'une de Support Gammares \n",
    "38 de diatomées benthiques\n",
    "et maximum 80 pour sédiments... \n",
    "\n",
    "en comparaison avec les milliers pour l'air, et les centaines de milliers de pour l'eau : \n",
    "\n",
    "on risque sous représentation de ces différents supports \n",
    "\n",
    "TODO : étudier où sont les pas beaucoup, tous sur meme station ? si oui : inutile de les garder\n",
    "\n",
    "stratégies possibles : \n",
    "- over sampling \n",
    "- supprimer ces lignes\n",
    "\n",
    "pour l'instant : rien on garde comme c'est \n"
   ]
  },
  {
   "cell_type": "code",
   "execution_count": 35,
   "metadata": {},
   "outputs": [],
   "source": [
    "# Conversion en chaînes de caractères avant concaténation\n",
    "param_series = df_pc['LbLongParamètre'].astype(str) + ' - ' + df_pc['LbSupport'].astype(str)"
   ]
  },
  {
   "cell_type": "markdown",
   "metadata": {},
   "source": [
    "Prendre en compte les seuils : (RqAna)"
   ]
  },
  {
   "cell_type": "code",
   "execution_count": 36,
   "metadata": {},
   "outputs": [
    {
     "data": {
      "text/plain": [
       "CdRqAna  MnemoRqAna                                                                    \n",
       "1        Résultat > seuil de quantification et < au seuil de saturation ou Résultat = 0    7764758\n",
       "10       Résultat < au seuil de quantification                                             1125177\n",
       "0        Analyse non faite                                                                   10400\n",
       "2        Résultat < seuil de détection                                                        3157\n",
       "7        Traces (< seuil de quantification et > seuil de détection)                           1812\n",
       "3        Résultat > seuil de saturation                                                        237\n",
       "8        Dénombrement > Valeur                                                                  64\n",
       "9        Dénombrement < Valeur                                                                   1\n",
       "11       Echelle Absente                                                                         1\n",
       "Name: count, dtype: int64"
      ]
     },
     "execution_count": 36,
     "metadata": {},
     "output_type": "execute_result"
    }
   ],
   "source": [
    "# traiter les seuils\n",
    "df_pc[['CdRqAna','MnemoRqAna']].value_counts()"
   ]
  },
  {
   "cell_type": "markdown",
   "metadata": {},
   "source": [
    "d'après la doc : \n",
    "- 1 = ok : rien besoin de faire \n",
    "- 0 : analyse non faite -> le résultat doit être vide : nous on va supprimer ces lignes\n",
    "- 2 : le résultat prend alors la valeur du seuil de détection ou du seuil de quantification suivant qu'il est inférieur à l'un de ces deux seuils : TODO le vérifier\n",
    "- 3 : le résultat donne alors la valeur du seuil de saturation : TODO vérifier\n",
    "- 7 : le résultat prend alors la valeur du seuil de détection ou du seuil de quantification suivant qu'il est inférieur à l'un de ces deux seuils. (comme 2) : TODO idem\n",
    "- 8 : Les codes remarque 8 et 9 doivent être utilisés pour qualifier des résultats fournis par des méthodes de type qualitatif, décrits par rapport à un seuil bien que compris dans la plage d’utilisation courante des méthodes (supérieur au seuil de quantification et inférieur au seuil de saturation).\n",
    "- 9 : Les codes remarque 8 et 9 doivent être utilisés pour qualifier des résultats fournis par des méthodes de type qualitatif, décrits par rapport à un seuil bien que compris dans la plage d’utilisation courante des méthodes (supérieur au seuil de quantification et inférieur au seuil de saturation).\n",
    "TODO pour 8 et 9 : je sais pas ce qu'on est censé faire de cette info à part supprimer ces lignes \n",
    "- 10 : Le résultat quant à lui prend la valeur du seuil de quantification. : TODO vérifier mais rien besoin de faire\n",
    "- 11 : pas de doc -> supprimer cette valeur\n",
    "\n",
    "pour tous les TODO vérifier : on a pas besoin de modifier les valeurs "
   ]
  },
  {
   "cell_type": "code",
   "execution_count": 37,
   "metadata": {},
   "outputs": [
    {
     "name": "stdout",
     "output_type": "stream",
     "text": [
      "Avant suppression: (8905607, 49)\n",
      "Après suppression: (8895141, 49)\n",
      "CdRqAna  MnemoRqAna                                                                    \n",
      "1        Résultat > seuil de quantification et < au seuil de saturation ou Résultat = 0    7764758\n",
      "10       Résultat < au seuil de quantification                                             1125177\n",
      "2        Résultat < seuil de détection                                                        3157\n",
      "7        Traces (< seuil de quantification et > seuil de détection)                           1812\n",
      "3        Résultat > seuil de saturation                                                        237\n",
      "Name: count, dtype: int64\n"
     ]
    }
   ],
   "source": [
    "# Vérification des lignes avant la suppression\n",
    "print(\"Avant suppression:\", df_pc.shape)\n",
    "\n",
    "# Suppression des lignes avec les codes spécifiques\n",
    "df_pc = df_pc[~df_pc['CdRqAna'].isin(['0', '8', '9', '11'])]\n",
    "\n",
    "# Vérification des lignes après la suppression\n",
    "print(\"Après suppression:\", df_pc.shape)\n",
    "\n",
    "# Affichage des valeurs uniques restantes\n",
    "print(df_pc[['CdRqAna', 'MnemoRqAna']].value_counts())\n"
   ]
  },
  {
   "cell_type": "code",
   "execution_count": 38,
   "metadata": {},
   "outputs": [],
   "source": [
    "# TODO : cellule pour vérifier 2, 3, 7, 10\n"
   ]
  },
  {
   "cell_type": "code",
   "execution_count": 39,
   "metadata": {},
   "outputs": [
    {
     "name": "stderr",
     "output_type": "stream",
     "text": [
      "/var/folders/p1/4yqk4cyx3058m3j04rtkr56m0000gn/T/ipykernel_5286/2293102865.py:2: SettingWithCopyWarning: \n",
      "A value is trying to be set on a copy of a slice from a DataFrame.\n",
      "Try using .loc[row_indexer,col_indexer] = value instead\n",
      "\n",
      "See the caveats in the documentation: https://pandas.pydata.org/pandas-docs/stable/user_guide/indexing.html#returning-a-view-versus-a-copy\n",
      "  df_pc_light['param'] = param_series\n"
     ]
    },
    {
     "data": {
      "text/html": [
       "<div>\n",
       "<style scoped>\n",
       "    .dataframe tbody tr th:only-of-type {\n",
       "        vertical-align: middle;\n",
       "    }\n",
       "\n",
       "    .dataframe tbody tr th {\n",
       "        vertical-align: top;\n",
       "    }\n",
       "\n",
       "    .dataframe thead th {\n",
       "        text-align: right;\n",
       "    }\n",
       "</style>\n",
       "<table border=\"1\" class=\"dataframe\">\n",
       "  <thead>\n",
       "    <tr style=\"text-align: right;\">\n",
       "      <th></th>\n",
       "      <th>CdStationMesureEauxSurface</th>\n",
       "      <th>DatePrel</th>\n",
       "      <th>RsAna</th>\n",
       "      <th>param</th>\n",
       "    </tr>\n",
       "  </thead>\n",
       "  <tbody>\n",
       "    <tr>\n",
       "      <th>0</th>\n",
       "      <td>05005600</td>\n",
       "      <td>2005-07-06</td>\n",
       "      <td>3.000</td>\n",
       "      <td>Matières en suspension - Eau</td>\n",
       "    </tr>\n",
       "    <tr>\n",
       "      <th>1</th>\n",
       "      <td>05200115</td>\n",
       "      <td>2005-09-28</td>\n",
       "      <td>0.700</td>\n",
       "      <td>Demande Biochimique en oxygène en 5 jours (D.B...</td>\n",
       "    </tr>\n",
       "    <tr>\n",
       "      <th>2</th>\n",
       "      <td>05001800</td>\n",
       "      <td>2005-01-19</td>\n",
       "      <td>8.100</td>\n",
       "      <td>Température de l'Eau - Eau</td>\n",
       "    </tr>\n",
       "    <tr>\n",
       "      <th>3</th>\n",
       "      <td>05001800</td>\n",
       "      <td>2005-01-19</td>\n",
       "      <td>7.800</td>\n",
       "      <td>Potentiel en Hydrogène (pH) - Eau</td>\n",
       "    </tr>\n",
       "    <tr>\n",
       "      <th>4</th>\n",
       "      <td>05001800</td>\n",
       "      <td>2005-01-19</td>\n",
       "      <td>845.000</td>\n",
       "      <td>Conductivité à 25°C - Eau</td>\n",
       "    </tr>\n",
       "    <tr>\n",
       "      <th>...</th>\n",
       "      <td>...</td>\n",
       "      <td>...</td>\n",
       "      <td>...</td>\n",
       "      <td>...</td>\n",
       "    </tr>\n",
       "    <tr>\n",
       "      <th>8917438</th>\n",
       "      <td>06133330</td>\n",
       "      <td>2022-10-25</td>\n",
       "      <td>0.010</td>\n",
       "      <td>Nitrites - Eau</td>\n",
       "    </tr>\n",
       "    <tr>\n",
       "      <th>8917439</th>\n",
       "      <td>06133330</td>\n",
       "      <td>2022-10-25</td>\n",
       "      <td>0.960</td>\n",
       "      <td>Nitrates - Eau</td>\n",
       "    </tr>\n",
       "    <tr>\n",
       "      <th>8917440</th>\n",
       "      <td>06133330</td>\n",
       "      <td>2022-10-25</td>\n",
       "      <td>0.005</td>\n",
       "      <td>Phosphore total - Eau</td>\n",
       "    </tr>\n",
       "    <tr>\n",
       "      <th>8917441</th>\n",
       "      <td>06133330</td>\n",
       "      <td>2022-10-25</td>\n",
       "      <td>0.010</td>\n",
       "      <td>Orthophosphates (PO4) - Eau</td>\n",
       "    </tr>\n",
       "    <tr>\n",
       "      <th>8917442</th>\n",
       "      <td>06133330</td>\n",
       "      <td>2022-10-25</td>\n",
       "      <td>0.510</td>\n",
       "      <td>Carbone Organique - Eau</td>\n",
       "    </tr>\n",
       "  </tbody>\n",
       "</table>\n",
       "<p>8895141 rows × 4 columns</p>\n",
       "</div>"
      ],
      "text/plain": [
       "        CdStationMesureEauxSurface   DatePrel    RsAna  \\\n",
       "0                         05005600 2005-07-06    3.000   \n",
       "1                         05200115 2005-09-28    0.700   \n",
       "2                         05001800 2005-01-19    8.100   \n",
       "3                         05001800 2005-01-19    7.800   \n",
       "4                         05001800 2005-01-19  845.000   \n",
       "...                            ...        ...      ...   \n",
       "8917438                   06133330 2022-10-25    0.010   \n",
       "8917439                   06133330 2022-10-25    0.960   \n",
       "8917440                   06133330 2022-10-25    0.005   \n",
       "8917441                   06133330 2022-10-25    0.010   \n",
       "8917442                   06133330 2022-10-25    0.510   \n",
       "\n",
       "                                                     param  \n",
       "0                             Matières en suspension - Eau  \n",
       "1        Demande Biochimique en oxygène en 5 jours (D.B...  \n",
       "2                               Température de l'Eau - Eau  \n",
       "3                        Potentiel en Hydrogène (pH) - Eau  \n",
       "4                                Conductivité à 25°C - Eau  \n",
       "...                                                    ...  \n",
       "8917438                                     Nitrites - Eau  \n",
       "8917439                                     Nitrates - Eau  \n",
       "8917440                              Phosphore total - Eau  \n",
       "8917441                        Orthophosphates (PO4) - Eau  \n",
       "8917442                            Carbone Organique - Eau  \n",
       "\n",
       "[8895141 rows x 4 columns]"
      ]
     },
     "execution_count": 39,
     "metadata": {},
     "output_type": "execute_result"
    }
   ],
   "source": [
    "df_pc_light = df_pc[['CdStationMesureEauxSurface','DatePrel','RsAna']] # pour un parametre/support donné, un résultat d'analyse à une date donnée\n",
    "df_pc_light['param'] = param_series\n",
    "df_pc_light "
   ]
  },
  {
   "cell_type": "code",
   "execution_count": 40,
   "metadata": {},
   "outputs": [],
   "source": [
    "# supprimer les lignes où pour un paramètre donné on a moins de 1000 valeurs\n",
    "df_pc_light = df_pc_light.groupby('param').filter(lambda x: x['RsAna'].count() > 1000)"
   ]
  },
  {
   "cell_type": "code",
   "execution_count": 41,
   "metadata": {},
   "outputs": [
    {
     "data": {
      "text/html": [
       "<div>\n",
       "<style scoped>\n",
       "    .dataframe tbody tr th:only-of-type {\n",
       "        vertical-align: middle;\n",
       "    }\n",
       "\n",
       "    .dataframe tbody tr th {\n",
       "        vertical-align: top;\n",
       "    }\n",
       "\n",
       "    .dataframe thead th {\n",
       "        text-align: right;\n",
       "    }\n",
       "</style>\n",
       "<table border=\"1\" class=\"dataframe\">\n",
       "  <thead>\n",
       "    <tr style=\"text-align: right;\">\n",
       "      <th></th>\n",
       "      <th>CdStationMesureEauxSurface</th>\n",
       "      <th>DatePrel</th>\n",
       "      <th>RsAna</th>\n",
       "      <th>param</th>\n",
       "    </tr>\n",
       "  </thead>\n",
       "  <tbody>\n",
       "  </tbody>\n",
       "</table>\n",
       "</div>"
      ],
      "text/plain": [
       "Empty DataFrame\n",
       "Columns: [CdStationMesureEauxSurface, DatePrel, RsAna, param]\n",
       "Index: []"
      ]
     },
     "execution_count": 41,
     "metadata": {},
     "output_type": "execute_result"
    }
   ],
   "source": [
    "# afficher les lignes où RsAna est vide\n",
    "df_pc_light[df_pc_light['RsAna'].isnull()]"
   ]
  },
  {
   "cell_type": "code",
   "execution_count": 42,
   "metadata": {},
   "outputs": [
    {
     "data": {
      "text/html": [
       "<div>\n",
       "<style scoped>\n",
       "    .dataframe tbody tr th:only-of-type {\n",
       "        vertical-align: middle;\n",
       "    }\n",
       "\n",
       "    .dataframe tbody tr th {\n",
       "        vertical-align: top;\n",
       "    }\n",
       "\n",
       "    .dataframe thead th {\n",
       "        text-align: right;\n",
       "    }\n",
       "</style>\n",
       "<table border=\"1\" class=\"dataframe\">\n",
       "  <thead>\n",
       "    <tr style=\"text-align: right;\">\n",
       "      <th></th>\n",
       "      <th>CdStationMesureEauxSurface</th>\n",
       "      <th>DatePrel</th>\n",
       "      <th>RsAna</th>\n",
       "      <th>param</th>\n",
       "    </tr>\n",
       "  </thead>\n",
       "  <tbody>\n",
       "    <tr>\n",
       "      <th>21474</th>\n",
       "      <td>05215100</td>\n",
       "      <td>2005-07-04</td>\n",
       "      <td>16.3</td>\n",
       "      <td>Température de l'Eau - Eau</td>\n",
       "    </tr>\n",
       "    <tr>\n",
       "      <th>35195</th>\n",
       "      <td>02018000</td>\n",
       "      <td>2005-05-03</td>\n",
       "      <td>15.5</td>\n",
       "      <td>Température de l'Eau - Eau</td>\n",
       "    </tr>\n",
       "    <tr>\n",
       "      <th>35196</th>\n",
       "      <td>02018000</td>\n",
       "      <td>2005-05-03</td>\n",
       "      <td>7.9</td>\n",
       "      <td>Potentiel en Hydrogène (pH) - Eau</td>\n",
       "    </tr>\n",
       "    <tr>\n",
       "      <th>35199</th>\n",
       "      <td>02018000</td>\n",
       "      <td>2005-05-03</td>\n",
       "      <td>9.0</td>\n",
       "      <td>Oxygène dissous - Eau</td>\n",
       "    </tr>\n",
       "    <tr>\n",
       "      <th>35581</th>\n",
       "      <td>02025500</td>\n",
       "      <td>2005-05-09</td>\n",
       "      <td>11.3</td>\n",
       "      <td>Température de l'Eau - Eau</td>\n",
       "    </tr>\n",
       "    <tr>\n",
       "      <th>...</th>\n",
       "      <td>...</td>\n",
       "      <td>...</td>\n",
       "      <td>...</td>\n",
       "      <td>...</td>\n",
       "    </tr>\n",
       "    <tr>\n",
       "      <th>8878024</th>\n",
       "      <td>06213370</td>\n",
       "      <td>2022-11-15</td>\n",
       "      <td>13.0</td>\n",
       "      <td>Température de l'Eau - Eau</td>\n",
       "    </tr>\n",
       "    <tr>\n",
       "      <th>8878932</th>\n",
       "      <td>06002058</td>\n",
       "      <td>2022-11-15</td>\n",
       "      <td>483.0</td>\n",
       "      <td>Conductivité à 25°C - Eau</td>\n",
       "    </tr>\n",
       "    <tr>\n",
       "      <th>8878933</th>\n",
       "      <td>06002058</td>\n",
       "      <td>2022-11-15</td>\n",
       "      <td>9.4</td>\n",
       "      <td>Oxygène dissous - Eau</td>\n",
       "    </tr>\n",
       "    <tr>\n",
       "      <th>8878934</th>\n",
       "      <td>06002058</td>\n",
       "      <td>2022-11-15</td>\n",
       "      <td>8.0</td>\n",
       "      <td>Potentiel en Hydrogène (pH) - Eau</td>\n",
       "    </tr>\n",
       "    <tr>\n",
       "      <th>8878936</th>\n",
       "      <td>06002058</td>\n",
       "      <td>2022-11-15</td>\n",
       "      <td>11.9</td>\n",
       "      <td>Température de l'Eau - Eau</td>\n",
       "    </tr>\n",
       "  </tbody>\n",
       "</table>\n",
       "<p>83424 rows × 4 columns</p>\n",
       "</div>"
      ],
      "text/plain": [
       "        CdStationMesureEauxSurface   DatePrel  RsAna  \\\n",
       "21474                     05215100 2005-07-04   16.3   \n",
       "35195                     02018000 2005-05-03   15.5   \n",
       "35196                     02018000 2005-05-03    7.9   \n",
       "35199                     02018000 2005-05-03    9.0   \n",
       "35581                     02025500 2005-05-09   11.3   \n",
       "...                            ...        ...    ...   \n",
       "8878024                   06213370 2022-11-15   13.0   \n",
       "8878932                   06002058 2022-11-15  483.0   \n",
       "8878933                   06002058 2022-11-15    9.4   \n",
       "8878934                   06002058 2022-11-15    8.0   \n",
       "8878936                   06002058 2022-11-15   11.9   \n",
       "\n",
       "                                     param  \n",
       "21474           Température de l'Eau - Eau  \n",
       "35195           Température de l'Eau - Eau  \n",
       "35196    Potentiel en Hydrogène (pH) - Eau  \n",
       "35199                Oxygène dissous - Eau  \n",
       "35581           Température de l'Eau - Eau  \n",
       "...                                    ...  \n",
       "8878024         Température de l'Eau - Eau  \n",
       "8878932          Conductivité à 25°C - Eau  \n",
       "8878933              Oxygène dissous - Eau  \n",
       "8878934  Potentiel en Hydrogène (pH) - Eau  \n",
       "8878936         Température de l'Eau - Eau  \n",
       "\n",
       "[83424 rows x 4 columns]"
      ]
     },
     "execution_count": 42,
     "metadata": {},
     "output_type": "execute_result"
    }
   ],
   "source": [
    "# afficher les doublons\n",
    "df_pc_light[df_pc_light.duplicated()]"
   ]
  },
  {
   "cell_type": "code",
   "execution_count": 43,
   "metadata": {},
   "outputs": [
    {
     "name": "stdout",
     "output_type": "stream",
     "text": [
      "Avant suppression: (8894049, 4)\n",
      "Après suppression: (8810625, 4)\n"
     ]
    }
   ],
   "source": [
    "# supprimer les doublons\n",
    "print(\"Avant suppression:\", df_pc_light.shape)\n",
    "df_pc_light.drop_duplicates(inplace=True)\n",
    "print(\"Après suppression:\", df_pc_light.shape)"
   ]
  },
  {
   "cell_type": "code",
   "execution_count": 44,
   "metadata": {},
   "outputs": [],
   "source": [
    "# pour un paramètre donné à une station donné à une date donnée, y a t il plusieurs résultats d'analyse ?"
   ]
  },
  {
   "cell_type": "code",
   "execution_count": 45,
   "metadata": {},
   "outputs": [],
   "source": [
    "duplicates = df_pc_light[df_pc_light.duplicated(subset=['CdStationMesureEauxSurface', 'param', 'DatePrel'], keep=False)]"
   ]
  },
  {
   "cell_type": "code",
   "execution_count": 46,
   "metadata": {},
   "outputs": [
    {
     "data": {
      "text/plain": [
       "(40987, 4)"
      ]
     },
     "execution_count": 46,
     "metadata": {},
     "output_type": "execute_result"
    }
   ],
   "source": [
    "duplicates.shape"
   ]
  },
  {
   "cell_type": "code",
   "execution_count": null,
   "metadata": {},
   "outputs": [],
   "source": [
    "# oui : on conserve tout "
   ]
  },
  {
   "cell_type": "markdown",
   "metadata": {},
   "source": [
    "# Inspection : recherche de valeurs aberrantes"
   ]
  },
  {
   "cell_type": "markdown",
   "metadata": {},
   "source": [
    "On a essayé d'afficher les outliers : trop de points, trop lourd, trop long : mais on a vu que pour certains paramètres il y avait clairements des valeurs aberranttes : \n",
    "Température de l'eau = -9999.0\n",
    "\n",
    "Il faut donc clairement traiter ces cas\n",
    "\n",
    "On a étudié plusieurs manières de regrouper les outliers (IQR, zscore, avec différents seuils)"
   ]
  },
  {
   "cell_type": "code",
   "execution_count": null,
   "metadata": {},
   "outputs": [
    {
     "name": "stdout",
     "output_type": "stream",
     "text": [
      "Résumé des outliers par paramètre :\n",
      "                                                param  total_values  \\\n",
      "0                        Matières en suspension - Eau        584610   \n",
      "1   Demande Biochimique en oxygène en 5 jours (D.B...        541160   \n",
      "2                          Température de l'Eau - Eau        656418   \n",
      "3                   Potentiel en Hydrogène (pH) - Eau        652628   \n",
      "4                           Conductivité à 25°C - Eau        649121   \n",
      "5                               Oxygène dissous - Eau        629463   \n",
      "6                 Taux de saturation en oxygène - Eau        610779   \n",
      "7                               Phosphore total - Eau        565122   \n",
      "8           Turbidité Formazine Néphélométrique - Eau        419605   \n",
      "9                                Azote Kjeldahl - Eau        524334   \n",
      "10                                       Diuron - Eau        278229   \n",
      "11                            Carbone Organique - Eau        534038   \n",
      "12                                     Ammonium - Eau        507401   \n",
      "13                                     Nitrites - Eau        530105   \n",
      "14                                     Nitrates - Eau        545844   \n",
      "15                        Orthophosphates (PO4) - Eau        539900   \n",
      "16                                     Ammonium - Air          3059   \n",
      "17                               Azote Kjeldahl - Air          2136   \n",
      "18                Taux de saturation en oxygène - Air          3169   \n",
      "19                              Oxygène dissous - Air          3395   \n",
      "20                         Température de l'Eau - Air          3402   \n",
      "21                  Potentiel en Hydrogène (pH) - Air          3428   \n",
      "22                          Conductivité à 25°C - Air          3432   \n",
      "23                       Matières en suspension - Air          3148   \n",
      "24  Demande Biochimique en oxygène en 5 jours (D.B...          3145   \n",
      "25                                     Nitrites - Air          3149   \n",
      "26                                     Nitrates - Air          3149   \n",
      "27                        Orthophosphates (PO4) - Air          3149   \n",
      "28                              Phosphore total - Air          3061   \n",
      "29                                       Diuron - Air          1046   \n",
      "\n",
      "    outliers_count  outliers_percent  min_outlier  max_outlier  \n",
      "0             2615          0.447307      320.000     55500.00  \n",
      "1              891          0.164646       11.600      1360.00  \n",
      "2                5          0.000762    -9999.000       147.20  \n",
      "3             3004          0.460293        0.000       501.00  \n",
      "4             7513          1.157411     1373.000     75000.00  \n",
      "5             3430          0.544909        0.000      1437.00  \n",
      "6            31234          5.113797        0.000      1115.00  \n",
      "7             4051          0.716836        1.020       141.00  \n",
      "8             1396          0.332694      278.000     37000.00  \n",
      "9             5448          1.039032        3.640       245.00  \n",
      "10             967          0.347555        0.314        36.00  \n",
      "11           10165          1.903423       11.920       670.00  \n",
      "12            2262          0.445801        4.110      1190.00  \n",
      "13            6106          1.151847        0.633        56.00  \n",
      "14           22338          4.092378       44.650      1290.00  \n",
      "15            6880          1.274310        1.554       160.00  \n",
      "16              58          1.896044        1.390        13.10  \n",
      "17              58          2.715356        2.500        12.70  \n",
      "18             181          5.711581       25.000       228.00  \n",
      "19             143          4.212077        2.400        19.42  \n",
      "20             104          3.057025       -0.100        28.00  \n",
      "21             145          4.229872        6.200         9.71  \n",
      "22             133          3.875291        6.630      2280.00  \n",
      "23              79          2.509530       68.000       700.00  \n",
      "24             128          4.069952        3.700         9.00  \n",
      "25             116          3.683709        0.510         2.87  \n",
      "26             112          3.556685       45.200        83.30  \n",
      "27              33          1.047952        2.780        52.40  \n",
      "28              22          0.718719        1.350        19.86  \n",
      "29              30          2.868069        0.440         2.20  \n"
     ]
    }
   ],
   "source": [
    "from scipy.stats import zscore\n",
    "\n",
    "outliers_summary = []\n",
    "cleaned_dataframes = []\n",
    "\n",
    "for param in df_pc_light['param'].unique():\n",
    "    df_param = df_pc_light[df_pc_light['param'] == param].copy()\n",
    "    df_param['zscore'] = zscore(df_param['RsAna'])\n",
    "    outliers = df_param[abs(df_param['zscore']) > 3]\n",
    "    outliers_summary.append({\n",
    "        \"param\": param,\n",
    "        \"total_values\": len(df_param),\n",
    "        \"outliers_count\": len(outliers),\n",
    "        \"outliers_percent\": len(outliers) / len(df_param) * 100,\n",
    "        \"min_outlier\": outliers['RsAna'].min() if not outliers.empty else None,\n",
    "        \"max_outlier\": outliers['RsAna'].max() if not outliers.empty else None,\n",
    "    })\n",
    "    \n",
    "    df_cleaned = df_param[abs(df_param['zscore']) <= 3].copy()\n",
    "    df_cleaned.drop(columns=['zscore'], inplace=True)\n",
    "    cleaned_dataframes.append(df_cleaned)\n",
    "\n",
    "outliers_summary_df = pd.DataFrame(outliers_summary)\n",
    "\n",
    "print(\"Résumé des outliers par paramètre :\")\n",
    "print(outliers_summary_df)"
   ]
  },
  {
   "cell_type": "code",
   "execution_count": 68,
   "metadata": {},
   "outputs": [
    {
     "name": "stdout",
     "output_type": "stream",
     "text": [
      "Résumé des outliers avant imputation :\n",
      "                                                param  total_values  \\\n",
      "0                        Matières en suspension - Eau        584610   \n",
      "1   Demande Biochimique en oxygène en 5 jours (D.B...        541160   \n",
      "2                          Température de l'Eau - Eau        656418   \n",
      "3                   Potentiel en Hydrogène (pH) - Eau        652628   \n",
      "4                           Conductivité à 25°C - Eau        649121   \n",
      "5                               Oxygène dissous - Eau        629463   \n",
      "6                 Taux de saturation en oxygène - Eau        610779   \n",
      "7                               Phosphore total - Eau        565122   \n",
      "8           Turbidité Formazine Néphélométrique - Eau        419605   \n",
      "9                                Azote Kjeldahl - Eau        524334   \n",
      "10                                       Diuron - Eau        278229   \n",
      "11                            Carbone Organique - Eau        534038   \n",
      "12                                     Ammonium - Eau        507401   \n",
      "13                                     Nitrites - Eau        530105   \n",
      "14                                     Nitrates - Eau        545844   \n",
      "15                        Orthophosphates (PO4) - Eau        539900   \n",
      "16                                     Ammonium - Air          3059   \n",
      "17                               Azote Kjeldahl - Air          2136   \n",
      "18                Taux de saturation en oxygène - Air          3169   \n",
      "19                              Oxygène dissous - Air          3395   \n",
      "20                         Température de l'Eau - Air          3402   \n",
      "21                  Potentiel en Hydrogène (pH) - Air          3428   \n",
      "22                          Conductivité à 25°C - Air          3432   \n",
      "23                       Matières en suspension - Air          3148   \n",
      "24  Demande Biochimique en oxygène en 5 jours (D.B...          3145   \n",
      "25                                     Nitrites - Air          3149   \n",
      "26                                     Nitrates - Air          3149   \n",
      "27                        Orthophosphates (PO4) - Air          3149   \n",
      "28                              Phosphore total - Air          3061   \n",
      "29                                       Diuron - Air          1046   \n",
      "\n",
      "    outliers_count_before  outliers_percent_before  \n",
      "0                    1460                 0.249739  \n",
      "1                     535                 0.098862  \n",
      "2                       4                 0.000609  \n",
      "3                     386                 0.059145  \n",
      "4                    3651                 0.562453  \n",
      "5                     100                 0.015887  \n",
      "6                   11424                 1.870398  \n",
      "7                    2275                 0.402568  \n",
      "8                     801                 0.190894  \n",
      "9                    3126                 0.596185  \n",
      "10                    605                 0.217447  \n",
      "11                   3287                 0.615499  \n",
      "12                   1513                 0.298186  \n",
      "13                   3338                 0.629687  \n",
      "14                   5782                 1.059277  \n",
      "15                   3855                 0.714021  \n",
      "16                     47                 1.536450  \n",
      "17                     40                 1.872659  \n",
      "18                     50                 1.577785  \n",
      "19                     27                 0.795287  \n",
      "20                      2                 0.058789  \n",
      "21                     33                 0.962660  \n",
      "22                     36                 1.048951  \n",
      "23                     46                 1.461245  \n",
      "24                     51                 1.621622  \n",
      "25                     61                 1.937123  \n",
      "26                     23                 0.730391  \n",
      "27                     19                 0.603366  \n",
      "28                     14                 0.457367  \n",
      "29                     24                 2.294455  \n"
     ]
    }
   ],
   "source": [
    "\n",
    "# Crée un DataFrame propre pour le traitement\n",
    "df_cleaned = df_pc_light.copy()\n",
    "\n",
    "# Liste pour stocker les résumés des outliers\n",
    "outliers_summary_before = []\n",
    "\n",
    "# Boucle sur chaque paramètre\n",
    "for param in df_cleaned['param'].unique():\n",
    "    df_param = df_cleaned[df_cleaned['param'] == param].copy()\n",
    "    \n",
    "    # Calcul du Z-score pour identifier les outliers\n",
    "    df_param['zscore'] = zscore(df_param['RsAna'])\n",
    "    \n",
    "    # Identification des outliers avant imputation\n",
    "    outliers_before = df_param[abs(df_param['zscore']) > 3]\n",
    "    \n",
    "    # Résumé des outliers avant imputation\n",
    "    outliers_summary_before.append({\n",
    "        \"param\": param,\n",
    "        \"total_values\": len(df_param),\n",
    "        \"outliers_count_before\": len(outliers_before),\n",
    "        \"outliers_percent_before\": len(outliers_before) / len(df_param) * 100,\n",
    "    })\n",
    "    \n",
    "    # Imputation des outliers avec la médiane\n",
    "    median_value = df_param['RsAna'].median()\n",
    "    df_param.loc[abs(df_param['zscore']) > 3, 'RsAna'] = median_value\n",
    "    \n",
    "    # Identification des outliers après imputation (cela doit être zéro)\n",
    "    df_param['zscore'] = zscore(df_param['RsAna'])  # Recalculer le zscore après imputation\n",
    "    outliers_after = df_param[abs(df_param['zscore']) > 3]\n",
    "    \n",
    "    # Remplacer les données dans le DataFrame global\n",
    "    df_cleaned.loc[df_cleaned['param'] == param, 'RsAna'] = df_param['RsAna']\n",
    "    \n",
    "# Convertir les résumés en DataFrame pour une visualisation facile\n",
    "outliers_summary_before_df = pd.DataFrame(outliers_summary_before)\n",
    "\n",
    "print(\"Résumé des outliers avant imputation :\")\n",
    "print(outliers_summary_before_df)"
   ]
  },
  {
   "cell_type": "markdown",
   "metadata": {},
   "source": [
    "On a remplacé par la médiane associée à chaque paramètre les outliers.  \n",
    "Pour tous les paramètres, moins de 2% étaient des outliers, on pense donc avoir minimisé la perte d'information.  \n",
    "Seulement le dernier paramètre : Diuron - Air avait plus de 2% (2.29%) d'outliers, qui ont été imputés.  "
   ]
  },
  {
   "cell_type": "markdown",
   "metadata": {},
   "source": [
    "# Première visualisation : aggrégation par saison"
   ]
  },
  {
   "cell_type": "code",
   "execution_count": 80,
   "metadata": {},
   "outputs": [],
   "source": [
    "df_pc_season = df_cleaned.copy() \n",
    "\n",
    "def assign_season(month):\n",
    "    if month in [12, 1, 2]:\n",
    "        return 'Hiver'\n",
    "    elif month in [3, 4, 5]:\n",
    "        return 'Printemps'\n",
    "    elif month in [6, 7, 8]:\n",
    "        return 'Été'\n",
    "    else:\n",
    "        return 'Automne'\n",
    "    \n",
    "df_pc_season['saison'] = df_pc_season['DatePrel'].dt.month.apply(assign_season)\n",
    "df_pc_season['année'] = df_pc_season['DatePrel'].dt.year\n",
    "\n",
    "df_counts = df_pc_season.groupby(['année', 'saison']).size().reset_index(name='nombre de résultats d\\'analyse par saison')"
   ]
  },
  {
   "cell_type": "code",
   "execution_count": 1,
   "metadata": {},
   "outputs": [],
   "source": [
    "season_colors = {\n",
    "    \"Printemps\": \"#77DD77\",\n",
    "    \"Été\": \"#FFB347\",\n",
    "    \"Automne\": \"#FF6961\",\n",
    "    \"Hiver\": \"#AEC6CF\"\n",
    "}"
   ]
  },
  {
   "cell_type": "code",
   "execution_count": null,
   "metadata": {},
   "outputs": [
    {
     "ename": "NameError",
     "evalue": "name 'px' is not defined",
     "output_type": "error",
     "traceback": [
      "\u001b[0;31m---------------------------------------------------------------------------\u001b[0m",
      "\u001b[0;31mNameError\u001b[0m                                 Traceback (most recent call last)",
      "Cell \u001b[0;32mIn[2], line 2\u001b[0m\n\u001b[1;32m      1\u001b[0m \u001b[38;5;66;03m# Créer un graphique à barres\u001b[39;00m\n\u001b[0;32m----> 2\u001b[0m fig \u001b[38;5;241m=\u001b[39m \u001b[43mpx\u001b[49m\u001b[38;5;241m.\u001b[39mbar(df_counts, \n\u001b[1;32m      3\u001b[0m              x\u001b[38;5;241m=\u001b[39m\u001b[38;5;124m'\u001b[39m\u001b[38;5;124mannée\u001b[39m\u001b[38;5;124m'\u001b[39m, \n\u001b[1;32m      4\u001b[0m              y\u001b[38;5;241m=\u001b[39m\u001b[38;5;124m'\u001b[39m\u001b[38;5;124mnombre de résultats d\u001b[39m\u001b[38;5;130;01m\\'\u001b[39;00m\u001b[38;5;124manalyse par saison\u001b[39m\u001b[38;5;124m'\u001b[39m, \n\u001b[1;32m      5\u001b[0m              color\u001b[38;5;241m=\u001b[39mseason_colors, \n\u001b[1;32m      6\u001b[0m              barmode\u001b[38;5;241m=\u001b[39m\u001b[38;5;124m'\u001b[39m\u001b[38;5;124mstack\u001b[39m\u001b[38;5;124m'\u001b[39m, \n\u001b[1;32m      7\u001b[0m              labels\u001b[38;5;241m=\u001b[39m{\u001b[38;5;124m'\u001b[39m\u001b[38;5;124mAnnée\u001b[39m\u001b[38;5;124m'\u001b[39m: \u001b[38;5;124m'\u001b[39m\u001b[38;5;124mannée\u001b[39m\u001b[38;5;124m'\u001b[39m, \u001b[38;5;124m'\u001b[39m\u001b[38;5;124mNombre de valeurs\u001b[39m\u001b[38;5;124m'\u001b[39m: \u001b[38;5;124m'\u001b[39m\u001b[38;5;124mNombre de Mesures\u001b[39m\u001b[38;5;124m'\u001b[39m},\n\u001b[1;32m      8\u001b[0m              title\u001b[38;5;241m=\u001b[39m\u001b[38;5;124m'\u001b[39m\u001b[38;5;124mNombre de Mesures par Année et Saison\u001b[39m\u001b[38;5;124m'\u001b[39m)\n\u001b[1;32m     10\u001b[0m \u001b[38;5;66;03m# Personnaliser l'apparence\u001b[39;00m\n\u001b[1;32m     11\u001b[0m fig\u001b[38;5;241m.\u001b[39mupdate_layout(\n\u001b[1;32m     12\u001b[0m     xaxis_title\u001b[38;5;241m=\u001b[39m\u001b[38;5;124m'\u001b[39m\u001b[38;5;124mannée\u001b[39m\u001b[38;5;124m'\u001b[39m,\n\u001b[1;32m     13\u001b[0m     yaxis_title\u001b[38;5;241m=\u001b[39m\u001b[38;5;124m'\u001b[39m\u001b[38;5;124mnombre de résultats d\u001b[39m\u001b[38;5;130;01m\\'\u001b[39;00m\u001b[38;5;124manalyse\u001b[39m\u001b[38;5;124m'\u001b[39m,\n\u001b[1;32m     14\u001b[0m     legend_title\u001b[38;5;241m=\u001b[39m\u001b[38;5;124m'\u001b[39m\u001b[38;5;124msaison\u001b[39m\u001b[38;5;124m'\u001b[39m\n\u001b[1;32m     15\u001b[0m )\n",
      "\u001b[0;31mNameError\u001b[0m: name 'px' is not defined"
     ]
    }
   ],
   "source": [
    "# Créer un graphique à barres\n",
    "fig = px.bar(df_counts, \n",
    "             x='année', \n",
    "             y='nombre de résultats d\\'analyse par saison', \n",
    "             color='saison', # TODO \n",
    "             barmode='stack', \n",
    "             labels={'Année': 'année', 'Nombre de valeurs': 'Nombre de Mesures'},\n",
    "             title='Nombre de Mesures par Année et Saison')\n",
    "\n",
    "# Personnaliser l'apparence\n",
    "fig.update_layout(\n",
    "    xaxis_title='année',\n",
    "    yaxis_title='nombre de résultats d\\'analyse',\n",
    "    legend_title='saison'\n",
    ")\n",
    "\n",
    "# Afficher le graphique\n",
    "fig.show()\n"
   ]
  },
  {
   "cell_type": "markdown",
   "metadata": {},
   "source": [
    "On a plus de 300 k résultats tous les ans (plus ou moins équilibrés entre les saisons) à partir de 2007 jusque 2021.\n",
    "Pour 2005, 2006 et 2022, on a plus de 200k résultats."
   ]
  },
  {
   "cell_type": "markdown",
   "metadata": {},
   "source": [
    "Grouper par station, année et saison.  \n",
    "Calculer des statistiques représentatives (par exemple, la médiane ou la moyenne).  \n",
    "Remplacer les valeurs dans le DataFrame par ces statistiques représentatives.  "
   ]
  },
  {
   "cell_type": "code",
   "execution_count": 83,
   "metadata": {},
   "outputs": [],
   "source": [
    "df_pc_season.rename(columns={'CdStationMesureEauxSurface': 'station', 'DatePrel': 'date'}, inplace=True)"
   ]
  },
  {
   "cell_type": "code",
   "execution_count": 114,
   "metadata": {},
   "outputs": [
    {
     "name": "stdout",
     "output_type": "stream",
     "text": [
      "Taille du DataFrame après l'agrégation avec différentes fonctions : 19029600\n"
     ]
    }
   ],
   "source": [
    "agg_functions = {\n",
    "    'RsAna': ['mean', 'median'],\n",
    "}\n",
    "df_aggregated = df_pc_season.groupby(['station', 'param', 'saison', 'année']).agg(agg_functions).reset_index()\n",
    "df_aggregated.columns = ['station', 'param', 'saison', 'année', 'mean_RsAna', 'median_RsAna']\n",
    "\n",
    "print(f\"Taille du DataFrame après l'agrégation avec différentes fonctions : {df_aggregated.shape[0]}\")"
   ]
  },
  {
   "cell_type": "code",
   "execution_count": 97,
   "metadata": {},
   "outputs": [
    {
     "data": {
      "text/plain": [
       "station                0\n",
       "param                  0\n",
       "saison                 0\n",
       "année                  0\n",
       "mean_RsAna      14970110\n",
       "median_RsAna    14970110\n",
       "dtype: int64"
      ]
     },
     "execution_count": 97,
     "metadata": {},
     "output_type": "execute_result"
    }
   ],
   "source": [
    "# on a beacucoup plus de valeurs : il doit y avoir beaucoup de null\n",
    "df_aggregated.isnull().sum()"
   ]
  },
  {
   "cell_type": "code",
   "execution_count": 100,
   "metadata": {},
   "outputs": [
    {
     "data": {
      "text/plain": [
       "(4059490, 6)"
      ]
     },
     "execution_count": 100,
     "metadata": {},
     "output_type": "execute_result"
    }
   ],
   "source": [
    "# supprimer toutes les lignes avec des valeurs nulles\n",
    "df_aggregated.dropna(inplace=True)\n",
    "df_aggregated.shape"
   ]
  },
  {
   "cell_type": "code",
   "execution_count": 102,
   "metadata": {},
   "outputs": [
    {
     "name": "stdout",
     "output_type": "stream",
     "text": [
      "nombre de valeurs en moins par rapport à avant aggrégation : 4751135\n",
      "ce qui représente une perte de : 53.92506206994396 %\n"
     ]
    }
   ],
   "source": [
    "# calculer combien de moins ça fait par rapport à avant aggregation\n",
    "print(\"nombre de valeurs en moins par rapport à avant aggrégation :\", df_pc_season.shape[0] - df_aggregated.shape[0])\n",
    "print(\"ce qui représente une perte de :\", (df_pc_season.shape[0] - df_aggregated.shape[0]) / df_pc_season.shape[0] * 100, \"%\")"
   ]
  },
  {
   "cell_type": "code",
   "execution_count": 103,
   "metadata": {},
   "outputs": [
    {
     "data": {
      "text/html": [
       "<div>\n",
       "<style scoped>\n",
       "    .dataframe tbody tr th:only-of-type {\n",
       "        vertical-align: middle;\n",
       "    }\n",
       "\n",
       "    .dataframe tbody tr th {\n",
       "        vertical-align: top;\n",
       "    }\n",
       "\n",
       "    .dataframe thead th {\n",
       "        text-align: right;\n",
       "    }\n",
       "</style>\n",
       "<table border=\"1\" class=\"dataframe\">\n",
       "  <thead>\n",
       "    <tr style=\"text-align: right;\">\n",
       "      <th></th>\n",
       "      <th>station</th>\n",
       "      <th>param</th>\n",
       "      <th>saison</th>\n",
       "      <th>année</th>\n",
       "      <th>mean_RsAna</th>\n",
       "      <th>median_RsAna</th>\n",
       "    </tr>\n",
       "  </thead>\n",
       "  <tbody>\n",
       "    <tr>\n",
       "      <th>74</th>\n",
       "      <td>05001800</td>\n",
       "      <td>Ammonium - Eau</td>\n",
       "      <td>Automne</td>\n",
       "      <td>2007</td>\n",
       "      <td>0.025</td>\n",
       "      <td>0.025</td>\n",
       "    </tr>\n",
       "    <tr>\n",
       "      <th>75</th>\n",
       "      <td>05001800</td>\n",
       "      <td>Ammonium - Eau</td>\n",
       "      <td>Automne</td>\n",
       "      <td>2008</td>\n",
       "      <td>0.045</td>\n",
       "      <td>0.045</td>\n",
       "    </tr>\n",
       "    <tr>\n",
       "      <th>76</th>\n",
       "      <td>05001800</td>\n",
       "      <td>Ammonium - Eau</td>\n",
       "      <td>Automne</td>\n",
       "      <td>2009</td>\n",
       "      <td>0.040</td>\n",
       "      <td>0.040</td>\n",
       "    </tr>\n",
       "    <tr>\n",
       "      <th>77</th>\n",
       "      <td>05001800</td>\n",
       "      <td>Ammonium - Eau</td>\n",
       "      <td>Automne</td>\n",
       "      <td>2010</td>\n",
       "      <td>0.022</td>\n",
       "      <td>0.020</td>\n",
       "    </tr>\n",
       "    <tr>\n",
       "      <th>78</th>\n",
       "      <td>05001800</td>\n",
       "      <td>Ammonium - Eau</td>\n",
       "      <td>Automne</td>\n",
       "      <td>2011</td>\n",
       "      <td>0.030</td>\n",
       "      <td>0.030</td>\n",
       "    </tr>\n",
       "    <tr>\n",
       "      <th>...</th>\n",
       "      <td>...</td>\n",
       "      <td>...</td>\n",
       "      <td>...</td>\n",
       "      <td>...</td>\n",
       "      <td>...</td>\n",
       "      <td>...</td>\n",
       "    </tr>\n",
       "    <tr>\n",
       "      <th>19029383</th>\n",
       "      <td>06148115</td>\n",
       "      <td>Taux de saturation en oxygène - Eau</td>\n",
       "      <td>Été</td>\n",
       "      <td>2022</td>\n",
       "      <td>90.000</td>\n",
       "      <td>90.000</td>\n",
       "    </tr>\n",
       "    <tr>\n",
       "      <th>19029473</th>\n",
       "      <td>06148115</td>\n",
       "      <td>Température de l'Eau - Eau</td>\n",
       "      <td>Automne</td>\n",
       "      <td>2022</td>\n",
       "      <td>12.300</td>\n",
       "      <td>12.300</td>\n",
       "    </tr>\n",
       "    <tr>\n",
       "      <th>19029491</th>\n",
       "      <td>06148115</td>\n",
       "      <td>Température de l'Eau - Eau</td>\n",
       "      <td>Hiver</td>\n",
       "      <td>2022</td>\n",
       "      <td>7.900</td>\n",
       "      <td>7.900</td>\n",
       "    </tr>\n",
       "    <tr>\n",
       "      <th>19029509</th>\n",
       "      <td>06148115</td>\n",
       "      <td>Température de l'Eau - Eau</td>\n",
       "      <td>Printemps</td>\n",
       "      <td>2022</td>\n",
       "      <td>11.900</td>\n",
       "      <td>11.900</td>\n",
       "    </tr>\n",
       "    <tr>\n",
       "      <th>19029527</th>\n",
       "      <td>06148115</td>\n",
       "      <td>Température de l'Eau - Eau</td>\n",
       "      <td>Été</td>\n",
       "      <td>2022</td>\n",
       "      <td>18.900</td>\n",
       "      <td>18.900</td>\n",
       "    </tr>\n",
       "  </tbody>\n",
       "</table>\n",
       "<p>4059490 rows × 6 columns</p>\n",
       "</div>"
      ],
      "text/plain": [
       "           station                                param     saison  année  \\\n",
       "74        05001800                       Ammonium - Eau    Automne   2007   \n",
       "75        05001800                       Ammonium - Eau    Automne   2008   \n",
       "76        05001800                       Ammonium - Eau    Automne   2009   \n",
       "77        05001800                       Ammonium - Eau    Automne   2010   \n",
       "78        05001800                       Ammonium - Eau    Automne   2011   \n",
       "...            ...                                  ...        ...    ...   \n",
       "19029383  06148115  Taux de saturation en oxygène - Eau        Été   2022   \n",
       "19029473  06148115           Température de l'Eau - Eau    Automne   2022   \n",
       "19029491  06148115           Température de l'Eau - Eau      Hiver   2022   \n",
       "19029509  06148115           Température de l'Eau - Eau  Printemps   2022   \n",
       "19029527  06148115           Température de l'Eau - Eau        Été   2022   \n",
       "\n",
       "          mean_RsAna  median_RsAna  \n",
       "74             0.025         0.025  \n",
       "75             0.045         0.045  \n",
       "76             0.040         0.040  \n",
       "77             0.022         0.020  \n",
       "78             0.030         0.030  \n",
       "...              ...           ...  \n",
       "19029383      90.000        90.000  \n",
       "19029473      12.300        12.300  \n",
       "19029491       7.900         7.900  \n",
       "19029509      11.900        11.900  \n",
       "19029527      18.900        18.900  \n",
       "\n",
       "[4059490 rows x 6 columns]"
      ]
     },
     "execution_count": 103,
     "metadata": {},
     "output_type": "execute_result"
    }
   ],
   "source": [
    "df_aggregated"
   ]
  },
  {
   "cell_type": "markdown",
   "metadata": {},
   "source": [
    "## On refait pivoter notre dataframe : on veut résumer pour une station donnée à une saison donnée, le résulat d'analyse moyen ou médian (deux dataframes) pour chaque param"
   ]
  },
  {
   "cell_type": "code",
   "execution_count": 105,
   "metadata": {},
   "outputs": [
    {
     "data": {
      "text/plain": [
       "array(['Ammonium - Eau', 'Azote Kjeldahl - Eau',\n",
       "       'Carbone Organique - Eau', 'Conductivité à 25°C - Eau',\n",
       "       'Demande Biochimique en oxygène en 5 jours (D.B.O.5) - Eau',\n",
       "       'Diuron - Eau', 'Matières en suspension - Eau', 'Nitrates - Eau',\n",
       "       'Nitrites - Eau', 'Orthophosphates (PO4) - Eau',\n",
       "       'Oxygène dissous - Eau', 'Phosphore total - Eau',\n",
       "       'Potentiel en Hydrogène (pH) - Eau',\n",
       "       'Taux de saturation en oxygène - Eau',\n",
       "       \"Température de l'Eau - Eau\",\n",
       "       'Turbidité Formazine Néphélométrique - Eau', 'Ammonium - Air',\n",
       "       'Conductivité à 25°C - Air',\n",
       "       'Demande Biochimique en oxygène en 5 jours (D.B.O.5) - Air',\n",
       "       'Matières en suspension - Air', 'Nitrates - Air', 'Nitrites - Air',\n",
       "       'Orthophosphates (PO4) - Air', 'Oxygène dissous - Air',\n",
       "       'Phosphore total - Air', 'Potentiel en Hydrogène (pH) - Air',\n",
       "       'Taux de saturation en oxygène - Air',\n",
       "       \"Température de l'Eau - Air\", 'Azote Kjeldahl - Air',\n",
       "       'Diuron - Air'], dtype=object)"
      ]
     },
     "execution_count": 105,
     "metadata": {},
     "output_type": "execute_result"
    }
   ],
   "source": [
    "params = df_aggregated['param'].unique()\n",
    "params"
   ]
  },
  {
   "cell_type": "code",
   "execution_count": null,
   "metadata": {},
   "outputs": [
    {
     "name": "stdout",
     "output_type": "stream",
     "text": [
      "Aperçu du DataFrame pivoté :\n",
      "param   station  année     saison  Ammonium - Air  Ammonium - Eau  \\\n",
      "0      05001800   2005    Automne             NaN             NaN   \n",
      "1      05001800   2005      Hiver             NaN             NaN   \n",
      "2      05001800   2005  Printemps             NaN             NaN   \n",
      "3      05001800   2005        Été             NaN             NaN   \n",
      "4      05001800   2007    Automne             NaN           0.025   \n",
      "\n",
      "param  Azote Kjeldahl - Air  Azote Kjeldahl - Eau  Carbone Organique - Eau  \\\n",
      "0                       NaN                   NaN                      NaN   \n",
      "1                       NaN                   NaN                      NaN   \n",
      "2                       NaN                   NaN                      NaN   \n",
      "3                       NaN                   NaN                      NaN   \n",
      "4                       NaN                   1.0                     2.75   \n",
      "\n",
      "param  Conductivité à 25°C - Air  Conductivité à 25°C - Eau  ...  \\\n",
      "0                            NaN                      603.0  ...   \n",
      "1                            NaN                      825.0  ...   \n",
      "2                            NaN                      779.0  ...   \n",
      "3                            NaN                      630.0  ...   \n",
      "4                            NaN                      770.0  ...   \n",
      "\n",
      "param  Oxygène dissous - Eau  Phosphore total - Air  Phosphore total - Eau  \\\n",
      "0                       7.50                    NaN                   0.05   \n",
      "1                      11.95                    NaN                   0.05   \n",
      "2                      10.10                    NaN                   0.05   \n",
      "3                       7.90                    NaN                   0.05   \n",
      "4                       9.10                    NaN                   0.05   \n",
      "\n",
      "param  Potentiel en Hydrogène (pH) - Air  Potentiel en Hydrogène (pH) - Eau  \\\n",
      "0                                    NaN                                7.5   \n",
      "1                                    NaN                                7.9   \n",
      "2                                    NaN                                8.0   \n",
      "3                                    NaN                                7.7   \n",
      "4                                    NaN                                8.0   \n",
      "\n",
      "param  Taux de saturation en oxygène - Air  \\\n",
      "0                                      NaN   \n",
      "1                                      NaN   \n",
      "2                                      NaN   \n",
      "3                                      NaN   \n",
      "4                                      NaN   \n",
      "\n",
      "param  Taux de saturation en oxygène - Eau  Température de l'Eau - Air  \\\n",
      "0                                     82.0                         NaN   \n",
      "1                                    103.5                         NaN   \n",
      "2                                    104.0                         NaN   \n",
      "3                                     88.0                         NaN   \n",
      "4                                     94.0                         NaN   \n",
      "\n",
      "param  Température de l'Eau - Eau  Turbidité Formazine Néphélométrique - Eau  \n",
      "0                           19.60                                        NaN  \n",
      "1                            8.95                                        NaN  \n",
      "2                           16.90                                        NaN  \n",
      "3                           23.10                                        NaN  \n",
      "4                           14.40                                        NaN  \n",
      "\n",
      "[5 rows x 33 columns]\n",
      "Taille du DataFrame pivoté : 288975\n"
     ]
    }
   ],
   "source": [
    "df_aggregated = df_aggregated[['station', 'année', 'saison', 'param', 'median_RsAna']]\n",
    "\n",
    "# Pivot des données : station, année, saison en index, param en colonnes\n",
    "df_pivoted = df_aggregated.pivot_table(index=['station', 'année', 'saison'], \n",
    "                                       columns='param', \n",
    "                                       values='median_RsAna', \n",
    "                                       aggfunc='median')\n",
    "df_pivoted.reset_index(inplace=True)"
   ]
  },
  {
   "cell_type": "code",
   "execution_count": 122,
   "metadata": {},
   "outputs": [
    {
     "data": {
      "text/html": [
       "<div>\n",
       "<style scoped>\n",
       "    .dataframe tbody tr th:only-of-type {\n",
       "        vertical-align: middle;\n",
       "    }\n",
       "\n",
       "    .dataframe tbody tr th {\n",
       "        vertical-align: top;\n",
       "    }\n",
       "\n",
       "    .dataframe thead th {\n",
       "        text-align: right;\n",
       "    }\n",
       "</style>\n",
       "<table border=\"1\" class=\"dataframe\">\n",
       "  <thead>\n",
       "    <tr style=\"text-align: right;\">\n",
       "      <th>param</th>\n",
       "      <th>station</th>\n",
       "      <th>année</th>\n",
       "      <th>saison</th>\n",
       "      <th>Ammonium - Air</th>\n",
       "      <th>Ammonium - Eau</th>\n",
       "      <th>Azote Kjeldahl - Air</th>\n",
       "      <th>Azote Kjeldahl - Eau</th>\n",
       "      <th>Carbone Organique - Eau</th>\n",
       "      <th>Conductivité à 25°C - Air</th>\n",
       "      <th>Conductivité à 25°C - Eau</th>\n",
       "      <th>...</th>\n",
       "      <th>Oxygène dissous - Eau</th>\n",
       "      <th>Phosphore total - Air</th>\n",
       "      <th>Phosphore total - Eau</th>\n",
       "      <th>Potentiel en Hydrogène (pH) - Air</th>\n",
       "      <th>Potentiel en Hydrogène (pH) - Eau</th>\n",
       "      <th>Taux de saturation en oxygène - Air</th>\n",
       "      <th>Taux de saturation en oxygène - Eau</th>\n",
       "      <th>Température de l'Eau - Air</th>\n",
       "      <th>Température de l'Eau - Eau</th>\n",
       "      <th>Turbidité Formazine Néphélométrique - Eau</th>\n",
       "    </tr>\n",
       "  </thead>\n",
       "  <tbody>\n",
       "    <tr>\n",
       "      <th>0</th>\n",
       "      <td>05001800</td>\n",
       "      <td>2005</td>\n",
       "      <td>Automne</td>\n",
       "      <td>NaN</td>\n",
       "      <td>NaN</td>\n",
       "      <td>NaN</td>\n",
       "      <td>NaN</td>\n",
       "      <td>NaN</td>\n",
       "      <td>NaN</td>\n",
       "      <td>603.0</td>\n",
       "      <td>...</td>\n",
       "      <td>7.50</td>\n",
       "      <td>NaN</td>\n",
       "      <td>0.05</td>\n",
       "      <td>NaN</td>\n",
       "      <td>7.5</td>\n",
       "      <td>NaN</td>\n",
       "      <td>82.0</td>\n",
       "      <td>NaN</td>\n",
       "      <td>19.60</td>\n",
       "      <td>NaN</td>\n",
       "    </tr>\n",
       "    <tr>\n",
       "      <th>1</th>\n",
       "      <td>05001800</td>\n",
       "      <td>2005</td>\n",
       "      <td>Hiver</td>\n",
       "      <td>NaN</td>\n",
       "      <td>NaN</td>\n",
       "      <td>NaN</td>\n",
       "      <td>NaN</td>\n",
       "      <td>NaN</td>\n",
       "      <td>NaN</td>\n",
       "      <td>825.0</td>\n",
       "      <td>...</td>\n",
       "      <td>11.95</td>\n",
       "      <td>NaN</td>\n",
       "      <td>0.05</td>\n",
       "      <td>NaN</td>\n",
       "      <td>7.9</td>\n",
       "      <td>NaN</td>\n",
       "      <td>103.5</td>\n",
       "      <td>NaN</td>\n",
       "      <td>8.95</td>\n",
       "      <td>NaN</td>\n",
       "    </tr>\n",
       "    <tr>\n",
       "      <th>2</th>\n",
       "      <td>05001800</td>\n",
       "      <td>2005</td>\n",
       "      <td>Printemps</td>\n",
       "      <td>NaN</td>\n",
       "      <td>NaN</td>\n",
       "      <td>NaN</td>\n",
       "      <td>NaN</td>\n",
       "      <td>NaN</td>\n",
       "      <td>NaN</td>\n",
       "      <td>779.0</td>\n",
       "      <td>...</td>\n",
       "      <td>10.10</td>\n",
       "      <td>NaN</td>\n",
       "      <td>0.05</td>\n",
       "      <td>NaN</td>\n",
       "      <td>8.0</td>\n",
       "      <td>NaN</td>\n",
       "      <td>104.0</td>\n",
       "      <td>NaN</td>\n",
       "      <td>16.90</td>\n",
       "      <td>NaN</td>\n",
       "    </tr>\n",
       "    <tr>\n",
       "      <th>3</th>\n",
       "      <td>05001800</td>\n",
       "      <td>2005</td>\n",
       "      <td>Été</td>\n",
       "      <td>NaN</td>\n",
       "      <td>NaN</td>\n",
       "      <td>NaN</td>\n",
       "      <td>NaN</td>\n",
       "      <td>NaN</td>\n",
       "      <td>NaN</td>\n",
       "      <td>630.0</td>\n",
       "      <td>...</td>\n",
       "      <td>7.90</td>\n",
       "      <td>NaN</td>\n",
       "      <td>0.05</td>\n",
       "      <td>NaN</td>\n",
       "      <td>7.7</td>\n",
       "      <td>NaN</td>\n",
       "      <td>88.0</td>\n",
       "      <td>NaN</td>\n",
       "      <td>23.10</td>\n",
       "      <td>NaN</td>\n",
       "    </tr>\n",
       "    <tr>\n",
       "      <th>4</th>\n",
       "      <td>05001800</td>\n",
       "      <td>2007</td>\n",
       "      <td>Automne</td>\n",
       "      <td>NaN</td>\n",
       "      <td>0.025</td>\n",
       "      <td>NaN</td>\n",
       "      <td>1.0</td>\n",
       "      <td>2.75</td>\n",
       "      <td>NaN</td>\n",
       "      <td>770.0</td>\n",
       "      <td>...</td>\n",
       "      <td>9.10</td>\n",
       "      <td>NaN</td>\n",
       "      <td>0.05</td>\n",
       "      <td>NaN</td>\n",
       "      <td>8.0</td>\n",
       "      <td>NaN</td>\n",
       "      <td>94.0</td>\n",
       "      <td>NaN</td>\n",
       "      <td>14.40</td>\n",
       "      <td>NaN</td>\n",
       "    </tr>\n",
       "  </tbody>\n",
       "</table>\n",
       "<p>5 rows × 33 columns</p>\n",
       "</div>"
      ],
      "text/plain": [
       "param   station  année     saison  Ammonium - Air  Ammonium - Eau  \\\n",
       "0      05001800   2005    Automne             NaN             NaN   \n",
       "1      05001800   2005      Hiver             NaN             NaN   \n",
       "2      05001800   2005  Printemps             NaN             NaN   \n",
       "3      05001800   2005        Été             NaN             NaN   \n",
       "4      05001800   2007    Automne             NaN           0.025   \n",
       "\n",
       "param  Azote Kjeldahl - Air  Azote Kjeldahl - Eau  Carbone Organique - Eau  \\\n",
       "0                       NaN                   NaN                      NaN   \n",
       "1                       NaN                   NaN                      NaN   \n",
       "2                       NaN                   NaN                      NaN   \n",
       "3                       NaN                   NaN                      NaN   \n",
       "4                       NaN                   1.0                     2.75   \n",
       "\n",
       "param  Conductivité à 25°C - Air  Conductivité à 25°C - Eau  ...  \\\n",
       "0                            NaN                      603.0  ...   \n",
       "1                            NaN                      825.0  ...   \n",
       "2                            NaN                      779.0  ...   \n",
       "3                            NaN                      630.0  ...   \n",
       "4                            NaN                      770.0  ...   \n",
       "\n",
       "param  Oxygène dissous - Eau  Phosphore total - Air  Phosphore total - Eau  \\\n",
       "0                       7.50                    NaN                   0.05   \n",
       "1                      11.95                    NaN                   0.05   \n",
       "2                      10.10                    NaN                   0.05   \n",
       "3                       7.90                    NaN                   0.05   \n",
       "4                       9.10                    NaN                   0.05   \n",
       "\n",
       "param  Potentiel en Hydrogène (pH) - Air  Potentiel en Hydrogène (pH) - Eau  \\\n",
       "0                                    NaN                                7.5   \n",
       "1                                    NaN                                7.9   \n",
       "2                                    NaN                                8.0   \n",
       "3                                    NaN                                7.7   \n",
       "4                                    NaN                                8.0   \n",
       "\n",
       "param  Taux de saturation en oxygène - Air  \\\n",
       "0                                      NaN   \n",
       "1                                      NaN   \n",
       "2                                      NaN   \n",
       "3                                      NaN   \n",
       "4                                      NaN   \n",
       "\n",
       "param  Taux de saturation en oxygène - Eau  Température de l'Eau - Air  \\\n",
       "0                                     82.0                         NaN   \n",
       "1                                    103.5                         NaN   \n",
       "2                                    104.0                         NaN   \n",
       "3                                     88.0                         NaN   \n",
       "4                                     94.0                         NaN   \n",
       "\n",
       "param  Température de l'Eau - Eau  Turbidité Formazine Néphélométrique - Eau  \n",
       "0                           19.60                                        NaN  \n",
       "1                            8.95                                        NaN  \n",
       "2                           16.90                                        NaN  \n",
       "3                           23.10                                        NaN  \n",
       "4                           14.40                                        NaN  \n",
       "\n",
       "[5 rows x 33 columns]"
      ]
     },
     "execution_count": 122,
     "metadata": {},
     "output_type": "execute_result"
    }
   ],
   "source": [
    "df_pivoted.head(5)"
   ]
  },
  {
   "cell_type": "code",
   "execution_count": 123,
   "metadata": {},
   "outputs": [
    {
     "name": "stdout",
     "output_type": "stream",
     "text": [
      "Taille du DataFrame pivoté : 288975\n"
     ]
    }
   ],
   "source": [
    "print(f\"Taille du DataFrame pivoté : {df_pivoted.shape[0]}\")"
   ]
  },
  {
   "cell_type": "code",
   "execution_count": 124,
   "metadata": {},
   "outputs": [
    {
     "data": {
      "text/plain": [
       "param\n",
       "station                                                           0\n",
       "année                                                             0\n",
       "saison                                                            0\n",
       "Ammonium - Air                                               287045\n",
       "Ammonium - Eau                                                44763\n",
       "Azote Kjeldahl - Air                                         287666\n",
       "Azote Kjeldahl - Eau                                          41766\n",
       "Carbone Organique - Eau                                       36355\n",
       "Conductivité à 25°C - Air                                    286881\n",
       "Conductivité à 25°C - Eau                                      6980\n",
       "Demande Biochimique en oxygène en 5 jours (D.B.O.5) - Air    287014\n",
       "Demande Biochimique en oxygène en 5 jours (D.B.O.5) - Eau     30399\n",
       "Diuron - Air                                                 288221\n",
       "Diuron - Eau                                                 159301\n",
       "Matières en suspension - Air                                 287013\n",
       "Matières en suspension - Eau                                  11893\n",
       "Nitrates - Air                                               287013\n",
       "Nitrates - Eau                                                31162\n",
       "Nitrites - Air                                               287013\n",
       "Nitrites - Eau                                                35043\n",
       "Orthophosphates (PO4) - Air                                  287013\n",
       "Orthophosphates (PO4) - Eau                                   31801\n",
       "Oxygène dissous - Air                                        286881\n",
       "Oxygène dissous - Eau                                         12559\n",
       "Phosphore total - Air                                        287045\n",
       "Phosphore total - Eau                                         22878\n",
       "Potentiel en Hydrogène (pH) - Air                            286881\n",
       "Potentiel en Hydrogène (pH) - Eau                              5584\n",
       "Taux de saturation en oxygène - Air                          287050\n",
       "Taux de saturation en oxygène - Eau                           18299\n",
       "Température de l'Eau - Air                                   286879\n",
       "Température de l'Eau - Eau                                     5706\n",
       "Turbidité Formazine Néphélométrique - Eau                     95656\n",
       "dtype: int64"
      ]
     },
     "execution_count": 124,
     "metadata": {},
     "output_type": "execute_result"
    }
   ],
   "source": [
    "df_pivoted.isnull().sum()"
   ]
  },
  {
   "cell_type": "code",
   "execution_count": 126,
   "metadata": {},
   "outputs": [
    {
     "data": {
      "text/plain": [
       "param\n",
       "station                                                       0.000000\n",
       "année                                                         0.000000\n",
       "saison                                                        0.000000\n",
       "Ammonium - Air                                               99.332122\n",
       "Ammonium - Eau                                               15.490267\n",
       "Azote Kjeldahl - Air                                         99.547020\n",
       "Azote Kjeldahl - Eau                                         14.453153\n",
       "Carbone Organique - Eau                                      12.580673\n",
       "Conductivité à 25°C - Air                                    99.275370\n",
       "Conductivité à 25°C - Eau                                     2.415434\n",
       "Demande Biochimique en oxygène en 5 jours (D.B.O.5) - Air    99.321395\n",
       "Demande Biochimique en oxygène en 5 jours (D.B.O.5) - Eau    10.519595\n",
       "Diuron - Air                                                 99.739078\n",
       "Diuron - Eau                                                 55.126222\n",
       "Matières en suspension - Air                                 99.321049\n",
       "Matières en suspension - Eau                                  4.115581\n",
       "Nitrates - Air                                               99.321049\n",
       "Nitrates - Eau                                               10.783632\n",
       "Nitrites - Air                                               99.321049\n",
       "Nitrites - Eau                                               12.126655\n",
       "Orthophosphates (PO4) - Air                                  99.321049\n",
       "Orthophosphates (PO4) - Eau                                  11.004758\n",
       "Oxygène dissous - Air                                        99.275370\n",
       "Oxygène dissous - Eau                                         4.346051\n",
       "Phosphore total - Air                                        99.332122\n",
       "Phosphore total - Eau                                         7.916948\n",
       "Potentiel en Hydrogène (pH) - Air                            99.275370\n",
       "Potentiel en Hydrogène (pH) - Eau                             1.932347\n",
       "Taux de saturation en oxygène - Air                          99.333852\n",
       "Taux de saturation en oxygène - Eau                           6.332382\n",
       "Température de l'Eau - Air                                   99.274678\n",
       "Température de l'Eau - Eau                                    1.974565\n",
       "Turbidité Formazine Néphélométrique - Eau                    33.101825\n",
       "dtype: float64"
      ]
     },
     "execution_count": 126,
     "metadata": {},
     "output_type": "execute_result"
    }
   ],
   "source": [
    "# pourcentage de valeurs nulles pour chaque paramètre\n",
    "null_percentages = df_pivoted.isnull().mean() * 100\n",
    "null_percentages"
   ]
  },
  {
   "cell_type": "code",
   "execution_count": null,
   "metadata": {},
   "outputs": [],
   "source": [
    "# TODO : supprimer tout ce qui a plus de 90 % de null comme param ? drop la colonne ? "
   ]
  },
  {
   "cell_type": "code",
   "execution_count": null,
   "metadata": {},
   "outputs": [],
   "source": [
    "# intégrer les données hydrobiologiques\n",
    "# on va faire une jointure sur les stations et les dates\n"
   ]
  },
  {
   "cell_type": "code",
   "execution_count": null,
   "metadata": {},
   "outputs": [],
   "source": [
    "# TODO : lag : on va ajouter les valeurs de la saison suivante pour chaque paramètre"
   ]
  },
  {
   "cell_type": "markdown",
   "metadata": {},
   "source": [
    "## Données hydrobio : les résumer pour pouvoir les intégrer dans notre dataframe"
   ]
  },
  {
   "cell_type": "code",
   "execution_count": 155,
   "metadata": {},
   "outputs": [
    {
     "data": {
      "text/plain": [
       "Unnamed: 0                              int64\n",
       "CdStationMesureEauxSurface              int64\n",
       "LbStationMesureEauxSurface             object\n",
       "CdPointEauxSurf                       float64\n",
       "DateDebutOperationPrelBio              object\n",
       "CdSupport                               int64\n",
       "LbSupport                              object\n",
       "DtProdResultatBiologique               object\n",
       "CdParametreResultatBiologique           int64\n",
       "LbLongParametre                        object\n",
       "ResIndiceResultatBiologique           float64\n",
       "CdUniteMesure                          object\n",
       "SymUniteMesure                         object\n",
       "CdRqIndiceResultatBiologique            int64\n",
       "MnemoRqAna                             object\n",
       "CdMethEval                             object\n",
       "RefOperationPrelBio                    object\n",
       "CdProducteur                            int64\n",
       "NomProducteur                          object\n",
       "CdAccredRsIndiceResultatBiologique    float64\n",
       "MnAccredRsIndiceResultatBiologique     object\n",
       "dtype: object"
      ]
     },
     "execution_count": 155,
     "metadata": {},
     "output_type": "execute_result"
    }
   ],
   "source": [
    "df_load_hydrobio.dtypes"
   ]
  },
  {
   "cell_type": "code",
   "execution_count": 187,
   "metadata": {},
   "outputs": [],
   "source": [
    "df_hydrobio.rename(columns={'CdStationMesureEauxSurface': 'station', 'DateDebutOperationPrelBio': 'date', 'ResIndiceResultatBiologique': 'I2M2'}, inplace=True)"
   ]
  },
  {
   "cell_type": "code",
   "execution_count": 188,
   "metadata": {},
   "outputs": [
    {
     "name": "stdout",
     "output_type": "stream",
     "text": [
      "avant suppression : (43535, 21)\n",
      "après suppression : (43522, 21)\n"
     ]
    }
   ],
   "source": [
    "# supprimer les I2M2 manquants et les doublons\n",
    "print(\"avant suppression :\", df_hydrobio.shape)\n",
    "df_hydrobio.dropna(subset=['I2M2'], inplace=True)\n",
    "df_hydrobio.drop_duplicates(inplace=True)\n",
    "print(\"après suppression :\", df_hydrobio.shape)"
   ]
  },
  {
   "cell_type": "code",
   "execution_count": 189,
   "metadata": {},
   "outputs": [],
   "source": [
    "df_hydrobio['date'] = pd.to_datetime(df_hydrobio['date'], format='%Y-%m-%d')"
   ]
  },
  {
   "cell_type": "code",
   "execution_count": 190,
   "metadata": {},
   "outputs": [
    {
     "data": {
      "text/plain": [
       "dtype('<M8[ns]')"
      ]
     },
     "execution_count": 190,
     "metadata": {},
     "output_type": "execute_result"
    }
   ],
   "source": [
    "df_hydrobio['date'].dtype"
   ]
  },
  {
   "cell_type": "code",
   "execution_count": null,
   "metadata": {},
   "outputs": [],
   "source": [
    "# TODO : gérer les seuils de hydrobio "
   ]
  },
  {
   "cell_type": "code",
   "execution_count": 191,
   "metadata": {},
   "outputs": [
    {
     "data": {
      "text/html": [
       "<div>\n",
       "<style scoped>\n",
       "    .dataframe tbody tr th:only-of-type {\n",
       "        vertical-align: middle;\n",
       "    }\n",
       "\n",
       "    .dataframe tbody tr th {\n",
       "        vertical-align: top;\n",
       "    }\n",
       "\n",
       "    .dataframe thead th {\n",
       "        text-align: right;\n",
       "    }\n",
       "</style>\n",
       "<table border=\"1\" class=\"dataframe\">\n",
       "  <thead>\n",
       "    <tr style=\"text-align: right;\">\n",
       "      <th></th>\n",
       "      <th>station</th>\n",
       "      <th>année</th>\n",
       "      <th>saison</th>\n",
       "      <th>I2M2</th>\n",
       "    </tr>\n",
       "  </thead>\n",
       "  <tbody>\n",
       "    <tr>\n",
       "      <th>8857</th>\n",
       "      <td>1000274</td>\n",
       "      <td>2016</td>\n",
       "      <td>Automne</td>\n",
       "      <td>0.243</td>\n",
       "    </tr>\n",
       "    <tr>\n",
       "      <th>16877</th>\n",
       "      <td>1000274</td>\n",
       "      <td>2017</td>\n",
       "      <td>Été</td>\n",
       "      <td>0.231</td>\n",
       "    </tr>\n",
       "    <tr>\n",
       "      <th>16878</th>\n",
       "      <td>1000274</td>\n",
       "      <td>2018</td>\n",
       "      <td>Été</td>\n",
       "      <td>0.205</td>\n",
       "    </tr>\n",
       "    <tr>\n",
       "      <th>24919</th>\n",
       "      <td>1000274</td>\n",
       "      <td>2019</td>\n",
       "      <td>Été</td>\n",
       "      <td>0.236</td>\n",
       "    </tr>\n",
       "    <tr>\n",
       "      <th>24920</th>\n",
       "      <td>1000274</td>\n",
       "      <td>2020</td>\n",
       "      <td>Été</td>\n",
       "      <td>0.096</td>\n",
       "    </tr>\n",
       "    <tr>\n",
       "      <th>...</th>\n",
       "      <td>...</td>\n",
       "      <td>...</td>\n",
       "      <td>...</td>\n",
       "      <td>...</td>\n",
       "    </tr>\n",
       "    <tr>\n",
       "      <th>8855</th>\n",
       "      <td>6999180</td>\n",
       "      <td>2013</td>\n",
       "      <td>Été</td>\n",
       "      <td>0.413</td>\n",
       "    </tr>\n",
       "    <tr>\n",
       "      <th>8856</th>\n",
       "      <td>6999180</td>\n",
       "      <td>2014</td>\n",
       "      <td>Été</td>\n",
       "      <td>0.437</td>\n",
       "    </tr>\n",
       "    <tr>\n",
       "      <th>41144</th>\n",
       "      <td>6999189</td>\n",
       "      <td>2022</td>\n",
       "      <td>Automne</td>\n",
       "      <td>0.454</td>\n",
       "    </tr>\n",
       "    <tr>\n",
       "      <th>41145</th>\n",
       "      <td>6999190</td>\n",
       "      <td>2022</td>\n",
       "      <td>Automne</td>\n",
       "      <td>0.257</td>\n",
       "    </tr>\n",
       "    <tr>\n",
       "      <th>41146</th>\n",
       "      <td>6999192</td>\n",
       "      <td>2022</td>\n",
       "      <td>Automne</td>\n",
       "      <td>0.091</td>\n",
       "    </tr>\n",
       "  </tbody>\n",
       "</table>\n",
       "<p>43522 rows × 4 columns</p>\n",
       "</div>"
      ],
      "text/plain": [
       "       station  année   saison   I2M2\n",
       "8857   1000274   2016  Automne  0.243\n",
       "16877  1000274   2017      Été  0.231\n",
       "16878  1000274   2018      Été  0.205\n",
       "24919  1000274   2019      Été  0.236\n",
       "24920  1000274   2020      Été  0.096\n",
       "...        ...    ...      ...    ...\n",
       "8855   6999180   2013      Été  0.413\n",
       "8856   6999180   2014      Été  0.437\n",
       "41144  6999189   2022  Automne  0.454\n",
       "41145  6999190   2022  Automne  0.257\n",
       "41146  6999192   2022  Automne  0.091\n",
       "\n",
       "[43522 rows x 4 columns]"
      ]
     },
     "execution_count": 191,
     "metadata": {},
     "output_type": "execute_result"
    }
   ],
   "source": [
    "df_hydrobio_saison = df_hydrobio.copy()\n",
    "df_hydrobio_saison['saison'] = df_hydrobio_saison['date'].dt.month.apply(assign_season)\n",
    "df_hydrobio_saison['année'] = df_hydrobio_saison['date'].dt.year\n",
    "\n",
    "df_hydrobio_saison = df_hydrobio_saison[['station', 'année', 'saison', 'I2M2']]\n",
    "df_hydrobio_saison"
   ]
  },
  {
   "cell_type": "code",
   "execution_count": 192,
   "metadata": {},
   "outputs": [],
   "source": [
    "df_counts = df_hydrobio_saison.groupby(['année', 'saison']).size().reset_index(name='nombre de résultats d\\'analyse par saison')"
   ]
  },
  {
   "cell_type": "code",
   "execution_count": null,
   "metadata": {},
   "outputs": [],
   "source": [
    "# TODO : ajouter couleurs pour les saisons à fixer "
   ]
  },
  {
   "cell_type": "code",
   "execution_count": 193,
   "metadata": {},
   "outputs": [
    {
     "data": {
      "application/vnd.plotly.v1+json": {
       "config": {
        "plotlyServerURL": "https://plot.ly"
       },
       "data": [
        {
         "alignmentgroup": "True",
         "hovertemplate": "saison=Automne<br>année=%{x}<br>nombre de résultats d'analyse par saison=%{y}<extra></extra>",
         "legendgroup": "Automne",
         "marker": {
          "color": "#636efa",
          "pattern": {
           "shape": ""
          }
         },
         "name": "Automne",
         "offsetgroup": "Automne",
         "orientation": "v",
         "showlegend": true,
         "textposition": "auto",
         "type": "bar",
         "x": [
          2007,
          2008,
          2009,
          2010,
          2011,
          2012,
          2013,
          2014,
          2015,
          2016,
          2017,
          2018,
          2019,
          2020,
          2021,
          2022
         ],
         "xaxis": "x",
         "y": [
          61,
          223,
          157,
          220,
          247,
          331,
          487,
          586,
          607,
          864,
          807,
          826,
          617,
          598,
          746,
          386
         ],
         "yaxis": "y"
        },
        {
         "alignmentgroup": "True",
         "hovertemplate": "saison=Été<br>année=%{x}<br>nombre de résultats d'analyse par saison=%{y}<extra></extra>",
         "legendgroup": "Été",
         "marker": {
          "color": "#EF553B",
          "pattern": {
           "shape": ""
          }
         },
         "name": "Été",
         "offsetgroup": "Été",
         "orientation": "v",
         "showlegend": true,
         "textposition": "auto",
         "type": "bar",
         "x": [
          2007,
          2008,
          2009,
          2010,
          2011,
          2012,
          2013,
          2014,
          2015,
          2016,
          2017,
          2018,
          2019,
          2020,
          2021,
          2022
         ],
         "xaxis": "x",
         "y": [
          102,
          772,
          906,
          997,
          1038,
          1099,
          1755,
          1471,
          3125,
          2981,
          2712,
          3084,
          2857,
          3228,
          2969,
          2612
         ],
         "yaxis": "y"
        },
        {
         "alignmentgroup": "True",
         "hovertemplate": "saison=Hiver<br>année=%{x}<br>nombre de résultats d'analyse par saison=%{y}<extra></extra>",
         "legendgroup": "Hiver",
         "marker": {
          "color": "#00cc96",
          "pattern": {
           "shape": ""
          }
         },
         "name": "Hiver",
         "offsetgroup": "Hiver",
         "orientation": "v",
         "showlegend": true,
         "textposition": "auto",
         "type": "bar",
         "x": [
          2008,
          2009,
          2010,
          2011,
          2012,
          2013,
          2014,
          2015,
          2016,
          2017,
          2018,
          2019,
          2020,
          2021,
          2022
         ],
         "xaxis": "x",
         "y": [
          32,
          52,
          47,
          53,
          72,
          31,
          43,
          92,
          35,
          40,
          65,
          84,
          57,
          78,
          79
         ],
         "yaxis": "y"
        },
        {
         "alignmentgroup": "True",
         "hovertemplate": "saison=Printemps<br>année=%{x}<br>nombre de résultats d'analyse par saison=%{y}<extra></extra>",
         "legendgroup": "Printemps",
         "marker": {
          "color": "#ab63fa",
          "pattern": {
           "shape": ""
          }
         },
         "name": "Printemps",
         "offsetgroup": "Printemps",
         "orientation": "v",
         "showlegend": true,
         "textposition": "auto",
         "type": "bar",
         "x": [
          2008,
          2009,
          2010,
          2011,
          2012,
          2013,
          2014,
          2015,
          2016,
          2017,
          2018,
          2019,
          2020,
          2021,
          2022
         ],
         "xaxis": "x",
         "y": [
          34,
          49,
          52,
          105,
          41,
          60,
          122,
          192,
          124,
          276,
          232,
          424,
          269,
          577,
          634
         ],
         "yaxis": "y"
        }
       ],
       "layout": {
        "barmode": "stack",
        "legend": {
         "title": {
          "text": "saison"
         },
         "tracegroupgap": 0
        },
        "template": {
         "data": {
          "bar": [
           {
            "error_x": {
             "color": "#2a3f5f"
            },
            "error_y": {
             "color": "#2a3f5f"
            },
            "marker": {
             "line": {
              "color": "#E5ECF6",
              "width": 0.5
             },
             "pattern": {
              "fillmode": "overlay",
              "size": 10,
              "solidity": 0.2
             }
            },
            "type": "bar"
           }
          ],
          "barpolar": [
           {
            "marker": {
             "line": {
              "color": "#E5ECF6",
              "width": 0.5
             },
             "pattern": {
              "fillmode": "overlay",
              "size": 10,
              "solidity": 0.2
             }
            },
            "type": "barpolar"
           }
          ],
          "carpet": [
           {
            "aaxis": {
             "endlinecolor": "#2a3f5f",
             "gridcolor": "white",
             "linecolor": "white",
             "minorgridcolor": "white",
             "startlinecolor": "#2a3f5f"
            },
            "baxis": {
             "endlinecolor": "#2a3f5f",
             "gridcolor": "white",
             "linecolor": "white",
             "minorgridcolor": "white",
             "startlinecolor": "#2a3f5f"
            },
            "type": "carpet"
           }
          ],
          "choropleth": [
           {
            "colorbar": {
             "outlinewidth": 0,
             "ticks": ""
            },
            "type": "choropleth"
           }
          ],
          "contour": [
           {
            "colorbar": {
             "outlinewidth": 0,
             "ticks": ""
            },
            "colorscale": [
             [
              0,
              "#0d0887"
             ],
             [
              0.1111111111111111,
              "#46039f"
             ],
             [
              0.2222222222222222,
              "#7201a8"
             ],
             [
              0.3333333333333333,
              "#9c179e"
             ],
             [
              0.4444444444444444,
              "#bd3786"
             ],
             [
              0.5555555555555556,
              "#d8576b"
             ],
             [
              0.6666666666666666,
              "#ed7953"
             ],
             [
              0.7777777777777778,
              "#fb9f3a"
             ],
             [
              0.8888888888888888,
              "#fdca26"
             ],
             [
              1,
              "#f0f921"
             ]
            ],
            "type": "contour"
           }
          ],
          "contourcarpet": [
           {
            "colorbar": {
             "outlinewidth": 0,
             "ticks": ""
            },
            "type": "contourcarpet"
           }
          ],
          "heatmap": [
           {
            "colorbar": {
             "outlinewidth": 0,
             "ticks": ""
            },
            "colorscale": [
             [
              0,
              "#0d0887"
             ],
             [
              0.1111111111111111,
              "#46039f"
             ],
             [
              0.2222222222222222,
              "#7201a8"
             ],
             [
              0.3333333333333333,
              "#9c179e"
             ],
             [
              0.4444444444444444,
              "#bd3786"
             ],
             [
              0.5555555555555556,
              "#d8576b"
             ],
             [
              0.6666666666666666,
              "#ed7953"
             ],
             [
              0.7777777777777778,
              "#fb9f3a"
             ],
             [
              0.8888888888888888,
              "#fdca26"
             ],
             [
              1,
              "#f0f921"
             ]
            ],
            "type": "heatmap"
           }
          ],
          "heatmapgl": [
           {
            "colorbar": {
             "outlinewidth": 0,
             "ticks": ""
            },
            "colorscale": [
             [
              0,
              "#0d0887"
             ],
             [
              0.1111111111111111,
              "#46039f"
             ],
             [
              0.2222222222222222,
              "#7201a8"
             ],
             [
              0.3333333333333333,
              "#9c179e"
             ],
             [
              0.4444444444444444,
              "#bd3786"
             ],
             [
              0.5555555555555556,
              "#d8576b"
             ],
             [
              0.6666666666666666,
              "#ed7953"
             ],
             [
              0.7777777777777778,
              "#fb9f3a"
             ],
             [
              0.8888888888888888,
              "#fdca26"
             ],
             [
              1,
              "#f0f921"
             ]
            ],
            "type": "heatmapgl"
           }
          ],
          "histogram": [
           {
            "marker": {
             "pattern": {
              "fillmode": "overlay",
              "size": 10,
              "solidity": 0.2
             }
            },
            "type": "histogram"
           }
          ],
          "histogram2d": [
           {
            "colorbar": {
             "outlinewidth": 0,
             "ticks": ""
            },
            "colorscale": [
             [
              0,
              "#0d0887"
             ],
             [
              0.1111111111111111,
              "#46039f"
             ],
             [
              0.2222222222222222,
              "#7201a8"
             ],
             [
              0.3333333333333333,
              "#9c179e"
             ],
             [
              0.4444444444444444,
              "#bd3786"
             ],
             [
              0.5555555555555556,
              "#d8576b"
             ],
             [
              0.6666666666666666,
              "#ed7953"
             ],
             [
              0.7777777777777778,
              "#fb9f3a"
             ],
             [
              0.8888888888888888,
              "#fdca26"
             ],
             [
              1,
              "#f0f921"
             ]
            ],
            "type": "histogram2d"
           }
          ],
          "histogram2dcontour": [
           {
            "colorbar": {
             "outlinewidth": 0,
             "ticks": ""
            },
            "colorscale": [
             [
              0,
              "#0d0887"
             ],
             [
              0.1111111111111111,
              "#46039f"
             ],
             [
              0.2222222222222222,
              "#7201a8"
             ],
             [
              0.3333333333333333,
              "#9c179e"
             ],
             [
              0.4444444444444444,
              "#bd3786"
             ],
             [
              0.5555555555555556,
              "#d8576b"
             ],
             [
              0.6666666666666666,
              "#ed7953"
             ],
             [
              0.7777777777777778,
              "#fb9f3a"
             ],
             [
              0.8888888888888888,
              "#fdca26"
             ],
             [
              1,
              "#f0f921"
             ]
            ],
            "type": "histogram2dcontour"
           }
          ],
          "mesh3d": [
           {
            "colorbar": {
             "outlinewidth": 0,
             "ticks": ""
            },
            "type": "mesh3d"
           }
          ],
          "parcoords": [
           {
            "line": {
             "colorbar": {
              "outlinewidth": 0,
              "ticks": ""
             }
            },
            "type": "parcoords"
           }
          ],
          "pie": [
           {
            "automargin": true,
            "type": "pie"
           }
          ],
          "scatter": [
           {
            "fillpattern": {
             "fillmode": "overlay",
             "size": 10,
             "solidity": 0.2
            },
            "type": "scatter"
           }
          ],
          "scatter3d": [
           {
            "line": {
             "colorbar": {
              "outlinewidth": 0,
              "ticks": ""
             }
            },
            "marker": {
             "colorbar": {
              "outlinewidth": 0,
              "ticks": ""
             }
            },
            "type": "scatter3d"
           }
          ],
          "scattercarpet": [
           {
            "marker": {
             "colorbar": {
              "outlinewidth": 0,
              "ticks": ""
             }
            },
            "type": "scattercarpet"
           }
          ],
          "scattergeo": [
           {
            "marker": {
             "colorbar": {
              "outlinewidth": 0,
              "ticks": ""
             }
            },
            "type": "scattergeo"
           }
          ],
          "scattergl": [
           {
            "marker": {
             "colorbar": {
              "outlinewidth": 0,
              "ticks": ""
             }
            },
            "type": "scattergl"
           }
          ],
          "scattermapbox": [
           {
            "marker": {
             "colorbar": {
              "outlinewidth": 0,
              "ticks": ""
             }
            },
            "type": "scattermapbox"
           }
          ],
          "scatterpolar": [
           {
            "marker": {
             "colorbar": {
              "outlinewidth": 0,
              "ticks": ""
             }
            },
            "type": "scatterpolar"
           }
          ],
          "scatterpolargl": [
           {
            "marker": {
             "colorbar": {
              "outlinewidth": 0,
              "ticks": ""
             }
            },
            "type": "scatterpolargl"
           }
          ],
          "scatterternary": [
           {
            "marker": {
             "colorbar": {
              "outlinewidth": 0,
              "ticks": ""
             }
            },
            "type": "scatterternary"
           }
          ],
          "surface": [
           {
            "colorbar": {
             "outlinewidth": 0,
             "ticks": ""
            },
            "colorscale": [
             [
              0,
              "#0d0887"
             ],
             [
              0.1111111111111111,
              "#46039f"
             ],
             [
              0.2222222222222222,
              "#7201a8"
             ],
             [
              0.3333333333333333,
              "#9c179e"
             ],
             [
              0.4444444444444444,
              "#bd3786"
             ],
             [
              0.5555555555555556,
              "#d8576b"
             ],
             [
              0.6666666666666666,
              "#ed7953"
             ],
             [
              0.7777777777777778,
              "#fb9f3a"
             ],
             [
              0.8888888888888888,
              "#fdca26"
             ],
             [
              1,
              "#f0f921"
             ]
            ],
            "type": "surface"
           }
          ],
          "table": [
           {
            "cells": {
             "fill": {
              "color": "#EBF0F8"
             },
             "line": {
              "color": "white"
             }
            },
            "header": {
             "fill": {
              "color": "#C8D4E3"
             },
             "line": {
              "color": "white"
             }
            },
            "type": "table"
           }
          ]
         },
         "layout": {
          "annotationdefaults": {
           "arrowcolor": "#2a3f5f",
           "arrowhead": 0,
           "arrowwidth": 1
          },
          "autotypenumbers": "strict",
          "coloraxis": {
           "colorbar": {
            "outlinewidth": 0,
            "ticks": ""
           }
          },
          "colorscale": {
           "diverging": [
            [
             0,
             "#8e0152"
            ],
            [
             0.1,
             "#c51b7d"
            ],
            [
             0.2,
             "#de77ae"
            ],
            [
             0.3,
             "#f1b6da"
            ],
            [
             0.4,
             "#fde0ef"
            ],
            [
             0.5,
             "#f7f7f7"
            ],
            [
             0.6,
             "#e6f5d0"
            ],
            [
             0.7,
             "#b8e186"
            ],
            [
             0.8,
             "#7fbc41"
            ],
            [
             0.9,
             "#4d9221"
            ],
            [
             1,
             "#276419"
            ]
           ],
           "sequential": [
            [
             0,
             "#0d0887"
            ],
            [
             0.1111111111111111,
             "#46039f"
            ],
            [
             0.2222222222222222,
             "#7201a8"
            ],
            [
             0.3333333333333333,
             "#9c179e"
            ],
            [
             0.4444444444444444,
             "#bd3786"
            ],
            [
             0.5555555555555556,
             "#d8576b"
            ],
            [
             0.6666666666666666,
             "#ed7953"
            ],
            [
             0.7777777777777778,
             "#fb9f3a"
            ],
            [
             0.8888888888888888,
             "#fdca26"
            ],
            [
             1,
             "#f0f921"
            ]
           ],
           "sequentialminus": [
            [
             0,
             "#0d0887"
            ],
            [
             0.1111111111111111,
             "#46039f"
            ],
            [
             0.2222222222222222,
             "#7201a8"
            ],
            [
             0.3333333333333333,
             "#9c179e"
            ],
            [
             0.4444444444444444,
             "#bd3786"
            ],
            [
             0.5555555555555556,
             "#d8576b"
            ],
            [
             0.6666666666666666,
             "#ed7953"
            ],
            [
             0.7777777777777778,
             "#fb9f3a"
            ],
            [
             0.8888888888888888,
             "#fdca26"
            ],
            [
             1,
             "#f0f921"
            ]
           ]
          },
          "colorway": [
           "#636efa",
           "#EF553B",
           "#00cc96",
           "#ab63fa",
           "#FFA15A",
           "#19d3f3",
           "#FF6692",
           "#B6E880",
           "#FF97FF",
           "#FECB52"
          ],
          "font": {
           "color": "#2a3f5f"
          },
          "geo": {
           "bgcolor": "white",
           "lakecolor": "white",
           "landcolor": "#E5ECF6",
           "showlakes": true,
           "showland": true,
           "subunitcolor": "white"
          },
          "hoverlabel": {
           "align": "left"
          },
          "hovermode": "closest",
          "mapbox": {
           "style": "light"
          },
          "paper_bgcolor": "white",
          "plot_bgcolor": "#E5ECF6",
          "polar": {
           "angularaxis": {
            "gridcolor": "white",
            "linecolor": "white",
            "ticks": ""
           },
           "bgcolor": "#E5ECF6",
           "radialaxis": {
            "gridcolor": "white",
            "linecolor": "white",
            "ticks": ""
           }
          },
          "scene": {
           "xaxis": {
            "backgroundcolor": "#E5ECF6",
            "gridcolor": "white",
            "gridwidth": 2,
            "linecolor": "white",
            "showbackground": true,
            "ticks": "",
            "zerolinecolor": "white"
           },
           "yaxis": {
            "backgroundcolor": "#E5ECF6",
            "gridcolor": "white",
            "gridwidth": 2,
            "linecolor": "white",
            "showbackground": true,
            "ticks": "",
            "zerolinecolor": "white"
           },
           "zaxis": {
            "backgroundcolor": "#E5ECF6",
            "gridcolor": "white",
            "gridwidth": 2,
            "linecolor": "white",
            "showbackground": true,
            "ticks": "",
            "zerolinecolor": "white"
           }
          },
          "shapedefaults": {
           "line": {
            "color": "#2a3f5f"
           }
          },
          "ternary": {
           "aaxis": {
            "gridcolor": "white",
            "linecolor": "white",
            "ticks": ""
           },
           "baxis": {
            "gridcolor": "white",
            "linecolor": "white",
            "ticks": ""
           },
           "bgcolor": "#E5ECF6",
           "caxis": {
            "gridcolor": "white",
            "linecolor": "white",
            "ticks": ""
           }
          },
          "title": {
           "x": 0.05
          },
          "xaxis": {
           "automargin": true,
           "gridcolor": "white",
           "linecolor": "white",
           "ticks": "",
           "title": {
            "standoff": 15
           },
           "zerolinecolor": "white",
           "zerolinewidth": 2
          },
          "yaxis": {
           "automargin": true,
           "gridcolor": "white",
           "linecolor": "white",
           "ticks": "",
           "title": {
            "standoff": 15
           },
           "zerolinecolor": "white",
           "zerolinewidth": 2
          }
         }
        },
        "title": {
         "text": "Nombre de Mesures par Année et Saison"
        },
        "xaxis": {
         "anchor": "y",
         "domain": [
          0,
          1
         ],
         "title": {
          "text": "année"
         }
        },
        "yaxis": {
         "anchor": "x",
         "domain": [
          0,
          1
         ],
         "title": {
          "text": "nombre de résultats d'analyse"
         }
        }
       }
      }
     },
     "metadata": {},
     "output_type": "display_data"
    }
   ],
   "source": [
    "# Créer un graphique à barres\n",
    "fig = px.bar(df_counts, \n",
    "             x='année', \n",
    "             y='nombre de résultats d\\'analyse par saison', \n",
    "             color='saison', \n",
    "             barmode='stack', \n",
    "             labels={'Année': 'année', 'Nombre de valeurs': 'Nombre de Mesures'},\n",
    "             title='Nombre de Mesures par Année et Saison')\n",
    "\n",
    "# Personnaliser l'apparence\n",
    "fig.update_layout(\n",
    "    xaxis_title='année',\n",
    "    yaxis_title='nombre de résultats d\\'analyse',\n",
    "    legend_title='saison'\n",
    ")\n",
    "\n",
    "# Afficher le graphique\n",
    "fig.show()\n"
   ]
  },
  {
   "cell_type": "markdown",
   "metadata": {},
   "source": [
    "Cette fois ci on voit qu'on a surtout des résultats en été, très peu en hiver, un tout petit peu en automne et un petit peu au printemps.\n",
    "Très différent de phyicochilique où on en avait tout le temps\n",
    "\n",
    "Moins de 1000 valeurs avant 2008, jusqu'à 2014 moins de 2000 et après cela on a doublé les prélèvements (surtout ceux en été)"
   ]
  },
  {
   "cell_type": "markdown",
   "metadata": {},
   "source": [
    "On va mettre arbitrairement un lag de 1 mois entre données physicochimques et hydrobiologiques\n",
    "\n",
    "TODO : on pourra aussi tester avec 3 mois, 6 mois et 1 an"
   ]
  },
  {
   "cell_type": "code",
   "execution_count": 198,
   "metadata": {},
   "outputs": [],
   "source": [
    "df_hydrobio['date_lag_1_month'] = df_hydrobio['date'] - pd.Timedelta(days=30)"
   ]
  },
  {
   "cell_type": "code",
   "execution_count": 200,
   "metadata": {},
   "outputs": [],
   "source": [
    "df_hydrobio['année'] = df_hydrobio['date_lag_1_month'].dt.year\n",
    "df_hydrobio['saison'] = df_hydrobio['date_lag_1_month'].dt.month.apply(assign_season)"
   ]
  },
  {
   "cell_type": "code",
   "execution_count": 228,
   "metadata": {},
   "outputs": [
    {
     "data": {
      "text/html": [
       "<div>\n",
       "<style scoped>\n",
       "    .dataframe tbody tr th:only-of-type {\n",
       "        vertical-align: middle;\n",
       "    }\n",
       "\n",
       "    .dataframe tbody tr th {\n",
       "        vertical-align: top;\n",
       "    }\n",
       "\n",
       "    .dataframe thead th {\n",
       "        text-align: right;\n",
       "    }\n",
       "</style>\n",
       "<table border=\"1\" class=\"dataframe\">\n",
       "  <thead>\n",
       "    <tr style=\"text-align: right;\">\n",
       "      <th></th>\n",
       "      <th>station</th>\n",
       "      <th>année</th>\n",
       "      <th>saison</th>\n",
       "      <th>I2M2</th>\n",
       "    </tr>\n",
       "  </thead>\n",
       "  <tbody>\n",
       "    <tr>\n",
       "      <th>0</th>\n",
       "      <td>1000274</td>\n",
       "      <td>2016</td>\n",
       "      <td>Été</td>\n",
       "      <td>0.243</td>\n",
       "    </tr>\n",
       "    <tr>\n",
       "      <th>1</th>\n",
       "      <td>1000274</td>\n",
       "      <td>2017</td>\n",
       "      <td>Printemps</td>\n",
       "      <td>0.231</td>\n",
       "    </tr>\n",
       "    <tr>\n",
       "      <th>2</th>\n",
       "      <td>1000274</td>\n",
       "      <td>2018</td>\n",
       "      <td>Été</td>\n",
       "      <td>0.205</td>\n",
       "    </tr>\n",
       "    <tr>\n",
       "      <th>3</th>\n",
       "      <td>1000274</td>\n",
       "      <td>2019</td>\n",
       "      <td>Printemps</td>\n",
       "      <td>0.236</td>\n",
       "    </tr>\n",
       "    <tr>\n",
       "      <th>4</th>\n",
       "      <td>1000274</td>\n",
       "      <td>2020</td>\n",
       "      <td>Été</td>\n",
       "      <td>0.096</td>\n",
       "    </tr>\n",
       "    <tr>\n",
       "      <th>...</th>\n",
       "      <td>...</td>\n",
       "      <td>...</td>\n",
       "      <td>...</td>\n",
       "      <td>...</td>\n",
       "    </tr>\n",
       "    <tr>\n",
       "      <th>43282</th>\n",
       "      <td>6999180</td>\n",
       "      <td>2013</td>\n",
       "      <td>Printemps</td>\n",
       "      <td>0.413</td>\n",
       "    </tr>\n",
       "    <tr>\n",
       "      <th>43283</th>\n",
       "      <td>6999180</td>\n",
       "      <td>2014</td>\n",
       "      <td>Printemps</td>\n",
       "      <td>0.437</td>\n",
       "    </tr>\n",
       "    <tr>\n",
       "      <th>43284</th>\n",
       "      <td>6999189</td>\n",
       "      <td>2022</td>\n",
       "      <td>Été</td>\n",
       "      <td>0.454</td>\n",
       "    </tr>\n",
       "    <tr>\n",
       "      <th>43285</th>\n",
       "      <td>6999190</td>\n",
       "      <td>2022</td>\n",
       "      <td>Été</td>\n",
       "      <td>0.257</td>\n",
       "    </tr>\n",
       "    <tr>\n",
       "      <th>43286</th>\n",
       "      <td>6999192</td>\n",
       "      <td>2022</td>\n",
       "      <td>Été</td>\n",
       "      <td>0.091</td>\n",
       "    </tr>\n",
       "  </tbody>\n",
       "</table>\n",
       "<p>43287 rows × 4 columns</p>\n",
       "</div>"
      ],
      "text/plain": [
       "       station  année     saison   I2M2\n",
       "0      1000274   2016        Été  0.243\n",
       "1      1000274   2017  Printemps  0.231\n",
       "2      1000274   2018        Été  0.205\n",
       "3      1000274   2019  Printemps  0.236\n",
       "4      1000274   2020        Été  0.096\n",
       "...        ...    ...        ...    ...\n",
       "43282  6999180   2013  Printemps  0.413\n",
       "43283  6999180   2014  Printemps  0.437\n",
       "43284  6999189   2022        Été  0.454\n",
       "43285  6999190   2022        Été  0.257\n",
       "43286  6999192   2022        Été  0.091\n",
       "\n",
       "[43287 rows x 4 columns]"
      ]
     },
     "execution_count": 228,
     "metadata": {},
     "output_type": "execute_result"
    }
   ],
   "source": [
    "df_hydrobio_aggregated = df_hydrobio.groupby(['station', 'année', 'saison']).agg({\n",
    "    'I2M2': 'median'\n",
    "}).reset_index()\n",
    "df_hydrobio_aggregated\n",
    "# TODO : aussi avec la moyenne ?"
   ]
  },
  {
   "cell_type": "code",
   "execution_count": 233,
   "metadata": {},
   "outputs": [
    {
     "name": "stdout",
     "output_type": "stream",
     "text": [
      "Stations communes: 0\n",
      "Nombre de stations dans df_pc: 8809\n",
      "Nombre de stations dans df_hydrobio: 9483\n",
      "Pourcentage de stations communes dans df_pc: 0.00%\n",
      "Pourcentage de stations communes dans df_hydrobio: 0.00%\n"
     ]
    }
   ],
   "source": [
    "# Trouver les stations communes\n",
    "stations_pc = set(df_pivoted['station'])\n",
    "stations_hydrobio = set(df_hydrobio['station'])\n",
    "\n",
    "# Stations communes\n",
    "stations_communes = stations_pc.intersection(stations_hydrobio)\n",
    "\n",
    "# Nombre de stations communes\n",
    "n_stations_communes = len(stations_communes)\n",
    "\n",
    "# Nombre de stations dans chaque DataFrame\n",
    "n_stations_pc = len(stations_pc)\n",
    "n_stations_hydrobio = len(stations_hydrobio)\n",
    "\n",
    "# Pourcentage de stations communes dans chaque DataFrame\n",
    "percent_communes_pc = (n_stations_communes / n_stations_pc) * 100\n",
    "percent_communes_hydrobio = (n_stations_communes / n_stations_hydrobio) * 100\n",
    "\n",
    "# Afficher les résultats\n",
    "print(f\"Stations communes: {n_stations_communes}\")\n",
    "print(f\"Nombre de stations dans df_pc: {n_stations_pc}\")\n",
    "print(f\"Nombre de stations dans df_hydrobio: {n_stations_hydrobio}\")\n",
    "print(f\"Pourcentage de stations communes dans df_pc: {percent_communes_pc:.2f}%\")\n",
    "print(f\"Pourcentage de stations communes dans df_hydrobio: {percent_communes_hydrobio:.2f}%\")\n"
   ]
  },
  {
   "cell_type": "code",
   "execution_count": null,
   "metadata": {},
   "outputs": [],
   "source": []
  },
  {
   "cell_type": "code",
   "execution_count": null,
   "metadata": {},
   "outputs": [],
   "source": []
  },
  {
   "cell_type": "markdown",
   "metadata": {},
   "source": [
    "### Lier les données stations / physicochimiques / hydrobiologiques"
   ]
  },
  {
   "cell_type": "code",
   "execution_count": null,
   "metadata": {},
   "outputs": [],
   "source": [
    "# TODO ZOE : faire ça tout en haut quand on load"
   ]
  },
  {
   "cell_type": "code",
   "execution_count": 6,
   "metadata": {},
   "outputs": [
    {
     "name": "stdout",
     "output_type": "stream",
     "text": [
      "object\n",
      "category\n",
      "int64\n"
     ]
    }
   ],
   "source": [
    "print(df_load_stations['CdStationMesureEauxSurface'].dtype)\n",
    "print(df_load_pc['CdStationMesureEauxSurface'].dtype)\n",
    "print(df_load_hydrobio['CdStationMesureEauxSurface'].dtype)"
   ]
  },
  {
   "cell_type": "markdown",
   "metadata": {},
   "source": [
    "Il faut rendre ces colonnes compatibles"
   ]
  },
  {
   "cell_type": "code",
   "execution_count": 7,
   "metadata": {},
   "outputs": [],
   "source": [
    "df_stations.rename(columns={'CdStationMesureEauxSurface': 'station'}, inplace=True)\n",
    "df_pc.rename(columns={'CdStationMesureEauxSurface': 'station'}, inplace=True)\n",
    "df_hydrobio.rename(columns={'CdStationMesureEauxSurface': 'station'}, inplace=True)"
   ]
  },
  {
   "cell_type": "code",
   "execution_count": null,
   "metadata": {},
   "outputs": [
    {
     "name": "stdout",
     "output_type": "stream",
     "text": [
      "   station                LbStationMesureEauxSurface_pc  \\\n",
      "0  5001800  L'Arnoult en amont de Pont l'Abbé d'Arnoult   \n",
      "1  5001800  L'Arnoult en amont de Pont l'Abbé d'Arnoult   \n",
      "2  5001800  L'Arnoult en amont de Pont l'Abbé d'Arnoult   \n",
      "3  5001800  L'Arnoult en amont de Pont l'Abbé d'Arnoult   \n",
      "4  5001800  L'Arnoult en amont de Pont l'Abbé d'Arnoult   \n",
      "\n",
      "           LbStationMesureEauxSurface_hydrobio  \\\n",
      "0  L'Arnoult en amont de Pont l'Abbé d'Arnoult   \n",
      "1  L'Arnoult en amont de Pont l'Abbé d'Arnoult   \n",
      "2  L'Arnoult en amont de Pont l'Abbé d'Arnoult   \n",
      "3  L'Arnoult en amont de Pont l'Abbé d'Arnoult   \n",
      "4  L'Arnoult en amont de Pont l'Abbé d'Arnoult   \n",
      "\n",
      "                    LbStationMesureEauxSurface  \n",
      "0  L'Arnoult en amont de Pont l'Abbé d'Arnoult  \n",
      "1  L'Arnoult en amont de Pont l'Abbé d'Arnoult  \n",
      "2  L'Arnoult en amont de Pont l'Abbé d'Arnoult  \n",
      "3  L'Arnoult en amont de Pont l'Abbé d'Arnoult  \n",
      "4  L'Arnoult en amont de Pont l'Abbé d'Arnoult  \n"
     ]
    }
   ],
   "source": [
    "def clean_station_column(df, column_name):\n",
    "    df[column_name] = df[column_name].astype(str).str.extract(r'(\\d+)')[0]\n",
    "    df[column_name] = pd.to_numeric(df[column_name], errors='coerce')\n",
    "    return df\n",
    "\n",
    "df_station_cleaned = clean_station_column(df_stations, 'station')\n",
    "df_pc_cleaned = clean_station_column(df_pc, 'station')\n",
    "df_hydrobio_cleaned = clean_station_column(df_hydrobio, 'station')\n",
    "\n",
    "merged_data = pd.merge(\n",
    "    df_pc_cleaned,\n",
    "    df_hydrobio_cleaned,\n",
    "    on='station',\n",
    "    how='inner', \n",
    "    suffixes=('_pc', '_hydrobio')\n",
    ")\n",
    "\n",
    "merged_all = pd.merge(\n",
    "    merged_data,\n",
    "    df_station_cleaned,\n",
    "    on='station',\n",
    "    how='inner' \n",
    ")\n",
    "\n",
    "# On vérifie globalement avec les labels (même si il n'y a pas exactement une correspondance 1 1 entre Cd et Lb)\n",
    "result = merged_all[['station', 'LbStationMesureEauxSurface_pc', 'LbStationMesureEauxSurface_hydrobio', 'LbStationMesureEauxSurface']]\n",
    "result.head(5)"
   ]
  },
  {
   "cell_type": "code",
   "execution_count": 15,
   "metadata": {},
   "outputs": [
    {
     "data": {
      "text/html": [
       "<div>\n",
       "<style scoped>\n",
       "    .dataframe tbody tr th:only-of-type {\n",
       "        vertical-align: middle;\n",
       "    }\n",
       "\n",
       "    .dataframe tbody tr th {\n",
       "        vertical-align: top;\n",
       "    }\n",
       "\n",
       "    .dataframe thead th {\n",
       "        text-align: right;\n",
       "    }\n",
       "</style>\n",
       "<table border=\"1\" class=\"dataframe\">\n",
       "  <thead>\n",
       "    <tr style=\"text-align: right;\">\n",
       "      <th></th>\n",
       "      <th>station</th>\n",
       "      <th>LbStationMesureEauxSurface_pc</th>\n",
       "      <th>LbStationMesureEauxSurface_hydrobio</th>\n",
       "      <th>LbStationMesureEauxSurface</th>\n",
       "    </tr>\n",
       "  </thead>\n",
       "  <tbody>\n",
       "    <tr>\n",
       "      <th>6156</th>\n",
       "      <td>5010000</td>\n",
       "      <td>Le Pharaon à St-Pardon</td>\n",
       "      <td>Le Pharaon à St-Pardon</td>\n",
       "      <td>Le Pharon à St-Pardon</td>\n",
       "    </tr>\n",
       "    <tr>\n",
       "      <th>6157</th>\n",
       "      <td>5010000</td>\n",
       "      <td>Le Pharaon à St-Pardon</td>\n",
       "      <td>Le Pharaon à St-Pardon</td>\n",
       "      <td>Le Pharon à St-Pardon</td>\n",
       "    </tr>\n",
       "    <tr>\n",
       "      <th>6158</th>\n",
       "      <td>5010000</td>\n",
       "      <td>Le Pharaon à St-Pardon</td>\n",
       "      <td>Le Pharaon à St-Pardon</td>\n",
       "      <td>Le Pharon à St-Pardon</td>\n",
       "    </tr>\n",
       "    <tr>\n",
       "      <th>6159</th>\n",
       "      <td>5010000</td>\n",
       "      <td>Le Pharaon à St-Pardon</td>\n",
       "      <td>Le Pharaon à St-Pardon</td>\n",
       "      <td>Le Pharon à St-Pardon</td>\n",
       "    </tr>\n",
       "    <tr>\n",
       "      <th>6160</th>\n",
       "      <td>5010000</td>\n",
       "      <td>Le Pharaon à St-Pardon</td>\n",
       "      <td>Le Pharaon à St-Pardon</td>\n",
       "      <td>Le Pharon à St-Pardon</td>\n",
       "    </tr>\n",
       "    <tr>\n",
       "      <th>...</th>\n",
       "      <td>...</td>\n",
       "      <td>...</td>\n",
       "      <td>...</td>\n",
       "      <td>...</td>\n",
       "    </tr>\n",
       "    <tr>\n",
       "      <th>44642476</th>\n",
       "      <td>6177500</td>\n",
       "      <td>LAUQUET A COUFFOULENS</td>\n",
       "      <td>LAUQUET A COUFFOULENS</td>\n",
       "      <td>LAUQUET A COUFFOULENS</td>\n",
       "    </tr>\n",
       "    <tr>\n",
       "      <th>44642477</th>\n",
       "      <td>6177500</td>\n",
       "      <td>LAUQUET A COUFFOULENS</td>\n",
       "      <td>LAUQUET A COUFFOULENS</td>\n",
       "      <td>LAUQUET A COUFFOULENS</td>\n",
       "    </tr>\n",
       "    <tr>\n",
       "      <th>44642478</th>\n",
       "      <td>6177500</td>\n",
       "      <td>LAUQUET A COUFFOULENS</td>\n",
       "      <td>LAUQUET A COUFFOULENS</td>\n",
       "      <td>LAUQUET A COUFFOULENS</td>\n",
       "    </tr>\n",
       "    <tr>\n",
       "      <th>44642479</th>\n",
       "      <td>6177500</td>\n",
       "      <td>LAUQUET A COUFFOULENS</td>\n",
       "      <td>LAUQUET A COUFFOULENS</td>\n",
       "      <td>LAUQUET A COUFFOULENS</td>\n",
       "    </tr>\n",
       "    <tr>\n",
       "      <th>44642480</th>\n",
       "      <td>6177500</td>\n",
       "      <td>LAUQUET A COUFFOULENS</td>\n",
       "      <td>LAUQUET A COUFFOULENS</td>\n",
       "      <td>LAUQUET A COUFFOULENS</td>\n",
       "    </tr>\n",
       "  </tbody>\n",
       "</table>\n",
       "<p>10761479 rows × 4 columns</p>\n",
       "</div>"
      ],
      "text/plain": [
       "          station LbStationMesureEauxSurface_pc  \\\n",
       "6156      5010000        Le Pharaon à St-Pardon   \n",
       "6157      5010000        Le Pharaon à St-Pardon   \n",
       "6158      5010000        Le Pharaon à St-Pardon   \n",
       "6159      5010000        Le Pharaon à St-Pardon   \n",
       "6160      5010000        Le Pharaon à St-Pardon   \n",
       "...           ...                           ...   \n",
       "44642476  6177500        LAUQUET A COUFFOULENS    \n",
       "44642477  6177500        LAUQUET A COUFFOULENS    \n",
       "44642478  6177500        LAUQUET A COUFFOULENS    \n",
       "44642479  6177500        LAUQUET A COUFFOULENS    \n",
       "44642480  6177500        LAUQUET A COUFFOULENS    \n",
       "\n",
       "         LbStationMesureEauxSurface_hydrobio LbStationMesureEauxSurface  \n",
       "6156                  Le Pharaon à St-Pardon      Le Pharon à St-Pardon  \n",
       "6157                  Le Pharaon à St-Pardon      Le Pharon à St-Pardon  \n",
       "6158                  Le Pharaon à St-Pardon      Le Pharon à St-Pardon  \n",
       "6159                  Le Pharaon à St-Pardon      Le Pharon à St-Pardon  \n",
       "6160                  Le Pharaon à St-Pardon      Le Pharon à St-Pardon  \n",
       "...                                      ...                        ...  \n",
       "44642476              LAUQUET A COUFFOULENS       LAUQUET A COUFFOULENS  \n",
       "44642477              LAUQUET A COUFFOULENS       LAUQUET A COUFFOULENS  \n",
       "44642478              LAUQUET A COUFFOULENS       LAUQUET A COUFFOULENS  \n",
       "44642479              LAUQUET A COUFFOULENS       LAUQUET A COUFFOULENS  \n",
       "44642480              LAUQUET A COUFFOULENS       LAUQUET A COUFFOULENS  \n",
       "\n",
       "[10761479 rows x 4 columns]"
      ]
     },
     "execution_count": 15,
     "metadata": {},
     "output_type": "execute_result"
    }
   ],
   "source": [
    "# Filtrer les lignes où les labels diffèrent\n",
    "label_diff = result[\n",
    "    (result['LbStationMesureEauxSurface_pc'] != result['LbStationMesureEauxSurface_hydrobio']) |\n",
    "    (result['LbStationMesureEauxSurface_pc'] != result['LbStationMesureEauxSurface'])\n",
    "]\n",
    "\n",
    "# Afficher les divergences\n",
    "label_diff"
   ]
  },
  {
   "cell_type": "code",
   "execution_count": 16,
   "metadata": {},
   "outputs": [
    {
     "name": "stdout",
     "output_type": "stream",
     "text": [
      "Nombre de lignes uniques : 868\n"
     ]
    }
   ],
   "source": [
    "# Supprimer les doublons et compter les lignes uniques\n",
    "unique_label_diff = label_diff.drop_duplicates()\n",
    "print(\"Nombre de lignes uniques :\", unique_label_diff.shape[0])"
   ]
  },
  {
   "cell_type": "code",
   "execution_count": 17,
   "metadata": {},
   "outputs": [
    {
     "data": {
      "text/html": [
       "<div>\n",
       "<style scoped>\n",
       "    .dataframe tbody tr th:only-of-type {\n",
       "        vertical-align: middle;\n",
       "    }\n",
       "\n",
       "    .dataframe tbody tr th {\n",
       "        vertical-align: top;\n",
       "    }\n",
       "\n",
       "    .dataframe thead th {\n",
       "        text-align: right;\n",
       "    }\n",
       "</style>\n",
       "<table border=\"1\" class=\"dataframe\">\n",
       "  <thead>\n",
       "    <tr style=\"text-align: right;\">\n",
       "      <th></th>\n",
       "      <th>station</th>\n",
       "      <th>LbStationMesureEauxSurface_pc</th>\n",
       "      <th>LbStationMesureEauxSurface_hydrobio</th>\n",
       "      <th>LbStationMesureEauxSurface</th>\n",
       "    </tr>\n",
       "  </thead>\n",
       "  <tbody>\n",
       "    <tr>\n",
       "      <th>6156</th>\n",
       "      <td>5010000</td>\n",
       "      <td>Le Pharaon à St-Pardon</td>\n",
       "      <td>Le Pharaon à St-Pardon</td>\n",
       "      <td>Le Pharon à St-Pardon</td>\n",
       "    </tr>\n",
       "    <tr>\n",
       "      <th>11396</th>\n",
       "      <td>5015100</td>\n",
       "      <td>Le Charreau à St-Michel</td>\n",
       "      <td>Le Charreau à St-Michel</td>\n",
       "      <td>Le Charraud à St-Michel</td>\n",
       "    </tr>\n",
       "    <tr>\n",
       "      <th>77052</th>\n",
       "      <td>5116100</td>\n",
       "      <td>La Séoune à Montjoi</td>\n",
       "      <td>La Séoune à Montjoi</td>\n",
       "      <td>La Séoune à Montjoie</td>\n",
       "    </tr>\n",
       "    <tr>\n",
       "      <th>142208</th>\n",
       "      <td>5197200</td>\n",
       "      <td>Le Majesq à Azur</td>\n",
       "      <td>Le ruisseau de Magescq à Azur</td>\n",
       "      <td>Le Majesq à Azur</td>\n",
       "    </tr>\n",
       "    <tr>\n",
       "      <th>469812</th>\n",
       "      <td>6076720</td>\n",
       "      <td>FURANS A LA-BURBANCHE</td>\n",
       "      <td>FURANS A LA-BURBANCHE</td>\n",
       "      <td>FURANS A LA-BURBANCHE</td>\n",
       "    </tr>\n",
       "    <tr>\n",
       "      <th>...</th>\n",
       "      <td>...</td>\n",
       "      <td>...</td>\n",
       "      <td>...</td>\n",
       "      <td>...</td>\n",
       "    </tr>\n",
       "    <tr>\n",
       "      <th>27241017</th>\n",
       "      <td>3036064</td>\n",
       "      <td>LE RU DES PRÉS DU BOIS A PONTIGNY 1</td>\n",
       "      <td>LE RU DES PRÉS DU BOIS A PONTIGNY 1</td>\n",
       "      <td>LE RU DES PRÉS DU BOIS A PONTIGNY 1</td>\n",
       "    </tr>\n",
       "    <tr>\n",
       "      <th>31000962</th>\n",
       "      <td>3008459</td>\n",
       "      <td>LA BODERONNE A POLIGNY 1</td>\n",
       "      <td>LA BODERONNE A POLIGNY 1</td>\n",
       "      <td>LA BODERONNE A POLIGNY 1</td>\n",
       "    </tr>\n",
       "    <tr>\n",
       "      <th>39821273</th>\n",
       "      <td>6820102</td>\n",
       "      <td>EAU D'OLLE A LE-BOURG-D'OISANS</td>\n",
       "      <td>EAU D'OLLE A LE-BOURG-D'OISANS</td>\n",
       "      <td>EAU D'OLLE A LE-BOURG-D'OISANS</td>\n",
       "    </tr>\n",
       "    <tr>\n",
       "      <th>41572067</th>\n",
       "      <td>6453450</td>\n",
       "      <td>BARBECHE A VILLARS-SOUS-DAMPJOUX</td>\n",
       "      <td>BARBECHE A VILLARS-SOUS-DAMPJOUX</td>\n",
       "      <td>BARBECHE A VILLARS-SOUS-DAMPJOUX</td>\n",
       "    </tr>\n",
       "    <tr>\n",
       "      <th>42355097</th>\n",
       "      <td>6446330</td>\n",
       "      <td>BLUSSANS A BLUSSANS 1</td>\n",
       "      <td>BLUSSANS A BLUSSANS 1</td>\n",
       "      <td>RUISSEAU DE BLUSSANS A BLUSSANS</td>\n",
       "    </tr>\n",
       "  </tbody>\n",
       "</table>\n",
       "<p>868 rows × 4 columns</p>\n",
       "</div>"
      ],
      "text/plain": [
       "          station         LbStationMesureEauxSurface_pc  \\\n",
       "6156      5010000                Le Pharaon à St-Pardon   \n",
       "11396     5015100               Le Charreau à St-Michel   \n",
       "77052     5116100                   La Séoune à Montjoi   \n",
       "142208    5197200                      Le Majesq à Azur   \n",
       "469812    6076720                FURANS A LA-BURBANCHE    \n",
       "...           ...                                   ...   \n",
       "27241017  3036064  LE RU DES PRÉS DU BOIS A PONTIGNY 1    \n",
       "31000962  3008459             LA BODERONNE A POLIGNY 1    \n",
       "39821273  6820102       EAU D'OLLE A LE-BOURG-D'OISANS    \n",
       "41572067  6453450     BARBECHE A VILLARS-SOUS-DAMPJOUX    \n",
       "42355097  6446330                 BLUSSANS A BLUSSANS 1   \n",
       "\n",
       "           LbStationMesureEauxSurface_hydrobio  \\\n",
       "6156                    Le Pharaon à St-Pardon   \n",
       "11396                  Le Charreau à St-Michel   \n",
       "77052                      La Séoune à Montjoi   \n",
       "142208           Le ruisseau de Magescq à Azur   \n",
       "469812                  FURANS A LA-BURBANCHE    \n",
       "...                                        ...   \n",
       "27241017  LE RU DES PRÉS DU BOIS A PONTIGNY 1    \n",
       "31000962             LA BODERONNE A POLIGNY 1    \n",
       "39821273       EAU D'OLLE A LE-BOURG-D'OISANS    \n",
       "41572067     BARBECHE A VILLARS-SOUS-DAMPJOUX    \n",
       "42355097                 BLUSSANS A BLUSSANS 1   \n",
       "\n",
       "                   LbStationMesureEauxSurface  \n",
       "6156                    Le Pharon à St-Pardon  \n",
       "11396                 Le Charraud à St-Michel  \n",
       "77052                    La Séoune à Montjoie  \n",
       "142208                       Le Majesq à Azur  \n",
       "469812                  FURANS A LA-BURBANCHE  \n",
       "...                                       ...  \n",
       "27241017  LE RU DES PRÉS DU BOIS A PONTIGNY 1  \n",
       "31000962             LA BODERONNE A POLIGNY 1  \n",
       "39821273       EAU D'OLLE A LE-BOURG-D'OISANS  \n",
       "41572067     BARBECHE A VILLARS-SOUS-DAMPJOUX  \n",
       "42355097      RUISSEAU DE BLUSSANS A BLUSSANS  \n",
       "\n",
       "[868 rows x 4 columns]"
      ]
     },
     "execution_count": 17,
     "metadata": {},
     "output_type": "execute_result"
    }
   ],
   "source": [
    "unique_label_diff"
   ]
  },
  {
   "cell_type": "code",
   "execution_count": 24,
   "metadata": {},
   "outputs": [],
   "source": [
    "unique_label_diff.loc[:, 'LbStationMesureEauxSurface_pc'] = unique_label_diff['LbStationMesureEauxSurface_pc'].astype(str)\n",
    "unique_label_diff.loc[:, 'LbStationMesureEauxSurface_hydrobio'] = unique_label_diff['LbStationMesureEauxSurface_hydrobio'].astype(str)\n",
    "unique_label_diff.loc[:, 'LbStationMesureEauxSurface'] = unique_label_diff['LbStationMesureEauxSurface'].astype(str)"
   ]
  },
  {
   "cell_type": "code",
   "execution_count": null,
   "metadata": {},
   "outputs": [
    {
     "name": "stdout",
     "output_type": "stream",
     "text": [
      "True :  852\n"
     ]
    },
    {
     "name": "stderr",
     "output_type": "stream",
     "text": [
      "/var/folders/p1/4yqk4cyx3058m3j04rtkr56m0000gn/T/ipykernel_3532/3653414747.py:1: SettingWithCopyWarning: \n",
      "A value is trying to be set on a copy of a slice from a DataFrame.\n",
      "Try using .loc[row_indexer,col_indexer] = value instead\n",
      "\n",
      "See the caveats in the documentation: https://pandas.pydata.org/pandas-docs/stable/user_guide/indexing.html#returning-a-view-versus-a-copy\n",
      "  unique_label_diff['labels_identiques_pc_bio'] = (\n"
     ]
    },
    {
     "data": {
      "text/html": [
       "<div>\n",
       "<style scoped>\n",
       "    .dataframe tbody tr th:only-of-type {\n",
       "        vertical-align: middle;\n",
       "    }\n",
       "\n",
       "    .dataframe tbody tr th {\n",
       "        vertical-align: top;\n",
       "    }\n",
       "\n",
       "    .dataframe thead th {\n",
       "        text-align: right;\n",
       "    }\n",
       "</style>\n",
       "<table border=\"1\" class=\"dataframe\">\n",
       "  <thead>\n",
       "    <tr style=\"text-align: right;\">\n",
       "      <th></th>\n",
       "      <th>station</th>\n",
       "      <th>LbStationMesureEauxSurface_pc</th>\n",
       "      <th>LbStationMesureEauxSurface_hydrobio</th>\n",
       "      <th>LbStationMesureEauxSurface</th>\n",
       "      <th>labels_identiques</th>\n",
       "      <th>labels_identiques_pc_bio</th>\n",
       "    </tr>\n",
       "  </thead>\n",
       "  <tbody>\n",
       "    <tr>\n",
       "      <th>6156</th>\n",
       "      <td>5010000</td>\n",
       "      <td>Le Pharaon à St-Pardon</td>\n",
       "      <td>Le Pharaon à St-Pardon</td>\n",
       "      <td>Le Pharon à St-Pardon</td>\n",
       "      <td>True</td>\n",
       "      <td>True</td>\n",
       "    </tr>\n",
       "    <tr>\n",
       "      <th>11396</th>\n",
       "      <td>5015100</td>\n",
       "      <td>Le Charreau à St-Michel</td>\n",
       "      <td>Le Charreau à St-Michel</td>\n",
       "      <td>Le Charraud à St-Michel</td>\n",
       "      <td>True</td>\n",
       "      <td>True</td>\n",
       "    </tr>\n",
       "    <tr>\n",
       "      <th>77052</th>\n",
       "      <td>5116100</td>\n",
       "      <td>La Séoune à Montjoi</td>\n",
       "      <td>La Séoune à Montjoi</td>\n",
       "      <td>La Séoune à Montjoie</td>\n",
       "      <td>True</td>\n",
       "      <td>True</td>\n",
       "    </tr>\n",
       "    <tr>\n",
       "      <th>142208</th>\n",
       "      <td>5197200</td>\n",
       "      <td>Le Majesq à Azur</td>\n",
       "      <td>Le ruisseau de Magescq à Azur</td>\n",
       "      <td>Le Majesq à Azur</td>\n",
       "      <td>False</td>\n",
       "      <td>False</td>\n",
       "    </tr>\n",
       "    <tr>\n",
       "      <th>469812</th>\n",
       "      <td>6076720</td>\n",
       "      <td>FURANS A LA-BURBANCHE</td>\n",
       "      <td>FURANS A LA-BURBANCHE</td>\n",
       "      <td>FURANS A LA-BURBANCHE</td>\n",
       "      <td>True</td>\n",
       "      <td>True</td>\n",
       "    </tr>\n",
       "    <tr>\n",
       "      <th>...</th>\n",
       "      <td>...</td>\n",
       "      <td>...</td>\n",
       "      <td>...</td>\n",
       "      <td>...</td>\n",
       "      <td>...</td>\n",
       "      <td>...</td>\n",
       "    </tr>\n",
       "    <tr>\n",
       "      <th>27241017</th>\n",
       "      <td>3036064</td>\n",
       "      <td>LE RU DES PRÉS DU BOIS A PONTIGNY 1</td>\n",
       "      <td>LE RU DES PRÉS DU BOIS A PONTIGNY 1</td>\n",
       "      <td>LE RU DES PRÉS DU BOIS A PONTIGNY 1</td>\n",
       "      <td>True</td>\n",
       "      <td>True</td>\n",
       "    </tr>\n",
       "    <tr>\n",
       "      <th>31000962</th>\n",
       "      <td>3008459</td>\n",
       "      <td>LA BODERONNE A POLIGNY 1</td>\n",
       "      <td>LA BODERONNE A POLIGNY 1</td>\n",
       "      <td>LA BODERONNE A POLIGNY 1</td>\n",
       "      <td>True</td>\n",
       "      <td>True</td>\n",
       "    </tr>\n",
       "    <tr>\n",
       "      <th>39821273</th>\n",
       "      <td>6820102</td>\n",
       "      <td>EAU D'OLLE A LE-BOURG-D'OISANS</td>\n",
       "      <td>EAU D'OLLE A LE-BOURG-D'OISANS</td>\n",
       "      <td>EAU D'OLLE A LE-BOURG-D'OISANS</td>\n",
       "      <td>True</td>\n",
       "      <td>True</td>\n",
       "    </tr>\n",
       "    <tr>\n",
       "      <th>41572067</th>\n",
       "      <td>6453450</td>\n",
       "      <td>BARBECHE A VILLARS-SOUS-DAMPJOUX</td>\n",
       "      <td>BARBECHE A VILLARS-SOUS-DAMPJOUX</td>\n",
       "      <td>BARBECHE A VILLARS-SOUS-DAMPJOUX</td>\n",
       "      <td>True</td>\n",
       "      <td>True</td>\n",
       "    </tr>\n",
       "    <tr>\n",
       "      <th>42355097</th>\n",
       "      <td>6446330</td>\n",
       "      <td>BLUSSANS A BLUSSANS 1</td>\n",
       "      <td>BLUSSANS A BLUSSANS 1</td>\n",
       "      <td>RUISSEAU DE BLUSSANS A BLUSSANS</td>\n",
       "      <td>True</td>\n",
       "      <td>True</td>\n",
       "    </tr>\n",
       "  </tbody>\n",
       "</table>\n",
       "<p>868 rows × 6 columns</p>\n",
       "</div>"
      ],
      "text/plain": [
       "          station         LbStationMesureEauxSurface_pc  \\\n",
       "6156      5010000                Le Pharaon à St-Pardon   \n",
       "11396     5015100               Le Charreau à St-Michel   \n",
       "77052     5116100                   La Séoune à Montjoi   \n",
       "142208    5197200                      Le Majesq à Azur   \n",
       "469812    6076720                FURANS A LA-BURBANCHE    \n",
       "...           ...                                   ...   \n",
       "27241017  3036064  LE RU DES PRÉS DU BOIS A PONTIGNY 1    \n",
       "31000962  3008459             LA BODERONNE A POLIGNY 1    \n",
       "39821273  6820102       EAU D'OLLE A LE-BOURG-D'OISANS    \n",
       "41572067  6453450     BARBECHE A VILLARS-SOUS-DAMPJOUX    \n",
       "42355097  6446330                 BLUSSANS A BLUSSANS 1   \n",
       "\n",
       "           LbStationMesureEauxSurface_hydrobio  \\\n",
       "6156                    Le Pharaon à St-Pardon   \n",
       "11396                  Le Charreau à St-Michel   \n",
       "77052                      La Séoune à Montjoi   \n",
       "142208           Le ruisseau de Magescq à Azur   \n",
       "469812                  FURANS A LA-BURBANCHE    \n",
       "...                                        ...   \n",
       "27241017  LE RU DES PRÉS DU BOIS A PONTIGNY 1    \n",
       "31000962             LA BODERONNE A POLIGNY 1    \n",
       "39821273       EAU D'OLLE A LE-BOURG-D'OISANS    \n",
       "41572067     BARBECHE A VILLARS-SOUS-DAMPJOUX    \n",
       "42355097                 BLUSSANS A BLUSSANS 1   \n",
       "\n",
       "                   LbStationMesureEauxSurface  labels_identiques  \\\n",
       "6156                    Le Pharon à St-Pardon               True   \n",
       "11396                 Le Charraud à St-Michel               True   \n",
       "77052                    La Séoune à Montjoie               True   \n",
       "142208                       Le Majesq à Azur              False   \n",
       "469812                  FURANS A LA-BURBANCHE               True   \n",
       "...                                       ...                ...   \n",
       "27241017  LE RU DES PRÉS DU BOIS A PONTIGNY 1               True   \n",
       "31000962             LA BODERONNE A POLIGNY 1               True   \n",
       "39821273       EAU D'OLLE A LE-BOURG-D'OISANS               True   \n",
       "41572067     BARBECHE A VILLARS-SOUS-DAMPJOUX               True   \n",
       "42355097      RUISSEAU DE BLUSSANS A BLUSSANS               True   \n",
       "\n",
       "          labels_identiques_pc_bio  \n",
       "6156                          True  \n",
       "11396                         True  \n",
       "77052                         True  \n",
       "142208                       False  \n",
       "469812                        True  \n",
       "...                            ...  \n",
       "27241017                      True  \n",
       "31000962                      True  \n",
       "39821273                      True  \n",
       "41572067                      True  \n",
       "42355097                      True  \n",
       "\n",
       "[868 rows x 6 columns]"
      ]
     },
     "execution_count": 31,
     "metadata": {},
     "output_type": "execute_result"
    }
   ],
   "source": [
    "unique_label_diff['labels_identiques_pc_bio'] = (\n",
    "    # (unique_label_diff['LbStationMesureEauxSurface_pc'] == unique_label_diff['LbStationMesureEauxSurface']) &\n",
    "    (unique_label_diff['LbStationMesureEauxSurface_pc'] == unique_label_diff['LbStationMesureEauxSurface_hydrobio'])\n",
    ")\n",
    "\n",
    "print(\"True : \", unique_label_diff['labels_identiques_pc_bio'].sum())\n",
    "unique_label_diff"
   ]
  },
  {
   "cell_type": "code",
   "execution_count": 32,
   "metadata": {},
   "outputs": [
    {
     "data": {
      "text/html": [
       "<div>\n",
       "<style scoped>\n",
       "    .dataframe tbody tr th:only-of-type {\n",
       "        vertical-align: middle;\n",
       "    }\n",
       "\n",
       "    .dataframe tbody tr th {\n",
       "        vertical-align: top;\n",
       "    }\n",
       "\n",
       "    .dataframe thead th {\n",
       "        text-align: right;\n",
       "    }\n",
       "</style>\n",
       "<table border=\"1\" class=\"dataframe\">\n",
       "  <thead>\n",
       "    <tr style=\"text-align: right;\">\n",
       "      <th></th>\n",
       "      <th>station</th>\n",
       "      <th>LbStationMesureEauxSurface_pc</th>\n",
       "      <th>LbStationMesureEauxSurface_hydrobio</th>\n",
       "      <th>LbStationMesureEauxSurface</th>\n",
       "      <th>labels_identiques</th>\n",
       "      <th>labels_identiques_pc_bio</th>\n",
       "    </tr>\n",
       "  </thead>\n",
       "  <tbody>\n",
       "    <tr>\n",
       "      <th>142208</th>\n",
       "      <td>5197200</td>\n",
       "      <td>Le Majesq à Azur</td>\n",
       "      <td>Le ruisseau de Magescq à Azur</td>\n",
       "      <td>Le Majesq à Azur</td>\n",
       "      <td>False</td>\n",
       "      <td>False</td>\n",
       "    </tr>\n",
       "    <tr>\n",
       "      <th>470120</th>\n",
       "      <td>6083000</td>\n",
       "      <td>BOURBRE A CHAVANOZ</td>\n",
       "      <td>BOURBRE A CHAVANOZ 1</td>\n",
       "      <td>BOURBRE A CHAVANOZ</td>\n",
       "      <td>False</td>\n",
       "      <td>False</td>\n",
       "    </tr>\n",
       "    <tr>\n",
       "      <th>491442</th>\n",
       "      <td>6800003</td>\n",
       "      <td>EYGUES A ST-MAURICE/EYGUES - LES CIVARDIERES</td>\n",
       "      <td>EYGUES A ST-MAURICE-SUR-EYGUES 1</td>\n",
       "      <td>EYGUES A ST-MAURICE/EYGUES - LES CIVARDIERES</td>\n",
       "      <td>False</td>\n",
       "      <td>False</td>\n",
       "    </tr>\n",
       "    <tr>\n",
       "      <th>646346</th>\n",
       "      <td>6208900</td>\n",
       "      <td>MOURACHONNE A PEGOMAS</td>\n",
       "      <td>MOURACHONNE A PEGOMAS 1</td>\n",
       "      <td>MOURACHONNE A PEGOMAS</td>\n",
       "      <td>False</td>\n",
       "      <td>False</td>\n",
       "    </tr>\n",
       "    <tr>\n",
       "      <th>758833</th>\n",
       "      <td>6073500</td>\n",
       "      <td>LEYSSE A LE-BOURGET-DU-LAC</td>\n",
       "      <td>LEYSSE A LE-BOURGET-DU-LAC 1</td>\n",
       "      <td>LEYSSE A LE-BOURGET-DU-LAC</td>\n",
       "      <td>False</td>\n",
       "      <td>False</td>\n",
       "    </tr>\n",
       "    <tr>\n",
       "      <th>1965952</th>\n",
       "      <td>6135500</td>\n",
       "      <td>ARLY A FLUMET</td>\n",
       "      <td>ARLY A FLUMET 1</td>\n",
       "      <td>ARLY A FLUMET</td>\n",
       "      <td>False</td>\n",
       "      <td>False</td>\n",
       "    </tr>\n",
       "    <tr>\n",
       "      <th>1984209</th>\n",
       "      <td>6580640</td>\n",
       "      <td>BIEF D'ENFER A ST ETIENNE SUR REYSSOUZE</td>\n",
       "      <td>BIEF D'ENFER A ST ETIENNE SUR REYSSOUZE 1</td>\n",
       "      <td>BIEF D'ENFER A ST ETIENNE SUR REYSSOUZE</td>\n",
       "      <td>False</td>\n",
       "      <td>False</td>\n",
       "    </tr>\n",
       "    <tr>\n",
       "      <th>2027870</th>\n",
       "      <td>6139405</td>\n",
       "      <td>BUGEON A LA-CHAMBRE</td>\n",
       "      <td>BUGEON A LA-CHAMBRE 1</td>\n",
       "      <td>BUGEON A LA-CHAMBRE</td>\n",
       "      <td>False</td>\n",
       "      <td>False</td>\n",
       "    </tr>\n",
       "    <tr>\n",
       "      <th>2601096</th>\n",
       "      <td>5068920</td>\n",
       "      <td>La Véronne en aval de Riom-ès-Montagnes (Amont...</td>\n",
       "      <td>La VÃ©ronne en aval de Riom-Ã¨s-Montagnes (Amo...</td>\n",
       "      <td>La Véronne en aval de Riom-ès-Montagnes (Amont...</td>\n",
       "      <td>False</td>\n",
       "      <td>False</td>\n",
       "    </tr>\n",
       "    <tr>\n",
       "      <th>6161254</th>\n",
       "      <td>6830030</td>\n",
       "      <td>TORRENSON A ST-CYR</td>\n",
       "      <td>TORRENSON A THORRENC</td>\n",
       "      <td>TORRENSON A ST-CYR</td>\n",
       "      <td>False</td>\n",
       "      <td>False</td>\n",
       "    </tr>\n",
       "    <tr>\n",
       "      <th>6283996</th>\n",
       "      <td>6580830</td>\n",
       "      <td>DEISSE A GRESY-SUR-AIX</td>\n",
       "      <td>DEISSE A GRESY-SUR-AIX 1</td>\n",
       "      <td>DEISSE A GRESY-SUR-AIX</td>\n",
       "      <td>False</td>\n",
       "      <td>False</td>\n",
       "    </tr>\n",
       "    <tr>\n",
       "      <th>10114071</th>\n",
       "      <td>6080995</td>\n",
       "      <td>AGNY A NIVOLAS-VERMELLE</td>\n",
       "      <td>AGNY A NIVOLAS-VERMELLE 1</td>\n",
       "      <td>AGNY A NIVOLAS-VERMELLE</td>\n",
       "      <td>False</td>\n",
       "      <td>False</td>\n",
       "    </tr>\n",
       "    <tr>\n",
       "      <th>13051297</th>\n",
       "      <td>6014250</td>\n",
       "      <td>SANSFOND A SAULON-LA-RUE</td>\n",
       "      <td>CENT FONDS A SAULON-LA-RUE 1</td>\n",
       "      <td>SANSFOND A SAULON-LA-RUE</td>\n",
       "      <td>False</td>\n",
       "      <td>False</td>\n",
       "    </tr>\n",
       "    <tr>\n",
       "      <th>15728974</th>\n",
       "      <td>6213230</td>\n",
       "      <td>RUISSEAU LE THOUX A CURIS AU MONT D'OR</td>\n",
       "      <td>RUISSEAU LE THOUX A CURIS AU MONT D'OR 2</td>\n",
       "      <td>RUISSEAU LE THOUX A CURIS AU MONT D'OR</td>\n",
       "      <td>False</td>\n",
       "      <td>False</td>\n",
       "    </tr>\n",
       "    <tr>\n",
       "      <th>16175780</th>\n",
       "      <td>3250952</td>\n",
       "      <td>LE COURS D'EAU NUMÉRO 01 DE LA BÉLINIÈRE A CON...</td>\n",
       "      <td>LE COURS D'EAU NUMÃRO 01 DE LA BÃLINIÃRE A ...</td>\n",
       "      <td>LE COURS D'EAU NUMÉRO 01 DE LA BÉLINIÈRE A CON...</td>\n",
       "      <td>False</td>\n",
       "      <td>False</td>\n",
       "    </tr>\n",
       "    <tr>\n",
       "      <th>26440390</th>\n",
       "      <td>6009020</td>\n",
       "      <td>REAL MARTIN A PIGNANS</td>\n",
       "      <td>REAL MARTIN A PIGNANS 1</td>\n",
       "      <td>REAL MARTIN A PIGNANS</td>\n",
       "      <td>False</td>\n",
       "      <td>False</td>\n",
       "    </tr>\n",
       "  </tbody>\n",
       "</table>\n",
       "</div>"
      ],
      "text/plain": [
       "          station                      LbStationMesureEauxSurface_pc  \\\n",
       "142208    5197200                                   Le Majesq à Azur   \n",
       "470120    6083000                                BOURBRE A CHAVANOZ    \n",
       "491442    6800003      EYGUES A ST-MAURICE/EYGUES - LES CIVARDIERES    \n",
       "646346    6208900                             MOURACHONNE A PEGOMAS    \n",
       "758833    6073500                        LEYSSE A LE-BOURGET-DU-LAC    \n",
       "1965952   6135500                                     ARLY A FLUMET    \n",
       "1984209   6580640           BIEF D'ENFER A ST ETIENNE SUR REYSSOUZE    \n",
       "2027870   6139405                               BUGEON A LA-CHAMBRE    \n",
       "2601096   5068920  La Véronne en aval de Riom-ès-Montagnes (Amont...   \n",
       "6161254   6830030                                TORRENSON A ST-CYR    \n",
       "6283996   6580830                            DEISSE A GRESY-SUR-AIX    \n",
       "10114071  6080995                           AGNY A NIVOLAS-VERMELLE    \n",
       "13051297  6014250                          SANSFOND A SAULON-LA-RUE    \n",
       "15728974  6213230             RUISSEAU LE THOUX A CURIS AU MONT D'OR   \n",
       "16175780  3250952  LE COURS D'EAU NUMÉRO 01 DE LA BÉLINIÈRE A CON...   \n",
       "26440390  6009020                              REAL MARTIN A PIGNANS   \n",
       "\n",
       "                        LbStationMesureEauxSurface_hydrobio  \\\n",
       "142208                        Le ruisseau de Magescq à Azur   \n",
       "470120                                 BOURBRE A CHAVANOZ 1   \n",
       "491442                     EYGUES A ST-MAURICE-SUR-EYGUES 1   \n",
       "646346                              MOURACHONNE A PEGOMAS 1   \n",
       "758833                         LEYSSE A LE-BOURGET-DU-LAC 1   \n",
       "1965952                                     ARLY A FLUMET 1   \n",
       "1984209           BIEF D'ENFER A ST ETIENNE SUR REYSSOUZE 1   \n",
       "2027870                               BUGEON A LA-CHAMBRE 1   \n",
       "2601096   La VÃ©ronne en aval de Riom-Ã¨s-Montagnes (Amo...   \n",
       "6161254                                TORRENSON A THORRENC   \n",
       "6283996                            DEISSE A GRESY-SUR-AIX 1   \n",
       "10114071                          AGNY A NIVOLAS-VERMELLE 1   \n",
       "13051297                       CENT FONDS A SAULON-LA-RUE 1   \n",
       "15728974           RUISSEAU LE THOUX A CURIS AU MONT D'OR 2   \n",
       "16175780  LE COURS D'EAU NUMÃRO 01 DE LA BÃLINIÃRE A ...   \n",
       "26440390                            REAL MARTIN A PIGNANS 1   \n",
       "\n",
       "                                 LbStationMesureEauxSurface  \\\n",
       "142208                                     Le Majesq à Azur   \n",
       "470120                                   BOURBRE A CHAVANOZ   \n",
       "491442         EYGUES A ST-MAURICE/EYGUES - LES CIVARDIERES   \n",
       "646346                                MOURACHONNE A PEGOMAS   \n",
       "758833                           LEYSSE A LE-BOURGET-DU-LAC   \n",
       "1965952                                       ARLY A FLUMET   \n",
       "1984209             BIEF D'ENFER A ST ETIENNE SUR REYSSOUZE   \n",
       "2027870                                 BUGEON A LA-CHAMBRE   \n",
       "2601096   La Véronne en aval de Riom-ès-Montagnes (Amont...   \n",
       "6161254                                  TORRENSON A ST-CYR   \n",
       "6283996                              DEISSE A GRESY-SUR-AIX   \n",
       "10114071                            AGNY A NIVOLAS-VERMELLE   \n",
       "13051297                           SANSFOND A SAULON-LA-RUE   \n",
       "15728974             RUISSEAU LE THOUX A CURIS AU MONT D'OR   \n",
       "16175780  LE COURS D'EAU NUMÉRO 01 DE LA BÉLINIÈRE A CON...   \n",
       "26440390                              REAL MARTIN A PIGNANS   \n",
       "\n",
       "          labels_identiques  labels_identiques_pc_bio  \n",
       "142208                False                     False  \n",
       "470120                False                     False  \n",
       "491442                False                     False  \n",
       "646346                False                     False  \n",
       "758833                False                     False  \n",
       "1965952               False                     False  \n",
       "1984209               False                     False  \n",
       "2027870               False                     False  \n",
       "2601096               False                     False  \n",
       "6161254               False                     False  \n",
       "6283996               False                     False  \n",
       "10114071              False                     False  \n",
       "13051297              False                     False  \n",
       "15728974              False                     False  \n",
       "16175780              False                     False  \n",
       "26440390              False                     False  "
      ]
     },
     "execution_count": 32,
     "metadata": {},
     "output_type": "execute_result"
    }
   ],
   "source": [
    "# afficher les lignes où labels_identiques_pc_bio est faux\n",
    "unique_label_diff[~unique_label_diff['labels_identiques_pc_bio']]"
   ]
  },
  {
   "cell_type": "code",
   "execution_count": null,
   "metadata": {},
   "outputs": [],
   "source": [
    "# on dirait bien que pc et hydrobio sont identiques, juste pas exactement les memes caractères mais ont l'air de désigner la ême jour "
   ]
  },
  {
   "cell_type": "code",
   "execution_count": 33,
   "metadata": {},
   "outputs": [
    {
     "name": "stdout",
     "output_type": "stream",
     "text": [
      "True :  3\n"
     ]
    },
    {
     "name": "stderr",
     "output_type": "stream",
     "text": [
      "/var/folders/p1/4yqk4cyx3058m3j04rtkr56m0000gn/T/ipykernel_3532/4241520566.py:1: SettingWithCopyWarning: \n",
      "A value is trying to be set on a copy of a slice from a DataFrame.\n",
      "Try using .loc[row_indexer,col_indexer] = value instead\n",
      "\n",
      "See the caveats in the documentation: https://pandas.pydata.org/pandas-docs/stable/user_guide/indexing.html#returning-a-view-versus-a-copy\n",
      "  unique_label_diff['labels_identiques_station_pc'] = (\n"
     ]
    },
    {
     "data": {
      "text/html": [
       "<div>\n",
       "<style scoped>\n",
       "    .dataframe tbody tr th:only-of-type {\n",
       "        vertical-align: middle;\n",
       "    }\n",
       "\n",
       "    .dataframe tbody tr th {\n",
       "        vertical-align: top;\n",
       "    }\n",
       "\n",
       "    .dataframe thead th {\n",
       "        text-align: right;\n",
       "    }\n",
       "</style>\n",
       "<table border=\"1\" class=\"dataframe\">\n",
       "  <thead>\n",
       "    <tr style=\"text-align: right;\">\n",
       "      <th></th>\n",
       "      <th>station</th>\n",
       "      <th>LbStationMesureEauxSurface_pc</th>\n",
       "      <th>LbStationMesureEauxSurface_hydrobio</th>\n",
       "      <th>LbStationMesureEauxSurface</th>\n",
       "      <th>labels_identiques</th>\n",
       "      <th>labels_identiques_pc_bio</th>\n",
       "      <th>labels_identiques_station_pc</th>\n",
       "    </tr>\n",
       "  </thead>\n",
       "  <tbody>\n",
       "    <tr>\n",
       "      <th>6156</th>\n",
       "      <td>5010000</td>\n",
       "      <td>Le Pharaon à St-Pardon</td>\n",
       "      <td>Le Pharaon à St-Pardon</td>\n",
       "      <td>Le Pharon à St-Pardon</td>\n",
       "      <td>True</td>\n",
       "      <td>True</td>\n",
       "      <td>False</td>\n",
       "    </tr>\n",
       "    <tr>\n",
       "      <th>11396</th>\n",
       "      <td>5015100</td>\n",
       "      <td>Le Charreau à St-Michel</td>\n",
       "      <td>Le Charreau à St-Michel</td>\n",
       "      <td>Le Charraud à St-Michel</td>\n",
       "      <td>True</td>\n",
       "      <td>True</td>\n",
       "      <td>False</td>\n",
       "    </tr>\n",
       "    <tr>\n",
       "      <th>77052</th>\n",
       "      <td>5116100</td>\n",
       "      <td>La Séoune à Montjoi</td>\n",
       "      <td>La Séoune à Montjoi</td>\n",
       "      <td>La Séoune à Montjoie</td>\n",
       "      <td>True</td>\n",
       "      <td>True</td>\n",
       "      <td>False</td>\n",
       "    </tr>\n",
       "    <tr>\n",
       "      <th>142208</th>\n",
       "      <td>5197200</td>\n",
       "      <td>Le Majesq à Azur</td>\n",
       "      <td>Le ruisseau de Magescq à Azur</td>\n",
       "      <td>Le Majesq à Azur</td>\n",
       "      <td>False</td>\n",
       "      <td>False</td>\n",
       "      <td>True</td>\n",
       "    </tr>\n",
       "    <tr>\n",
       "      <th>469812</th>\n",
       "      <td>6076720</td>\n",
       "      <td>FURANS A LA-BURBANCHE</td>\n",
       "      <td>FURANS A LA-BURBANCHE</td>\n",
       "      <td>FURANS A LA-BURBANCHE</td>\n",
       "      <td>True</td>\n",
       "      <td>True</td>\n",
       "      <td>False</td>\n",
       "    </tr>\n",
       "    <tr>\n",
       "      <th>...</th>\n",
       "      <td>...</td>\n",
       "      <td>...</td>\n",
       "      <td>...</td>\n",
       "      <td>...</td>\n",
       "      <td>...</td>\n",
       "      <td>...</td>\n",
       "      <td>...</td>\n",
       "    </tr>\n",
       "    <tr>\n",
       "      <th>27241017</th>\n",
       "      <td>3036064</td>\n",
       "      <td>LE RU DES PRÉS DU BOIS A PONTIGNY 1</td>\n",
       "      <td>LE RU DES PRÉS DU BOIS A PONTIGNY 1</td>\n",
       "      <td>LE RU DES PRÉS DU BOIS A PONTIGNY 1</td>\n",
       "      <td>True</td>\n",
       "      <td>True</td>\n",
       "      <td>False</td>\n",
       "    </tr>\n",
       "    <tr>\n",
       "      <th>31000962</th>\n",
       "      <td>3008459</td>\n",
       "      <td>LA BODERONNE A POLIGNY 1</td>\n",
       "      <td>LA BODERONNE A POLIGNY 1</td>\n",
       "      <td>LA BODERONNE A POLIGNY 1</td>\n",
       "      <td>True</td>\n",
       "      <td>True</td>\n",
       "      <td>False</td>\n",
       "    </tr>\n",
       "    <tr>\n",
       "      <th>39821273</th>\n",
       "      <td>6820102</td>\n",
       "      <td>EAU D'OLLE A LE-BOURG-D'OISANS</td>\n",
       "      <td>EAU D'OLLE A LE-BOURG-D'OISANS</td>\n",
       "      <td>EAU D'OLLE A LE-BOURG-D'OISANS</td>\n",
       "      <td>True</td>\n",
       "      <td>True</td>\n",
       "      <td>False</td>\n",
       "    </tr>\n",
       "    <tr>\n",
       "      <th>41572067</th>\n",
       "      <td>6453450</td>\n",
       "      <td>BARBECHE A VILLARS-SOUS-DAMPJOUX</td>\n",
       "      <td>BARBECHE A VILLARS-SOUS-DAMPJOUX</td>\n",
       "      <td>BARBECHE A VILLARS-SOUS-DAMPJOUX</td>\n",
       "      <td>True</td>\n",
       "      <td>True</td>\n",
       "      <td>False</td>\n",
       "    </tr>\n",
       "    <tr>\n",
       "      <th>42355097</th>\n",
       "      <td>6446330</td>\n",
       "      <td>BLUSSANS A BLUSSANS 1</td>\n",
       "      <td>BLUSSANS A BLUSSANS 1</td>\n",
       "      <td>RUISSEAU DE BLUSSANS A BLUSSANS</td>\n",
       "      <td>True</td>\n",
       "      <td>True</td>\n",
       "      <td>False</td>\n",
       "    </tr>\n",
       "  </tbody>\n",
       "</table>\n",
       "<p>868 rows × 7 columns</p>\n",
       "</div>"
      ],
      "text/plain": [
       "          station         LbStationMesureEauxSurface_pc  \\\n",
       "6156      5010000                Le Pharaon à St-Pardon   \n",
       "11396     5015100               Le Charreau à St-Michel   \n",
       "77052     5116100                   La Séoune à Montjoi   \n",
       "142208    5197200                      Le Majesq à Azur   \n",
       "469812    6076720                FURANS A LA-BURBANCHE    \n",
       "...           ...                                   ...   \n",
       "27241017  3036064  LE RU DES PRÉS DU BOIS A PONTIGNY 1    \n",
       "31000962  3008459             LA BODERONNE A POLIGNY 1    \n",
       "39821273  6820102       EAU D'OLLE A LE-BOURG-D'OISANS    \n",
       "41572067  6453450     BARBECHE A VILLARS-SOUS-DAMPJOUX    \n",
       "42355097  6446330                 BLUSSANS A BLUSSANS 1   \n",
       "\n",
       "           LbStationMesureEauxSurface_hydrobio  \\\n",
       "6156                    Le Pharaon à St-Pardon   \n",
       "11396                  Le Charreau à St-Michel   \n",
       "77052                      La Séoune à Montjoi   \n",
       "142208           Le ruisseau de Magescq à Azur   \n",
       "469812                  FURANS A LA-BURBANCHE    \n",
       "...                                        ...   \n",
       "27241017  LE RU DES PRÉS DU BOIS A PONTIGNY 1    \n",
       "31000962             LA BODERONNE A POLIGNY 1    \n",
       "39821273       EAU D'OLLE A LE-BOURG-D'OISANS    \n",
       "41572067     BARBECHE A VILLARS-SOUS-DAMPJOUX    \n",
       "42355097                 BLUSSANS A BLUSSANS 1   \n",
       "\n",
       "                   LbStationMesureEauxSurface  labels_identiques  \\\n",
       "6156                    Le Pharon à St-Pardon               True   \n",
       "11396                 Le Charraud à St-Michel               True   \n",
       "77052                    La Séoune à Montjoie               True   \n",
       "142208                       Le Majesq à Azur              False   \n",
       "469812                  FURANS A LA-BURBANCHE               True   \n",
       "...                                       ...                ...   \n",
       "27241017  LE RU DES PRÉS DU BOIS A PONTIGNY 1               True   \n",
       "31000962             LA BODERONNE A POLIGNY 1               True   \n",
       "39821273       EAU D'OLLE A LE-BOURG-D'OISANS               True   \n",
       "41572067     BARBECHE A VILLARS-SOUS-DAMPJOUX               True   \n",
       "42355097      RUISSEAU DE BLUSSANS A BLUSSANS               True   \n",
       "\n",
       "          labels_identiques_pc_bio  labels_identiques_station_pc  \n",
       "6156                          True                         False  \n",
       "11396                         True                         False  \n",
       "77052                         True                         False  \n",
       "142208                       False                          True  \n",
       "469812                        True                         False  \n",
       "...                            ...                           ...  \n",
       "27241017                      True                         False  \n",
       "31000962                      True                         False  \n",
       "39821273                      True                         False  \n",
       "41572067                      True                         False  \n",
       "42355097                      True                         False  \n",
       "\n",
       "[868 rows x 7 columns]"
      ]
     },
     "execution_count": 33,
     "metadata": {},
     "output_type": "execute_result"
    }
   ],
   "source": [
    "unique_label_diff['labels_identiques_station_pc'] = (\n",
    "    (unique_label_diff['LbStationMesureEauxSurface_pc'] == unique_label_diff['LbStationMesureEauxSurface'])\n",
    ")\n",
    "\n",
    "print(\"True : \", unique_label_diff['labels_identiques_station_pc'].sum())\n",
    "unique_label_diff"
   ]
  },
  {
   "cell_type": "code",
   "execution_count": 34,
   "metadata": {},
   "outputs": [
    {
     "name": "stdout",
     "output_type": "stream",
     "text": [
      "True :  0\n"
     ]
    },
    {
     "name": "stderr",
     "output_type": "stream",
     "text": [
      "/var/folders/p1/4yqk4cyx3058m3j04rtkr56m0000gn/T/ipykernel_3532/2233408741.py:1: SettingWithCopyWarning: \n",
      "A value is trying to be set on a copy of a slice from a DataFrame.\n",
      "Try using .loc[row_indexer,col_indexer] = value instead\n",
      "\n",
      "See the caveats in the documentation: https://pandas.pydata.org/pandas-docs/stable/user_guide/indexing.html#returning-a-view-versus-a-copy\n",
      "  unique_label_diff['labels_identiques_station_bio'] = (\n"
     ]
    },
    {
     "data": {
      "text/html": [
       "<div>\n",
       "<style scoped>\n",
       "    .dataframe tbody tr th:only-of-type {\n",
       "        vertical-align: middle;\n",
       "    }\n",
       "\n",
       "    .dataframe tbody tr th {\n",
       "        vertical-align: top;\n",
       "    }\n",
       "\n",
       "    .dataframe thead th {\n",
       "        text-align: right;\n",
       "    }\n",
       "</style>\n",
       "<table border=\"1\" class=\"dataframe\">\n",
       "  <thead>\n",
       "    <tr style=\"text-align: right;\">\n",
       "      <th></th>\n",
       "      <th>station</th>\n",
       "      <th>LbStationMesureEauxSurface_pc</th>\n",
       "      <th>LbStationMesureEauxSurface_hydrobio</th>\n",
       "      <th>LbStationMesureEauxSurface</th>\n",
       "      <th>labels_identiques</th>\n",
       "      <th>labels_identiques_pc_bio</th>\n",
       "      <th>labels_identiques_station_pc</th>\n",
       "      <th>labels_identiques_station_bio</th>\n",
       "    </tr>\n",
       "  </thead>\n",
       "  <tbody>\n",
       "    <tr>\n",
       "      <th>6156</th>\n",
       "      <td>5010000</td>\n",
       "      <td>Le Pharaon à St-Pardon</td>\n",
       "      <td>Le Pharaon à St-Pardon</td>\n",
       "      <td>Le Pharon à St-Pardon</td>\n",
       "      <td>True</td>\n",
       "      <td>True</td>\n",
       "      <td>False</td>\n",
       "      <td>False</td>\n",
       "    </tr>\n",
       "    <tr>\n",
       "      <th>11396</th>\n",
       "      <td>5015100</td>\n",
       "      <td>Le Charreau à St-Michel</td>\n",
       "      <td>Le Charreau à St-Michel</td>\n",
       "      <td>Le Charraud à St-Michel</td>\n",
       "      <td>True</td>\n",
       "      <td>True</td>\n",
       "      <td>False</td>\n",
       "      <td>False</td>\n",
       "    </tr>\n",
       "    <tr>\n",
       "      <th>77052</th>\n",
       "      <td>5116100</td>\n",
       "      <td>La Séoune à Montjoi</td>\n",
       "      <td>La Séoune à Montjoi</td>\n",
       "      <td>La Séoune à Montjoie</td>\n",
       "      <td>True</td>\n",
       "      <td>True</td>\n",
       "      <td>False</td>\n",
       "      <td>False</td>\n",
       "    </tr>\n",
       "    <tr>\n",
       "      <th>142208</th>\n",
       "      <td>5197200</td>\n",
       "      <td>Le Majesq à Azur</td>\n",
       "      <td>Le ruisseau de Magescq à Azur</td>\n",
       "      <td>Le Majesq à Azur</td>\n",
       "      <td>False</td>\n",
       "      <td>False</td>\n",
       "      <td>True</td>\n",
       "      <td>False</td>\n",
       "    </tr>\n",
       "    <tr>\n",
       "      <th>469812</th>\n",
       "      <td>6076720</td>\n",
       "      <td>FURANS A LA-BURBANCHE</td>\n",
       "      <td>FURANS A LA-BURBANCHE</td>\n",
       "      <td>FURANS A LA-BURBANCHE</td>\n",
       "      <td>True</td>\n",
       "      <td>True</td>\n",
       "      <td>False</td>\n",
       "      <td>False</td>\n",
       "    </tr>\n",
       "    <tr>\n",
       "      <th>...</th>\n",
       "      <td>...</td>\n",
       "      <td>...</td>\n",
       "      <td>...</td>\n",
       "      <td>...</td>\n",
       "      <td>...</td>\n",
       "      <td>...</td>\n",
       "      <td>...</td>\n",
       "      <td>...</td>\n",
       "    </tr>\n",
       "    <tr>\n",
       "      <th>27241017</th>\n",
       "      <td>3036064</td>\n",
       "      <td>LE RU DES PRÉS DU BOIS A PONTIGNY 1</td>\n",
       "      <td>LE RU DES PRÉS DU BOIS A PONTIGNY 1</td>\n",
       "      <td>LE RU DES PRÉS DU BOIS A PONTIGNY 1</td>\n",
       "      <td>True</td>\n",
       "      <td>True</td>\n",
       "      <td>False</td>\n",
       "      <td>False</td>\n",
       "    </tr>\n",
       "    <tr>\n",
       "      <th>31000962</th>\n",
       "      <td>3008459</td>\n",
       "      <td>LA BODERONNE A POLIGNY 1</td>\n",
       "      <td>LA BODERONNE A POLIGNY 1</td>\n",
       "      <td>LA BODERONNE A POLIGNY 1</td>\n",
       "      <td>True</td>\n",
       "      <td>True</td>\n",
       "      <td>False</td>\n",
       "      <td>False</td>\n",
       "    </tr>\n",
       "    <tr>\n",
       "      <th>39821273</th>\n",
       "      <td>6820102</td>\n",
       "      <td>EAU D'OLLE A LE-BOURG-D'OISANS</td>\n",
       "      <td>EAU D'OLLE A LE-BOURG-D'OISANS</td>\n",
       "      <td>EAU D'OLLE A LE-BOURG-D'OISANS</td>\n",
       "      <td>True</td>\n",
       "      <td>True</td>\n",
       "      <td>False</td>\n",
       "      <td>False</td>\n",
       "    </tr>\n",
       "    <tr>\n",
       "      <th>41572067</th>\n",
       "      <td>6453450</td>\n",
       "      <td>BARBECHE A VILLARS-SOUS-DAMPJOUX</td>\n",
       "      <td>BARBECHE A VILLARS-SOUS-DAMPJOUX</td>\n",
       "      <td>BARBECHE A VILLARS-SOUS-DAMPJOUX</td>\n",
       "      <td>True</td>\n",
       "      <td>True</td>\n",
       "      <td>False</td>\n",
       "      <td>False</td>\n",
       "    </tr>\n",
       "    <tr>\n",
       "      <th>42355097</th>\n",
       "      <td>6446330</td>\n",
       "      <td>BLUSSANS A BLUSSANS 1</td>\n",
       "      <td>BLUSSANS A BLUSSANS 1</td>\n",
       "      <td>RUISSEAU DE BLUSSANS A BLUSSANS</td>\n",
       "      <td>True</td>\n",
       "      <td>True</td>\n",
       "      <td>False</td>\n",
       "      <td>False</td>\n",
       "    </tr>\n",
       "  </tbody>\n",
       "</table>\n",
       "<p>868 rows × 8 columns</p>\n",
       "</div>"
      ],
      "text/plain": [
       "          station         LbStationMesureEauxSurface_pc  \\\n",
       "6156      5010000                Le Pharaon à St-Pardon   \n",
       "11396     5015100               Le Charreau à St-Michel   \n",
       "77052     5116100                   La Séoune à Montjoi   \n",
       "142208    5197200                      Le Majesq à Azur   \n",
       "469812    6076720                FURANS A LA-BURBANCHE    \n",
       "...           ...                                   ...   \n",
       "27241017  3036064  LE RU DES PRÉS DU BOIS A PONTIGNY 1    \n",
       "31000962  3008459             LA BODERONNE A POLIGNY 1    \n",
       "39821273  6820102       EAU D'OLLE A LE-BOURG-D'OISANS    \n",
       "41572067  6453450     BARBECHE A VILLARS-SOUS-DAMPJOUX    \n",
       "42355097  6446330                 BLUSSANS A BLUSSANS 1   \n",
       "\n",
       "           LbStationMesureEauxSurface_hydrobio  \\\n",
       "6156                    Le Pharaon à St-Pardon   \n",
       "11396                  Le Charreau à St-Michel   \n",
       "77052                      La Séoune à Montjoi   \n",
       "142208           Le ruisseau de Magescq à Azur   \n",
       "469812                  FURANS A LA-BURBANCHE    \n",
       "...                                        ...   \n",
       "27241017  LE RU DES PRÉS DU BOIS A PONTIGNY 1    \n",
       "31000962             LA BODERONNE A POLIGNY 1    \n",
       "39821273       EAU D'OLLE A LE-BOURG-D'OISANS    \n",
       "41572067     BARBECHE A VILLARS-SOUS-DAMPJOUX    \n",
       "42355097                 BLUSSANS A BLUSSANS 1   \n",
       "\n",
       "                   LbStationMesureEauxSurface  labels_identiques  \\\n",
       "6156                    Le Pharon à St-Pardon               True   \n",
       "11396                 Le Charraud à St-Michel               True   \n",
       "77052                    La Séoune à Montjoie               True   \n",
       "142208                       Le Majesq à Azur              False   \n",
       "469812                  FURANS A LA-BURBANCHE               True   \n",
       "...                                       ...                ...   \n",
       "27241017  LE RU DES PRÉS DU BOIS A PONTIGNY 1               True   \n",
       "31000962             LA BODERONNE A POLIGNY 1               True   \n",
       "39821273       EAU D'OLLE A LE-BOURG-D'OISANS               True   \n",
       "41572067     BARBECHE A VILLARS-SOUS-DAMPJOUX               True   \n",
       "42355097      RUISSEAU DE BLUSSANS A BLUSSANS               True   \n",
       "\n",
       "          labels_identiques_pc_bio  labels_identiques_station_pc  \\\n",
       "6156                          True                         False   \n",
       "11396                         True                         False   \n",
       "77052                         True                         False   \n",
       "142208                       False                          True   \n",
       "469812                        True                         False   \n",
       "...                            ...                           ...   \n",
       "27241017                      True                         False   \n",
       "31000962                      True                         False   \n",
       "39821273                      True                         False   \n",
       "41572067                      True                         False   \n",
       "42355097                      True                         False   \n",
       "\n",
       "          labels_identiques_station_bio  \n",
       "6156                              False  \n",
       "11396                             False  \n",
       "77052                             False  \n",
       "142208                            False  \n",
       "469812                            False  \n",
       "...                                 ...  \n",
       "27241017                          False  \n",
       "31000962                          False  \n",
       "39821273                          False  \n",
       "41572067                          False  \n",
       "42355097                          False  \n",
       "\n",
       "[868 rows x 8 columns]"
      ]
     },
     "execution_count": 34,
     "metadata": {},
     "output_type": "execute_result"
    }
   ],
   "source": [
    "unique_label_diff['labels_identiques_station_bio'] = (\n",
    "    (unique_label_diff['LbStationMesureEauxSurface_hydrobio'] == unique_label_diff['LbStationMesureEauxSurface'])\n",
    ")\n",
    "\n",
    "print(\"True : \", unique_label_diff['labels_identiques_station_bio'].sum())\n",
    "unique_label_diff"
   ]
  },
  {
   "cell_type": "code",
   "execution_count": null,
   "metadata": {},
   "outputs": [],
   "source": []
  },
  {
   "cell_type": "code",
   "execution_count": null,
   "metadata": {},
   "outputs": [],
   "source": []
  },
  {
   "cell_type": "code",
   "execution_count": 10,
   "metadata": {},
   "outputs": [
    {
     "name": "stdout",
     "output_type": "stream",
     "text": [
      "Stations dans df_stations\n",
      "['01000477' '01000602' '01000605' ... 'Y9205023' 'Y9715083' 'Y9905043']\n",
      "Stations dans df_pc\n",
      "['05005600', '05200115', '05001800', '05004000', '05005000', ..., '06001219', '03137810', '03271785', '03113000', '06148115']\n",
      "Length: 8810\n",
      "Categories (8810, object): ['05001800', '05004000', '05005000', '05005350', ..., '06001219', '03271785', '03113000', '06148115']\n",
      "Stations dans df_hydrobio\n",
      "[2000990 2001000 2001025 ... 6580040 6710037 6820126]\n"
     ]
    }
   ],
   "source": [
    "# afficher un échantillon des station pour chaque dataset\n",
    "print(\"Stations dans df_stations\")\n",
    "print(df_stations['station'].unique())\n",
    "\n",
    "print(\"Stations dans df_pc\")\n",
    "print(df_pc['station'].unique())\n",
    "\n",
    "print(\"Stations dans df_hydrobio\")\n",
    "print(df_hydrobio['station'].unique())"
   ]
  },
  {
   "cell_type": "code",
   "execution_count": 251,
   "metadata": {},
   "outputs": [],
   "source": [
    "df_stations['station'] = df_stations['station'].astype(str)\n",
    "df_pivoted['station'] = df_pivoted['station'].astype(str)\n",
    "df_hydrobio['station'] = df_hydrobio['station'].astype(str)"
   ]
  },
  {
   "cell_type": "code",
   "execution_count": 252,
   "metadata": {},
   "outputs": [],
   "source": [
    "# Supprimer toutes les lettres et garder uniquement les chiffres\n",
    "df_stations['station'] = df_stations['station'].str.replace(r'\\D', '', regex=True)\n",
    "df_pivoted['station'] = df_pivoted['station'].str.replace(r'\\D', '', regex=True)\n",
    "df_hydrobio['station'] = df_hydrobio['station'].str.replace(r'\\D', '', regex=True)"
   ]
  },
  {
   "cell_type": "code",
   "execution_count": 253,
   "metadata": {},
   "outputs": [],
   "source": [
    "df_stations['station'] = df_stations['station'].astype(int)\n",
    "df_pivoted['station'] = df_pivoted['station'].astype(int)\n",
    "df_hydrobio['station'] = df_hydrobio['station'].astype(int)"
   ]
  },
  {
   "cell_type": "code",
   "execution_count": 249,
   "metadata": {},
   "outputs": [
    {
     "name": "stdout",
     "output_type": "stream",
     "text": [
      "0    01000477\n",
      "1    01000602\n",
      "2    01000605\n",
      "Name: station, dtype: object\n",
      "0    05001800\n",
      "1    05001800\n",
      "2    05001800\n",
      "Name: station, dtype: object\n",
      "8857     1000274\n",
      "16877    1000274\n",
      "16878    1000274\n",
      "Name: station, dtype: object\n"
     ]
    }
   ],
   "source": [
    "print(df_stations['station'].head(3))\n",
    "print(df_pivoted['station'].head(3))\n",
    "print(df_hydrobio['station'].head(3))"
   ]
  },
  {
   "cell_type": "code",
   "execution_count": 254,
   "metadata": {},
   "outputs": [
    {
     "data": {
      "text/plain": [
       "(1328971, 94)"
      ]
     },
     "execution_count": 254,
     "metadata": {},
     "output_type": "execute_result"
    }
   ],
   "source": [
    "df_combined = pd.merge(df_stations, df_pivoted, on='station', how='inner')\n",
    "df_combined = pd.merge(df_combined, df_hydrobio, on='station', how='inner')\n",
    "df_combined.shape"
   ]
  },
  {
   "cell_type": "code",
   "execution_count": 255,
   "metadata": {},
   "outputs": [
    {
     "data": {
      "text/html": [
       "<div>\n",
       "<style scoped>\n",
       "    .dataframe tbody tr th:only-of-type {\n",
       "        vertical-align: middle;\n",
       "    }\n",
       "\n",
       "    .dataframe tbody tr th {\n",
       "        vertical-align: top;\n",
       "    }\n",
       "\n",
       "    .dataframe thead th {\n",
       "        text-align: right;\n",
       "    }\n",
       "</style>\n",
       "<table border=\"1\" class=\"dataframe\">\n",
       "  <thead>\n",
       "    <tr style=\"text-align: right;\">\n",
       "      <th></th>\n",
       "      <th>station</th>\n",
       "      <th>année</th>\n",
       "      <th>saison</th>\n",
       "      <th>Ammonium - Air</th>\n",
       "      <th>Ammonium - Eau</th>\n",
       "      <th>Azote Kjeldahl - Air</th>\n",
       "      <th>Azote Kjeldahl - Eau</th>\n",
       "      <th>Carbone Organique - Eau</th>\n",
       "      <th>Conductivité à 25°C - Air</th>\n",
       "      <th>Conductivité à 25°C - Eau</th>\n",
       "      <th>...</th>\n",
       "      <th>Phosphore total - Air</th>\n",
       "      <th>Phosphore total - Eau</th>\n",
       "      <th>Potentiel en Hydrogène (pH) - Air</th>\n",
       "      <th>Potentiel en Hydrogène (pH) - Eau</th>\n",
       "      <th>Taux de saturation en oxygène - Air</th>\n",
       "      <th>Taux de saturation en oxygène - Eau</th>\n",
       "      <th>Température de l'Eau - Air</th>\n",
       "      <th>Température de l'Eau - Eau</th>\n",
       "      <th>Turbidité Formazine Néphélométrique - Eau</th>\n",
       "      <th>I2M2</th>\n",
       "    </tr>\n",
       "  </thead>\n",
       "  <tbody>\n",
       "    <tr>\n",
       "      <th>0</th>\n",
       "      <td>5001800</td>\n",
       "      <td>2007</td>\n",
       "      <td>Été</td>\n",
       "      <td>NaN</td>\n",
       "      <td>0.0400</td>\n",
       "      <td>NaN</td>\n",
       "      <td>1.00</td>\n",
       "      <td>3.50</td>\n",
       "      <td>NaN</td>\n",
       "      <td>765.0</td>\n",
       "      <td>...</td>\n",
       "      <td>NaN</td>\n",
       "      <td>0.0500</td>\n",
       "      <td>NaN</td>\n",
       "      <td>7.9</td>\n",
       "      <td>NaN</td>\n",
       "      <td>89.0</td>\n",
       "      <td>NaN</td>\n",
       "      <td>18.60</td>\n",
       "      <td>NaN</td>\n",
       "      <td>0.3004</td>\n",
       "    </tr>\n",
       "    <tr>\n",
       "      <th>1</th>\n",
       "      <td>5001800</td>\n",
       "      <td>2008</td>\n",
       "      <td>Été</td>\n",
       "      <td>NaN</td>\n",
       "      <td>0.0400</td>\n",
       "      <td>NaN</td>\n",
       "      <td>1.00</td>\n",
       "      <td>2.70</td>\n",
       "      <td>NaN</td>\n",
       "      <td>765.0</td>\n",
       "      <td>...</td>\n",
       "      <td>NaN</td>\n",
       "      <td>0.1100</td>\n",
       "      <td>NaN</td>\n",
       "      <td>7.9</td>\n",
       "      <td>NaN</td>\n",
       "      <td>90.0</td>\n",
       "      <td>NaN</td>\n",
       "      <td>20.50</td>\n",
       "      <td>NaN</td>\n",
       "      <td>0.3848</td>\n",
       "    </tr>\n",
       "    <tr>\n",
       "      <th>2</th>\n",
       "      <td>5001800</td>\n",
       "      <td>2009</td>\n",
       "      <td>Été</td>\n",
       "      <td>NaN</td>\n",
       "      <td>0.0200</td>\n",
       "      <td>NaN</td>\n",
       "      <td>1.00</td>\n",
       "      <td>2.20</td>\n",
       "      <td>NaN</td>\n",
       "      <td>736.0</td>\n",
       "      <td>...</td>\n",
       "      <td>NaN</td>\n",
       "      <td>0.0700</td>\n",
       "      <td>NaN</td>\n",
       "      <td>8.0</td>\n",
       "      <td>NaN</td>\n",
       "      <td>83.0</td>\n",
       "      <td>NaN</td>\n",
       "      <td>20.60</td>\n",
       "      <td>NaN</td>\n",
       "      <td>0.5756</td>\n",
       "    </tr>\n",
       "    <tr>\n",
       "      <th>3</th>\n",
       "      <td>5004000</td>\n",
       "      <td>2007</td>\n",
       "      <td>Été</td>\n",
       "      <td>NaN</td>\n",
       "      <td>0.0400</td>\n",
       "      <td>NaN</td>\n",
       "      <td>1.00</td>\n",
       "      <td>2.80</td>\n",
       "      <td>NaN</td>\n",
       "      <td>683.0</td>\n",
       "      <td>...</td>\n",
       "      <td>NaN</td>\n",
       "      <td>0.0600</td>\n",
       "      <td>NaN</td>\n",
       "      <td>7.7</td>\n",
       "      <td>NaN</td>\n",
       "      <td>77.0</td>\n",
       "      <td>NaN</td>\n",
       "      <td>17.80</td>\n",
       "      <td>NaN</td>\n",
       "      <td>0.3992</td>\n",
       "    </tr>\n",
       "    <tr>\n",
       "      <th>4</th>\n",
       "      <td>5004000</td>\n",
       "      <td>2008</td>\n",
       "      <td>Été</td>\n",
       "      <td>NaN</td>\n",
       "      <td>0.0300</td>\n",
       "      <td>NaN</td>\n",
       "      <td>1.00</td>\n",
       "      <td>2.10</td>\n",
       "      <td>NaN</td>\n",
       "      <td>689.0</td>\n",
       "      <td>...</td>\n",
       "      <td>NaN</td>\n",
       "      <td>0.0900</td>\n",
       "      <td>NaN</td>\n",
       "      <td>7.6</td>\n",
       "      <td>NaN</td>\n",
       "      <td>63.0</td>\n",
       "      <td>NaN</td>\n",
       "      <td>17.30</td>\n",
       "      <td>NaN</td>\n",
       "      <td>0.3383</td>\n",
       "    </tr>\n",
       "    <tr>\n",
       "      <th>...</th>\n",
       "      <td>...</td>\n",
       "      <td>...</td>\n",
       "      <td>...</td>\n",
       "      <td>...</td>\n",
       "      <td>...</td>\n",
       "      <td>...</td>\n",
       "      <td>...</td>\n",
       "      <td>...</td>\n",
       "      <td>...</td>\n",
       "      <td>...</td>\n",
       "      <td>...</td>\n",
       "      <td>...</td>\n",
       "      <td>...</td>\n",
       "      <td>...</td>\n",
       "      <td>...</td>\n",
       "      <td>...</td>\n",
       "      <td>...</td>\n",
       "      <td>...</td>\n",
       "      <td>...</td>\n",
       "      <td>...</td>\n",
       "      <td>...</td>\n",
       "    </tr>\n",
       "    <tr>\n",
       "      <th>37973</th>\n",
       "      <td>3112740</td>\n",
       "      <td>2022</td>\n",
       "      <td>Été</td>\n",
       "      <td>NaN</td>\n",
       "      <td>0.0200</td>\n",
       "      <td>NaN</td>\n",
       "      <td>0.50</td>\n",
       "      <td>0.67</td>\n",
       "      <td>NaN</td>\n",
       "      <td>611.0</td>\n",
       "      <td>...</td>\n",
       "      <td>NaN</td>\n",
       "      <td>0.0310</td>\n",
       "      <td>NaN</td>\n",
       "      <td>8.1</td>\n",
       "      <td>NaN</td>\n",
       "      <td>103.4</td>\n",
       "      <td>NaN</td>\n",
       "      <td>12.60</td>\n",
       "      <td>1.50</td>\n",
       "      <td>0.4742</td>\n",
       "    </tr>\n",
       "    <tr>\n",
       "      <th>37974</th>\n",
       "      <td>6001219</td>\n",
       "      <td>2022</td>\n",
       "      <td>Printemps</td>\n",
       "      <td>NaN</td>\n",
       "      <td>0.0200</td>\n",
       "      <td>NaN</td>\n",
       "      <td>0.50</td>\n",
       "      <td>2.15</td>\n",
       "      <td>NaN</td>\n",
       "      <td>340.0</td>\n",
       "      <td>...</td>\n",
       "      <td>NaN</td>\n",
       "      <td>0.0385</td>\n",
       "      <td>NaN</td>\n",
       "      <td>7.8</td>\n",
       "      <td>NaN</td>\n",
       "      <td>115.5</td>\n",
       "      <td>NaN</td>\n",
       "      <td>13.95</td>\n",
       "      <td>2.65</td>\n",
       "      <td>0.5820</td>\n",
       "    </tr>\n",
       "    <tr>\n",
       "      <th>37975</th>\n",
       "      <td>3271785</td>\n",
       "      <td>2022</td>\n",
       "      <td>Été</td>\n",
       "      <td>NaN</td>\n",
       "      <td>0.0400</td>\n",
       "      <td>NaN</td>\n",
       "      <td>0.94</td>\n",
       "      <td>2.50</td>\n",
       "      <td>NaN</td>\n",
       "      <td>201.0</td>\n",
       "      <td>...</td>\n",
       "      <td>NaN</td>\n",
       "      <td>0.1830</td>\n",
       "      <td>NaN</td>\n",
       "      <td>7.6</td>\n",
       "      <td>NaN</td>\n",
       "      <td>98.3</td>\n",
       "      <td>NaN</td>\n",
       "      <td>14.50</td>\n",
       "      <td>27.00</td>\n",
       "      <td>0.6323</td>\n",
       "    </tr>\n",
       "    <tr>\n",
       "      <th>37976</th>\n",
       "      <td>3113000</td>\n",
       "      <td>2022</td>\n",
       "      <td>Été</td>\n",
       "      <td>NaN</td>\n",
       "      <td>0.0300</td>\n",
       "      <td>NaN</td>\n",
       "      <td>0.50</td>\n",
       "      <td>1.00</td>\n",
       "      <td>NaN</td>\n",
       "      <td>593.0</td>\n",
       "      <td>...</td>\n",
       "      <td>NaN</td>\n",
       "      <td>0.0390</td>\n",
       "      <td>NaN</td>\n",
       "      <td>8.3</td>\n",
       "      <td>NaN</td>\n",
       "      <td>92.4</td>\n",
       "      <td>NaN</td>\n",
       "      <td>17.70</td>\n",
       "      <td>4.20</td>\n",
       "      <td>0.6507</td>\n",
       "    </tr>\n",
       "    <tr>\n",
       "      <th>37977</th>\n",
       "      <td>6148115</td>\n",
       "      <td>2022</td>\n",
       "      <td>Été</td>\n",
       "      <td>NaN</td>\n",
       "      <td>0.0129</td>\n",
       "      <td>NaN</td>\n",
       "      <td>2.36</td>\n",
       "      <td>1.00</td>\n",
       "      <td>NaN</td>\n",
       "      <td>592.0</td>\n",
       "      <td>...</td>\n",
       "      <td>NaN</td>\n",
       "      <td>0.2420</td>\n",
       "      <td>NaN</td>\n",
       "      <td>8.5</td>\n",
       "      <td>NaN</td>\n",
       "      <td>90.0</td>\n",
       "      <td>NaN</td>\n",
       "      <td>18.90</td>\n",
       "      <td>NaN</td>\n",
       "      <td>0.4590</td>\n",
       "    </tr>\n",
       "  </tbody>\n",
       "</table>\n",
       "<p>37978 rows × 34 columns</p>\n",
       "</div>"
      ],
      "text/plain": [
       "       station  année     saison  Ammonium - Air  Ammonium - Eau  \\\n",
       "0      5001800   2007        Été             NaN          0.0400   \n",
       "1      5001800   2008        Été             NaN          0.0400   \n",
       "2      5001800   2009        Été             NaN          0.0200   \n",
       "3      5004000   2007        Été             NaN          0.0400   \n",
       "4      5004000   2008        Été             NaN          0.0300   \n",
       "...        ...    ...        ...             ...             ...   \n",
       "37973  3112740   2022        Été             NaN          0.0200   \n",
       "37974  6001219   2022  Printemps             NaN          0.0200   \n",
       "37975  3271785   2022        Été             NaN          0.0400   \n",
       "37976  3113000   2022        Été             NaN          0.0300   \n",
       "37977  6148115   2022        Été             NaN          0.0129   \n",
       "\n",
       "       Azote Kjeldahl - Air  Azote Kjeldahl - Eau  Carbone Organique - Eau  \\\n",
       "0                       NaN                  1.00                     3.50   \n",
       "1                       NaN                  1.00                     2.70   \n",
       "2                       NaN                  1.00                     2.20   \n",
       "3                       NaN                  1.00                     2.80   \n",
       "4                       NaN                  1.00                     2.10   \n",
       "...                     ...                   ...                      ...   \n",
       "37973                   NaN                  0.50                     0.67   \n",
       "37974                   NaN                  0.50                     2.15   \n",
       "37975                   NaN                  0.94                     2.50   \n",
       "37976                   NaN                  0.50                     1.00   \n",
       "37977                   NaN                  2.36                     1.00   \n",
       "\n",
       "       Conductivité à 25°C - Air  Conductivité à 25°C - Eau  ...  \\\n",
       "0                            NaN                      765.0  ...   \n",
       "1                            NaN                      765.0  ...   \n",
       "2                            NaN                      736.0  ...   \n",
       "3                            NaN                      683.0  ...   \n",
       "4                            NaN                      689.0  ...   \n",
       "...                          ...                        ...  ...   \n",
       "37973                        NaN                      611.0  ...   \n",
       "37974                        NaN                      340.0  ...   \n",
       "37975                        NaN                      201.0  ...   \n",
       "37976                        NaN                      593.0  ...   \n",
       "37977                        NaN                      592.0  ...   \n",
       "\n",
       "       Phosphore total - Air  Phosphore total - Eau  \\\n",
       "0                        NaN                 0.0500   \n",
       "1                        NaN                 0.1100   \n",
       "2                        NaN                 0.0700   \n",
       "3                        NaN                 0.0600   \n",
       "4                        NaN                 0.0900   \n",
       "...                      ...                    ...   \n",
       "37973                    NaN                 0.0310   \n",
       "37974                    NaN                 0.0385   \n",
       "37975                    NaN                 0.1830   \n",
       "37976                    NaN                 0.0390   \n",
       "37977                    NaN                 0.2420   \n",
       "\n",
       "       Potentiel en Hydrogène (pH) - Air  Potentiel en Hydrogène (pH) - Eau  \\\n",
       "0                                    NaN                                7.9   \n",
       "1                                    NaN                                7.9   \n",
       "2                                    NaN                                8.0   \n",
       "3                                    NaN                                7.7   \n",
       "4                                    NaN                                7.6   \n",
       "...                                  ...                                ...   \n",
       "37973                                NaN                                8.1   \n",
       "37974                                NaN                                7.8   \n",
       "37975                                NaN                                7.6   \n",
       "37976                                NaN                                8.3   \n",
       "37977                                NaN                                8.5   \n",
       "\n",
       "       Taux de saturation en oxygène - Air  \\\n",
       "0                                      NaN   \n",
       "1                                      NaN   \n",
       "2                                      NaN   \n",
       "3                                      NaN   \n",
       "4                                      NaN   \n",
       "...                                    ...   \n",
       "37973                                  NaN   \n",
       "37974                                  NaN   \n",
       "37975                                  NaN   \n",
       "37976                                  NaN   \n",
       "37977                                  NaN   \n",
       "\n",
       "       Taux de saturation en oxygène - Eau  Température de l'Eau - Air  \\\n",
       "0                                     89.0                         NaN   \n",
       "1                                     90.0                         NaN   \n",
       "2                                     83.0                         NaN   \n",
       "3                                     77.0                         NaN   \n",
       "4                                     63.0                         NaN   \n",
       "...                                    ...                         ...   \n",
       "37973                                103.4                         NaN   \n",
       "37974                                115.5                         NaN   \n",
       "37975                                 98.3                         NaN   \n",
       "37976                                 92.4                         NaN   \n",
       "37977                                 90.0                         NaN   \n",
       "\n",
       "       Température de l'Eau - Eau  Turbidité Formazine Néphélométrique - Eau  \\\n",
       "0                           18.60                                        NaN   \n",
       "1                           20.50                                        NaN   \n",
       "2                           20.60                                        NaN   \n",
       "3                           17.80                                        NaN   \n",
       "4                           17.30                                        NaN   \n",
       "...                           ...                                        ...   \n",
       "37973                       12.60                                       1.50   \n",
       "37974                       13.95                                       2.65   \n",
       "37975                       14.50                                      27.00   \n",
       "37976                       17.70                                       4.20   \n",
       "37977                       18.90                                        NaN   \n",
       "\n",
       "         I2M2  \n",
       "0      0.3004  \n",
       "1      0.3848  \n",
       "2      0.5756  \n",
       "3      0.3992  \n",
       "4      0.3383  \n",
       "...       ...  \n",
       "37973  0.4742  \n",
       "37974  0.5820  \n",
       "37975  0.6323  \n",
       "37976  0.6507  \n",
       "37977  0.4590  \n",
       "\n",
       "[37978 rows x 34 columns]"
      ]
     },
     "execution_count": 255,
     "metadata": {},
     "output_type": "execute_result"
    }
   ],
   "source": [
    "# avant de merge : combien y a de station et année et saison en commun\n",
    "common_keys = df_pivoted.merge(df_hydrobio_aggregated, on=['station', 'année', 'saison'], how='inner')\n",
    "common_keys"
   ]
  },
  {
   "cell_type": "code",
   "execution_count": 256,
   "metadata": {},
   "outputs": [],
   "source": [
    "df_pc_bio_saison_medianes = pd.merge(df_pivoted, df_hydrobio_aggregated, left_on=['station', 'année', 'saison'],\n",
    "                       right_on=['station', 'année', 'saison'], how='left')\n"
   ]
  },
  {
   "cell_type": "code",
   "execution_count": 257,
   "metadata": {},
   "outputs": [
    {
     "name": "stdout",
     "output_type": "stream",
     "text": [
      "taille avant jointure : 288975 et 43287\n",
      "taille après jointure : 288975\n"
     ]
    }
   ],
   "source": [
    "print(\"taille avant jointure :\", df_pivoted.shape[0], \"et\", df_hydrobio_aggregated.shape[0])\n",
    "print(\"taille après jointure :\", df_pc_bio_saison_medianes.shape[0])"
   ]
  },
  {
   "cell_type": "code",
   "execution_count": 258,
   "metadata": {},
   "outputs": [
    {
     "data": {
      "text/html": [
       "<div>\n",
       "<style scoped>\n",
       "    .dataframe tbody tr th:only-of-type {\n",
       "        vertical-align: middle;\n",
       "    }\n",
       "\n",
       "    .dataframe tbody tr th {\n",
       "        vertical-align: top;\n",
       "    }\n",
       "\n",
       "    .dataframe thead th {\n",
       "        text-align: right;\n",
       "    }\n",
       "</style>\n",
       "<table border=\"1\" class=\"dataframe\">\n",
       "  <thead>\n",
       "    <tr style=\"text-align: right;\">\n",
       "      <th></th>\n",
       "      <th>station</th>\n",
       "      <th>année</th>\n",
       "      <th>saison</th>\n",
       "      <th>Ammonium - Air</th>\n",
       "      <th>Ammonium - Eau</th>\n",
       "      <th>Azote Kjeldahl - Air</th>\n",
       "      <th>Azote Kjeldahl - Eau</th>\n",
       "      <th>Carbone Organique - Eau</th>\n",
       "      <th>Conductivité à 25°C - Air</th>\n",
       "      <th>Conductivité à 25°C - Eau</th>\n",
       "      <th>...</th>\n",
       "      <th>Phosphore total - Air</th>\n",
       "      <th>Phosphore total - Eau</th>\n",
       "      <th>Potentiel en Hydrogène (pH) - Air</th>\n",
       "      <th>Potentiel en Hydrogène (pH) - Eau</th>\n",
       "      <th>Taux de saturation en oxygène - Air</th>\n",
       "      <th>Taux de saturation en oxygène - Eau</th>\n",
       "      <th>Température de l'Eau - Air</th>\n",
       "      <th>Température de l'Eau - Eau</th>\n",
       "      <th>Turbidité Formazine Néphélométrique - Eau</th>\n",
       "      <th>I2M2</th>\n",
       "    </tr>\n",
       "  </thead>\n",
       "  <tbody>\n",
       "    <tr>\n",
       "      <th>7</th>\n",
       "      <td>5001800</td>\n",
       "      <td>2007</td>\n",
       "      <td>Été</td>\n",
       "      <td>NaN</td>\n",
       "      <td>0.0400</td>\n",
       "      <td>NaN</td>\n",
       "      <td>1.00</td>\n",
       "      <td>3.50</td>\n",
       "      <td>NaN</td>\n",
       "      <td>765.0</td>\n",
       "      <td>...</td>\n",
       "      <td>NaN</td>\n",
       "      <td>0.0500</td>\n",
       "      <td>NaN</td>\n",
       "      <td>7.9</td>\n",
       "      <td>NaN</td>\n",
       "      <td>89.0</td>\n",
       "      <td>NaN</td>\n",
       "      <td>18.60</td>\n",
       "      <td>NaN</td>\n",
       "      <td>0.3004</td>\n",
       "    </tr>\n",
       "    <tr>\n",
       "      <th>11</th>\n",
       "      <td>5001800</td>\n",
       "      <td>2008</td>\n",
       "      <td>Été</td>\n",
       "      <td>NaN</td>\n",
       "      <td>0.0400</td>\n",
       "      <td>NaN</td>\n",
       "      <td>1.00</td>\n",
       "      <td>2.70</td>\n",
       "      <td>NaN</td>\n",
       "      <td>765.0</td>\n",
       "      <td>...</td>\n",
       "      <td>NaN</td>\n",
       "      <td>0.1100</td>\n",
       "      <td>NaN</td>\n",
       "      <td>7.9</td>\n",
       "      <td>NaN</td>\n",
       "      <td>90.0</td>\n",
       "      <td>NaN</td>\n",
       "      <td>20.50</td>\n",
       "      <td>NaN</td>\n",
       "      <td>0.3848</td>\n",
       "    </tr>\n",
       "    <tr>\n",
       "      <th>15</th>\n",
       "      <td>5001800</td>\n",
       "      <td>2009</td>\n",
       "      <td>Été</td>\n",
       "      <td>NaN</td>\n",
       "      <td>0.0200</td>\n",
       "      <td>NaN</td>\n",
       "      <td>1.00</td>\n",
       "      <td>2.20</td>\n",
       "      <td>NaN</td>\n",
       "      <td>736.0</td>\n",
       "      <td>...</td>\n",
       "      <td>NaN</td>\n",
       "      <td>0.0700</td>\n",
       "      <td>NaN</td>\n",
       "      <td>8.0</td>\n",
       "      <td>NaN</td>\n",
       "      <td>83.0</td>\n",
       "      <td>NaN</td>\n",
       "      <td>20.60</td>\n",
       "      <td>NaN</td>\n",
       "      <td>0.5756</td>\n",
       "    </tr>\n",
       "    <tr>\n",
       "      <th>73</th>\n",
       "      <td>5004000</td>\n",
       "      <td>2007</td>\n",
       "      <td>Été</td>\n",
       "      <td>NaN</td>\n",
       "      <td>0.0400</td>\n",
       "      <td>NaN</td>\n",
       "      <td>1.00</td>\n",
       "      <td>2.80</td>\n",
       "      <td>NaN</td>\n",
       "      <td>683.0</td>\n",
       "      <td>...</td>\n",
       "      <td>NaN</td>\n",
       "      <td>0.0600</td>\n",
       "      <td>NaN</td>\n",
       "      <td>7.7</td>\n",
       "      <td>NaN</td>\n",
       "      <td>77.0</td>\n",
       "      <td>NaN</td>\n",
       "      <td>17.80</td>\n",
       "      <td>NaN</td>\n",
       "      <td>0.3992</td>\n",
       "    </tr>\n",
       "    <tr>\n",
       "      <th>77</th>\n",
       "      <td>5004000</td>\n",
       "      <td>2008</td>\n",
       "      <td>Été</td>\n",
       "      <td>NaN</td>\n",
       "      <td>0.0300</td>\n",
       "      <td>NaN</td>\n",
       "      <td>1.00</td>\n",
       "      <td>2.10</td>\n",
       "      <td>NaN</td>\n",
       "      <td>689.0</td>\n",
       "      <td>...</td>\n",
       "      <td>NaN</td>\n",
       "      <td>0.0900</td>\n",
       "      <td>NaN</td>\n",
       "      <td>7.6</td>\n",
       "      <td>NaN</td>\n",
       "      <td>63.0</td>\n",
       "      <td>NaN</td>\n",
       "      <td>17.30</td>\n",
       "      <td>NaN</td>\n",
       "      <td>0.3383</td>\n",
       "    </tr>\n",
       "    <tr>\n",
       "      <th>...</th>\n",
       "      <td>...</td>\n",
       "      <td>...</td>\n",
       "      <td>...</td>\n",
       "      <td>...</td>\n",
       "      <td>...</td>\n",
       "      <td>...</td>\n",
       "      <td>...</td>\n",
       "      <td>...</td>\n",
       "      <td>...</td>\n",
       "      <td>...</td>\n",
       "      <td>...</td>\n",
       "      <td>...</td>\n",
       "      <td>...</td>\n",
       "      <td>...</td>\n",
       "      <td>...</td>\n",
       "      <td>...</td>\n",
       "      <td>...</td>\n",
       "      <td>...</td>\n",
       "      <td>...</td>\n",
       "      <td>...</td>\n",
       "      <td>...</td>\n",
       "    </tr>\n",
       "    <tr>\n",
       "      <th>288954</th>\n",
       "      <td>3112740</td>\n",
       "      <td>2022</td>\n",
       "      <td>Été</td>\n",
       "      <td>NaN</td>\n",
       "      <td>0.0200</td>\n",
       "      <td>NaN</td>\n",
       "      <td>0.50</td>\n",
       "      <td>0.67</td>\n",
       "      <td>NaN</td>\n",
       "      <td>611.0</td>\n",
       "      <td>...</td>\n",
       "      <td>NaN</td>\n",
       "      <td>0.0310</td>\n",
       "      <td>NaN</td>\n",
       "      <td>8.1</td>\n",
       "      <td>NaN</td>\n",
       "      <td>103.4</td>\n",
       "      <td>NaN</td>\n",
       "      <td>12.60</td>\n",
       "      <td>1.50</td>\n",
       "      <td>0.4742</td>\n",
       "    </tr>\n",
       "    <tr>\n",
       "      <th>288961</th>\n",
       "      <td>6001219</td>\n",
       "      <td>2022</td>\n",
       "      <td>Printemps</td>\n",
       "      <td>NaN</td>\n",
       "      <td>0.0200</td>\n",
       "      <td>NaN</td>\n",
       "      <td>0.50</td>\n",
       "      <td>2.15</td>\n",
       "      <td>NaN</td>\n",
       "      <td>340.0</td>\n",
       "      <td>...</td>\n",
       "      <td>NaN</td>\n",
       "      <td>0.0385</td>\n",
       "      <td>NaN</td>\n",
       "      <td>7.8</td>\n",
       "      <td>NaN</td>\n",
       "      <td>115.5</td>\n",
       "      <td>NaN</td>\n",
       "      <td>13.95</td>\n",
       "      <td>2.65</td>\n",
       "      <td>0.5820</td>\n",
       "    </tr>\n",
       "    <tr>\n",
       "      <th>288966</th>\n",
       "      <td>3271785</td>\n",
       "      <td>2022</td>\n",
       "      <td>Été</td>\n",
       "      <td>NaN</td>\n",
       "      <td>0.0400</td>\n",
       "      <td>NaN</td>\n",
       "      <td>0.94</td>\n",
       "      <td>2.50</td>\n",
       "      <td>NaN</td>\n",
       "      <td>201.0</td>\n",
       "      <td>...</td>\n",
       "      <td>NaN</td>\n",
       "      <td>0.1830</td>\n",
       "      <td>NaN</td>\n",
       "      <td>7.6</td>\n",
       "      <td>NaN</td>\n",
       "      <td>98.3</td>\n",
       "      <td>NaN</td>\n",
       "      <td>14.50</td>\n",
       "      <td>27.00</td>\n",
       "      <td>0.6323</td>\n",
       "    </tr>\n",
       "    <tr>\n",
       "      <th>288970</th>\n",
       "      <td>3113000</td>\n",
       "      <td>2022</td>\n",
       "      <td>Été</td>\n",
       "      <td>NaN</td>\n",
       "      <td>0.0300</td>\n",
       "      <td>NaN</td>\n",
       "      <td>0.50</td>\n",
       "      <td>1.00</td>\n",
       "      <td>NaN</td>\n",
       "      <td>593.0</td>\n",
       "      <td>...</td>\n",
       "      <td>NaN</td>\n",
       "      <td>0.0390</td>\n",
       "      <td>NaN</td>\n",
       "      <td>8.3</td>\n",
       "      <td>NaN</td>\n",
       "      <td>92.4</td>\n",
       "      <td>NaN</td>\n",
       "      <td>17.70</td>\n",
       "      <td>4.20</td>\n",
       "      <td>0.6507</td>\n",
       "    </tr>\n",
       "    <tr>\n",
       "      <th>288974</th>\n",
       "      <td>6148115</td>\n",
       "      <td>2022</td>\n",
       "      <td>Été</td>\n",
       "      <td>NaN</td>\n",
       "      <td>0.0129</td>\n",
       "      <td>NaN</td>\n",
       "      <td>2.36</td>\n",
       "      <td>1.00</td>\n",
       "      <td>NaN</td>\n",
       "      <td>592.0</td>\n",
       "      <td>...</td>\n",
       "      <td>NaN</td>\n",
       "      <td>0.2420</td>\n",
       "      <td>NaN</td>\n",
       "      <td>8.5</td>\n",
       "      <td>NaN</td>\n",
       "      <td>90.0</td>\n",
       "      <td>NaN</td>\n",
       "      <td>18.90</td>\n",
       "      <td>NaN</td>\n",
       "      <td>0.4590</td>\n",
       "    </tr>\n",
       "  </tbody>\n",
       "</table>\n",
       "<p>37978 rows × 34 columns</p>\n",
       "</div>"
      ],
      "text/plain": [
       "        station  année     saison  Ammonium - Air  Ammonium - Eau  \\\n",
       "7       5001800   2007        Été             NaN          0.0400   \n",
       "11      5001800   2008        Été             NaN          0.0400   \n",
       "15      5001800   2009        Été             NaN          0.0200   \n",
       "73      5004000   2007        Été             NaN          0.0400   \n",
       "77      5004000   2008        Été             NaN          0.0300   \n",
       "...         ...    ...        ...             ...             ...   \n",
       "288954  3112740   2022        Été             NaN          0.0200   \n",
       "288961  6001219   2022  Printemps             NaN          0.0200   \n",
       "288966  3271785   2022        Été             NaN          0.0400   \n",
       "288970  3113000   2022        Été             NaN          0.0300   \n",
       "288974  6148115   2022        Été             NaN          0.0129   \n",
       "\n",
       "        Azote Kjeldahl - Air  Azote Kjeldahl - Eau  Carbone Organique - Eau  \\\n",
       "7                        NaN                  1.00                     3.50   \n",
       "11                       NaN                  1.00                     2.70   \n",
       "15                       NaN                  1.00                     2.20   \n",
       "73                       NaN                  1.00                     2.80   \n",
       "77                       NaN                  1.00                     2.10   \n",
       "...                      ...                   ...                      ...   \n",
       "288954                   NaN                  0.50                     0.67   \n",
       "288961                   NaN                  0.50                     2.15   \n",
       "288966                   NaN                  0.94                     2.50   \n",
       "288970                   NaN                  0.50                     1.00   \n",
       "288974                   NaN                  2.36                     1.00   \n",
       "\n",
       "        Conductivité à 25°C - Air  Conductivité à 25°C - Eau  ...  \\\n",
       "7                             NaN                      765.0  ...   \n",
       "11                            NaN                      765.0  ...   \n",
       "15                            NaN                      736.0  ...   \n",
       "73                            NaN                      683.0  ...   \n",
       "77                            NaN                      689.0  ...   \n",
       "...                           ...                        ...  ...   \n",
       "288954                        NaN                      611.0  ...   \n",
       "288961                        NaN                      340.0  ...   \n",
       "288966                        NaN                      201.0  ...   \n",
       "288970                        NaN                      593.0  ...   \n",
       "288974                        NaN                      592.0  ...   \n",
       "\n",
       "        Phosphore total - Air  Phosphore total - Eau  \\\n",
       "7                         NaN                 0.0500   \n",
       "11                        NaN                 0.1100   \n",
       "15                        NaN                 0.0700   \n",
       "73                        NaN                 0.0600   \n",
       "77                        NaN                 0.0900   \n",
       "...                       ...                    ...   \n",
       "288954                    NaN                 0.0310   \n",
       "288961                    NaN                 0.0385   \n",
       "288966                    NaN                 0.1830   \n",
       "288970                    NaN                 0.0390   \n",
       "288974                    NaN                 0.2420   \n",
       "\n",
       "        Potentiel en Hydrogène (pH) - Air  Potentiel en Hydrogène (pH) - Eau  \\\n",
       "7                                     NaN                                7.9   \n",
       "11                                    NaN                                7.9   \n",
       "15                                    NaN                                8.0   \n",
       "73                                    NaN                                7.7   \n",
       "77                                    NaN                                7.6   \n",
       "...                                   ...                                ...   \n",
       "288954                                NaN                                8.1   \n",
       "288961                                NaN                                7.8   \n",
       "288966                                NaN                                7.6   \n",
       "288970                                NaN                                8.3   \n",
       "288974                                NaN                                8.5   \n",
       "\n",
       "        Taux de saturation en oxygène - Air  \\\n",
       "7                                       NaN   \n",
       "11                                      NaN   \n",
       "15                                      NaN   \n",
       "73                                      NaN   \n",
       "77                                      NaN   \n",
       "...                                     ...   \n",
       "288954                                  NaN   \n",
       "288961                                  NaN   \n",
       "288966                                  NaN   \n",
       "288970                                  NaN   \n",
       "288974                                  NaN   \n",
       "\n",
       "        Taux de saturation en oxygène - Eau  Température de l'Eau - Air  \\\n",
       "7                                      89.0                         NaN   \n",
       "11                                     90.0                         NaN   \n",
       "15                                     83.0                         NaN   \n",
       "73                                     77.0                         NaN   \n",
       "77                                     63.0                         NaN   \n",
       "...                                     ...                         ...   \n",
       "288954                                103.4                         NaN   \n",
       "288961                                115.5                         NaN   \n",
       "288966                                 98.3                         NaN   \n",
       "288970                                 92.4                         NaN   \n",
       "288974                                 90.0                         NaN   \n",
       "\n",
       "        Température de l'Eau - Eau  Turbidité Formazine Néphélométrique - Eau  \\\n",
       "7                            18.60                                        NaN   \n",
       "11                           20.50                                        NaN   \n",
       "15                           20.60                                        NaN   \n",
       "73                           17.80                                        NaN   \n",
       "77                           17.30                                        NaN   \n",
       "...                            ...                                        ...   \n",
       "288954                       12.60                                       1.50   \n",
       "288961                       13.95                                       2.65   \n",
       "288966                       14.50                                      27.00   \n",
       "288970                       17.70                                       4.20   \n",
       "288974                       18.90                                        NaN   \n",
       "\n",
       "          I2M2  \n",
       "7       0.3004  \n",
       "11      0.3848  \n",
       "15      0.5756  \n",
       "73      0.3992  \n",
       "77      0.3383  \n",
       "...        ...  \n",
       "288954  0.4742  \n",
       "288961  0.5820  \n",
       "288966  0.6323  \n",
       "288970  0.6507  \n",
       "288974  0.4590  \n",
       "\n",
       "[37978 rows x 34 columns]"
      ]
     },
     "execution_count": 258,
     "metadata": {},
     "output_type": "execute_result"
    }
   ],
   "source": [
    "# affiche moi une ligne où I2M2 est pas null\n",
    "df_pc_bio_saison_medianes[df_pc_bio_saison_medianes['I2M2'].notnull()]"
   ]
  },
  {
   "cell_type": "code",
   "execution_count": 259,
   "metadata": {},
   "outputs": [
    {
     "data": {
      "text/plain": [
       "np.int64(250997)"
      ]
     },
     "execution_count": 259,
     "metadata": {},
     "output_type": "execute_result"
    }
   ],
   "source": [
    "# combien y a t il de station qui pour une saison (d'une année) sont sans valeurs de bio ?\n",
    "df_pc_bio_saison_medianes['I2M2'].isnull().sum()"
   ]
  },
  {
   "cell_type": "code",
   "execution_count": null,
   "metadata": {},
   "outputs": [],
   "source": [
    "# ça fait vraiment beaucoup : je sais pas si on va pouvoir apprendre quoi que ce soit"
   ]
  },
  {
   "cell_type": "code",
   "execution_count": null,
   "metadata": {},
   "outputs": [
    {
     "name": "stdout",
     "output_type": "stream",
     "text": [
      "    station  count  null_count\n",
      "0  01000274     24          24\n",
      "1  01000477     24          24\n",
      "2  01000602     24          24\n",
      "3  01000605     24          24\n",
      "4  01000729     24          24\n"
     ]
    }
   ],
   "source": [
    "# y a t il des stations qui n'ont jamais de correspondance avec les valeurs de bio ?\n",
    "\n",
    "# Compter le nombre d'occurrences de chaque station\n",
    "station_counts = df_pc_bio_saison_medianes.groupby('station').size().reset_index(name='count')\n",
    "\n",
    "# Compter le nombre de NaN dans 'I2M2' pour chaque station\n",
    "null_counts = df_pc_bio_saison_medianes[df_pc_bio_saison_medianes['I2M2'].isnull()] \\\n",
    "    .groupby('station').size().reset_index(name='null_count')\n",
    "\n",
    "# Fusionner les deux DataFrames (nombre d'occurrences et nombre de NaN)\n",
    "station_summary = pd.merge(station_counts, null_counts, on='station', how='left')\n",
    "\n",
    "# Remplir les NaN de 'null_count' avec 0 (au cas où il n'y a pas de NaN pour une station)\n",
    "station_summary['null_count'].fillna(0, inplace=True)\n",
    "\n",
    "# Afficher les résultats\n",
    "print(station_summary.head())\n"
   ]
  },
  {
   "cell_type": "code",
   "execution_count": 226,
   "metadata": {},
   "outputs": [
    {
     "data": {
      "text/html": [
       "<div>\n",
       "<style scoped>\n",
       "    .dataframe tbody tr th:only-of-type {\n",
       "        vertical-align: middle;\n",
       "    }\n",
       "\n",
       "    .dataframe tbody tr th {\n",
       "        vertical-align: top;\n",
       "    }\n",
       "\n",
       "    .dataframe thead th {\n",
       "        text-align: right;\n",
       "    }\n",
       "</style>\n",
       "<table border=\"1\" class=\"dataframe\">\n",
       "  <thead>\n",
       "    <tr style=\"text-align: right;\">\n",
       "      <th></th>\n",
       "      <th>station</th>\n",
       "      <th>count</th>\n",
       "      <th>null_count</th>\n",
       "    </tr>\n",
       "  </thead>\n",
       "  <tbody>\n",
       "    <tr>\n",
       "      <th>0</th>\n",
       "      <td>01000274</td>\n",
       "      <td>24</td>\n",
       "      <td>24</td>\n",
       "    </tr>\n",
       "    <tr>\n",
       "      <th>1</th>\n",
       "      <td>01000477</td>\n",
       "      <td>24</td>\n",
       "      <td>24</td>\n",
       "    </tr>\n",
       "    <tr>\n",
       "      <th>2</th>\n",
       "      <td>01000602</td>\n",
       "      <td>24</td>\n",
       "      <td>24</td>\n",
       "    </tr>\n",
       "    <tr>\n",
       "      <th>3</th>\n",
       "      <td>01000605</td>\n",
       "      <td>24</td>\n",
       "      <td>24</td>\n",
       "    </tr>\n",
       "    <tr>\n",
       "      <th>4</th>\n",
       "      <td>01000729</td>\n",
       "      <td>24</td>\n",
       "      <td>24</td>\n",
       "    </tr>\n",
       "    <tr>\n",
       "      <th>...</th>\n",
       "      <td>...</td>\n",
       "      <td>...</td>\n",
       "      <td>...</td>\n",
       "    </tr>\n",
       "    <tr>\n",
       "      <th>8804</th>\n",
       "      <td>06999153</td>\n",
       "      <td>37</td>\n",
       "      <td>37</td>\n",
       "    </tr>\n",
       "    <tr>\n",
       "      <th>8805</th>\n",
       "      <td>06999176</td>\n",
       "      <td>17</td>\n",
       "      <td>17</td>\n",
       "    </tr>\n",
       "    <tr>\n",
       "      <th>8806</th>\n",
       "      <td>06999178</td>\n",
       "      <td>13</td>\n",
       "      <td>13</td>\n",
       "    </tr>\n",
       "    <tr>\n",
       "      <th>8807</th>\n",
       "      <td>06999180</td>\n",
       "      <td>4</td>\n",
       "      <td>4</td>\n",
       "    </tr>\n",
       "    <tr>\n",
       "      <th>8808</th>\n",
       "      <td>06999189</td>\n",
       "      <td>7</td>\n",
       "      <td>7</td>\n",
       "    </tr>\n",
       "  </tbody>\n",
       "</table>\n",
       "<p>8809 rows × 3 columns</p>\n",
       "</div>"
      ],
      "text/plain": [
       "       station  count  null_count\n",
       "0     01000274     24          24\n",
       "1     01000477     24          24\n",
       "2     01000602     24          24\n",
       "3     01000605     24          24\n",
       "4     01000729     24          24\n",
       "...        ...    ...         ...\n",
       "8804  06999153     37          37\n",
       "8805  06999176     17          17\n",
       "8806  06999178     13          13\n",
       "8807  06999180      4           4\n",
       "8808  06999189      7           7\n",
       "\n",
       "[8809 rows x 3 columns]"
      ]
     },
     "execution_count": 226,
     "metadata": {},
     "output_type": "execute_result"
    }
   ],
   "source": [
    "# afficher le nombre de stations qui ont count = null_count\n",
    "station_summary[station_summary['count'] == station_summary['null_count']]"
   ]
  },
  {
   "cell_type": "code",
   "execution_count": 217,
   "metadata": {},
   "outputs": [
    {
     "name": "stdout",
     "output_type": "stream",
     "text": [
      "nombre de stations sans valeurs de bio : 8809\n",
      "nombre de stations en tout : 8809\n"
     ]
    }
   ],
   "source": [
    "# combien de stations en tout ?\n",
    "print(\"nombre de stations sans valeurs de bio :\", stations_without_i2m2.shape[0])\n",
    "print(\"nombre de stations en tout :\", df_pc_bio_saison_medianes['station'].nunique())"
   ]
  },
  {
   "cell_type": "markdown",
   "metadata": {},
   "source": [
    "# ZOE ICI STOP"
   ]
  },
  {
   "cell_type": "code",
   "execution_count": null,
   "metadata": {},
   "outputs": [],
   "source": []
  },
  {
   "cell_type": "markdown",
   "metadata": {},
   "source": [
    "## TODO : Aggrégation par mois"
   ]
  },
  {
   "cell_type": "code",
   "execution_count": null,
   "metadata": {},
   "outputs": [],
   "source": [
    "df_pc_monthly = df_cleaned.copy()\n",
    "df_pc_monthly['Mois'] = df_cleaned['DatePrel'].dt.month\n",
    "df_pc_monthly['Année'] = df_cleaned['DatePrel'].dt.year"
   ]
  },
  {
   "cell_type": "code",
   "execution_count": null,
   "metadata": {},
   "outputs": [
    {
     "data": {
      "text/plain": [
       "param\n",
       "Température de l'Eau - Eau                                   656418\n",
       "Potentiel en Hydrogène (pH) - Eau                            652628\n",
       "Conductivité à 25°C - Eau                                    649121\n",
       "Oxygène dissous - Eau                                        629463\n",
       "Taux de saturation en oxygène - Eau                          610779\n",
       "Matières en suspension - Eau                                 584610\n",
       "Phosphore total - Eau                                        565122\n",
       "Nitrates - Eau                                               545844\n",
       "Demande Biochimique en oxygène en 5 jours (D.B.O.5) - Eau    541160\n",
       "Orthophosphates (PO4) - Eau                                  539900\n",
       "Carbone Organique - Eau                                      534038\n",
       "Nitrites - Eau                                               530105\n",
       "Azote Kjeldahl - Eau                                         524334\n",
       "Ammonium - Eau                                               507401\n",
       "Turbidité Formazine Néphélométrique - Eau                    419605\n",
       "Diuron - Eau                                                 278229\n",
       "Conductivité à 25°C - Air                                      3432\n",
       "Potentiel en Hydrogène (pH) - Air                              3428\n",
       "Température de l'Eau - Air                                     3402\n",
       "Oxygène dissous - Air                                          3395\n",
       "Taux de saturation en oxygène - Air                            3169\n",
       "Nitrites - Air                                                 3149\n",
       "Nitrates - Air                                                 3149\n",
       "Orthophosphates (PO4) - Air                                    3149\n",
       "Matières en suspension - Air                                   3148\n",
       "Demande Biochimique en oxygène en 5 jours (D.B.O.5) - Air      3145\n",
       "Phosphore total - Air                                          3061\n",
       "Ammonium - Air                                                 3059\n",
       "Azote Kjeldahl - Air                                           2136\n",
       "Diuron - Air                                                   1046\n",
       "Name: count, dtype: int64"
      ]
     },
     "execution_count": 53,
     "metadata": {},
     "output_type": "execute_result"
    }
   ],
   "source": [
    "# quel paramètre est le plus mesuré ?\n",
    "df_pc_monthly['param'].value_counts()"
   ]
  },
  {
   "cell_type": "code",
   "execution_count": null,
   "metadata": {},
   "outputs": [],
   "source": [
    "# pour cha"
   ]
  },
  {
   "cell_type": "markdown",
   "metadata": {},
   "source": []
  },
  {
   "cell_type": "markdown",
   "metadata": {},
   "source": []
  },
  {
   "cell_type": "code",
   "execution_count": null,
   "metadata": {},
   "outputs": [],
   "source": []
  },
  {
   "cell_type": "code",
   "execution_count": null,
   "metadata": {},
   "outputs": [],
   "source": [
    "# TODO : \n",
    "seuils_I2M2 = {\n",
    "    \"Très bon\": 0.665,\n",
    "    \"Bon\": 0.443,\n",
    "    \"Moyen\": 0.295,\n",
    "    \"Médiocre\": 0.148,\n",
    "    \"Mauvais\": 0.0\n",
    "}\n",
    "# trouvés ici : https://www.labocea.fr/indice-invertebres-multi-metriques-i2m2/?cn-reloaded=1"
   ]
  },
  {
   "cell_type": "code",
   "execution_count": null,
   "metadata": {},
   "outputs": [],
   "source": []
  },
  {
   "cell_type": "code",
   "execution_count": null,
   "metadata": {},
   "outputs": [],
   "source": [
    "# TODO corrélations"
   ]
  },
  {
   "cell_type": "code",
   "execution_count": null,
   "metadata": {},
   "outputs": [],
   "source": [
    "# TODO : faire un clustering avec nb clusters = nb de hydroregions\n",
    "# TODO : afficher les clusters sur la carte\n",
    "# TODO puis afficher quels attrbiuts"
   ]
  },
  {
   "cell_type": "code",
   "execution_count": null,
   "metadata": {},
   "outputs": [],
   "source": [
    "\n",
    "# TODO : une fois clean et join : situer sur la carte les stations des hydro ecoregions"
   ]
  }
 ],
 "metadata": {
  "kernelspec": {
   "display_name": "Python 3",
   "language": "python",
   "name": "python3"
  },
  "language_info": {
   "codemirror_mode": {
    "name": "ipython",
    "version": 3
   },
   "file_extension": ".py",
   "mimetype": "text/x-python",
   "name": "python",
   "nbconvert_exporter": "python",
   "pygments_lexer": "ipython3",
   "version": "3.9.6"
  }
 },
 "nbformat": 4,
 "nbformat_minor": 2
}
